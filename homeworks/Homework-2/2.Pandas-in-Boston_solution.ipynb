{
 "metadata": {
  "name": "",
  "signature": "sha256:0c7ab174f24d102fb9aaaec4a1c861b6622e4fb36454f31305fbc969082491c1"
 },
 "nbformat": 3,
 "nbformat_minor": 0,
 "worksheets": [
  {
   "cells": [
    {
     "cell_type": "markdown",
     "metadata": {},
     "source": [
      "(In order to load the stylesheet of this notebook, execute the last code cell in this notebook)"
     ]
    },
    {
     "cell_type": "heading",
     "level": 1,
     "metadata": {},
     "source": [
      "Analyze the data from the Mayor's 24-hour hotline in Boston using Pandas"
     ]
    },
    {
     "cell_type": "heading",
     "level": 2,
     "metadata": {},
     "source": [
      "Introduction "
     ]
    },
    {
     "cell_type": "markdown",
     "metadata": {},
     "source": [
      "In this assignment, we will practice some basic skills on working with data. We will see how to read, access, clean, filter and plot a dataset.\n",
      "\n",
      "---------------------------"
     ]
    },
    {
     "cell_type": "heading",
     "level": 2,
     "metadata": {},
     "source": [
      "Step 1. Downaloading the data"
     ]
    },
    {
     "cell_type": "markdown",
     "metadata": {},
     "source": [
      "The data that we will be using are freely available online, by the [City of Boston](https://data.cityofboston.gov/). A brief description of the 311 service can be found [here](http://www.cityofboston.gov/mayor/24/). You can download the whole dataset, which extends from 2011 until now (updated every day) from [here](https://data.cityofboston.gov/City-Services/Mayor-s-24-Hour-Hotline-Service-Requests/awu8-dc52?). However, it contains over 555,000 records and, as a result, it's more than 245 MB in size. In the homework repository, you can find a small part of it that covers the months of January-February 2015, under the filename `cases_2015.csv`."
     ]
    },
    {
     "cell_type": "markdown",
     "metadata": {},
     "source": [
      "During these two months, Boston experienced one of the highest levels of snowfalls. We will take this opportunity and see how this situation affected the 311 center. We will also be using data from [NOAA National Climatic Data Center](http://www.ncdc.noaa.gov/cdo-web/) regarding the levels of snowfall for the dates that we are interested in. This dataset is also available in our repository for your convenience under the file `snow.csv`. You can read its documentation [here](http://www.ncdc.noaa.gov/cdo-web/datasets)."
     ]
    },
    {
     "cell_type": "markdown",
     "metadata": {},
     "source": [
      "-----------------"
     ]
    },
    {
     "cell_type": "heading",
     "level": 2,
     "metadata": {},
     "source": [
      "Step 2. Reading the data"
     ]
    },
    {
     "cell_type": "markdown",
     "metadata": {},
     "source": [
      "The first thing we want to do is load the data as Pandas *DataFrames*."
     ]
    },
    {
     "cell_type": "code",
     "collapsed": false,
     "input": [
      "%matplotlib inline\n",
      "import pandas as pd\n",
      "import seaborn as sns\n",
      "from datetime import datetime\n",
      "from matplotlib import pyplot as plt"
     ],
     "language": "python",
     "metadata": {},
     "outputs": [],
     "prompt_number": 1
    },
    {
     "cell_type": "code",
     "collapsed": false,
     "input": [
      "boston = pd.read_csv('cases_2015.csv')"
     ],
     "language": "python",
     "metadata": {},
     "outputs": [],
     "prompt_number": 2
    },
    {
     "cell_type": "markdown",
     "metadata": {},
     "source": [
      "We need to take a brief look at the data, so that we get an intuition about what we are dealing with. Your first task is to do just that: print some part of the dataset **(5 pts)**"
     ]
    },
    {
     "cell_type": "code",
     "collapsed": false,
     "input": [
      "# Print part of the dataset here\n",
      "boston.tail()"
     ],
     "language": "python",
     "metadata": {},
     "outputs": [
      {
       "html": [
        "<div style=\"max-height:1000px;max-width:1500px;overflow:auto;\">\n",
        "<table border=\"1\" class=\"dataframe\">\n",
        "  <thead>\n",
        "    <tr style=\"text-align: right;\">\n",
        "      <th></th>\n",
        "      <th>CASE_ENQUIRY_ID</th>\n",
        "      <th>OPEN_DT</th>\n",
        "      <th>TARGET_DT</th>\n",
        "      <th>CLOSED_DT</th>\n",
        "      <th>OnTime_Status</th>\n",
        "      <th>CASE_STATUS</th>\n",
        "      <th>CLOSURE_REASON</th>\n",
        "      <th>CASE_TITLE</th>\n",
        "      <th>SUBJECT</th>\n",
        "      <th>REASON</th>\n",
        "      <th>...</th>\n",
        "      <th>precinct</th>\n",
        "      <th>land_usage</th>\n",
        "      <th>LOCATION_STREET_NAME</th>\n",
        "      <th>LOCATION_ZIPCODE</th>\n",
        "      <th>Property_Type</th>\n",
        "      <th>Property_ID</th>\n",
        "      <th>LATITUDE</th>\n",
        "      <th>LONGITUDE</th>\n",
        "      <th>Source</th>\n",
        "      <th>Geocoded_Location</th>\n",
        "    </tr>\n",
        "  </thead>\n",
        "  <tbody>\n",
        "    <tr>\n",
        "      <th>46693</th>\n",
        "      <td> 101001295400</td>\n",
        "      <td> 2015-02-14 23:37:51</td>\n",
        "      <td> 2015-02-19 08:30:00</td>\n",
        "      <td> NaN</td>\n",
        "      <td> ONTIME</td>\n",
        "      <td> Open</td>\n",
        "      <td> NaN</td>\n",
        "      <td>                       Request for Snow Plowing</td>\n",
        "      <td> Public Works Department</td>\n",
        "      <td>                   Street Cleaning</td>\n",
        "      <td>...</td>\n",
        "      <td> 1901</td>\n",
        "      <td>  R2</td>\n",
        "      <td> 110-112 Paul Gore St</td>\n",
        "      <td> 2130</td>\n",
        "      <td> Address</td>\n",
        "      <td> 108519</td>\n",
        "      <td> 42.3187</td>\n",
        "      <td>-71.1061</td>\n",
        "      <td> Citizens Connect App</td>\n",
        "      <td> (42.3187, -71.1061)</td>\n",
        "    </tr>\n",
        "    <tr>\n",
        "      <th>46694</th>\n",
        "      <td> 101001295401</td>\n",
        "      <td> 2015-02-14 23:41:25</td>\n",
        "      <td>                 NaN</td>\n",
        "      <td> NaN</td>\n",
        "      <td> ONTIME</td>\n",
        "      <td> Open</td>\n",
        "      <td> NaN</td>\n",
        "      <td> Request for Snow Plowing (Emergency Responder)</td>\n",
        "      <td> Public Works Department</td>\n",
        "      <td>                   Street Cleaning</td>\n",
        "      <td>...</td>\n",
        "      <td> 1807</td>\n",
        "      <td>   C</td>\n",
        "      <td>    456 Hyde Park Ave</td>\n",
        "      <td> 2131</td>\n",
        "      <td> Address</td>\n",
        "      <td> 157930</td>\n",
        "      <td> 42.2850</td>\n",
        "      <td>-71.1187</td>\n",
        "      <td>     Constituent Call</td>\n",
        "      <td>  (42.285, -71.1187)</td>\n",
        "    </tr>\n",
        "    <tr>\n",
        "      <th>46695</th>\n",
        "      <td> 101001295402</td>\n",
        "      <td> 2015-02-14 23:46:19</td>\n",
        "      <td> 2015-02-24 08:30:00</td>\n",
        "      <td> NaN</td>\n",
        "      <td> ONTIME</td>\n",
        "      <td> Open</td>\n",
        "      <td> NaN</td>\n",
        "      <td>                                   Snow Removal</td>\n",
        "      <td>   Inspectional Services</td>\n",
        "      <td>                  Code Enforcement</td>\n",
        "      <td>...</td>\n",
        "      <td> 1803</td>\n",
        "      <td>  R3</td>\n",
        "      <td>   1450 Blue Hill Ave</td>\n",
        "      <td> 2126</td>\n",
        "      <td> Address</td>\n",
        "      <td> 189748</td>\n",
        "      <td> 42.2745</td>\n",
        "      <td>-71.0932</td>\n",
        "      <td>         Self Service</td>\n",
        "      <td> (42.2745, -71.0932)</td>\n",
        "    </tr>\n",
        "    <tr>\n",
        "      <th>46696</th>\n",
        "      <td> 101001295406</td>\n",
        "      <td> 2015-02-14 23:53:09</td>\n",
        "      <td> 2015-03-03 08:30:00</td>\n",
        "      <td> NaN</td>\n",
        "      <td> ONTIME</td>\n",
        "      <td> Open</td>\n",
        "      <td> NaN</td>\n",
        "      <td>                         PublicWorks: Complaint</td>\n",
        "      <td> Mayor's 24 Hour Hotline</td>\n",
        "      <td>       Employee &amp; General Comments</td>\n",
        "      <td>...</td>\n",
        "      <td>  NaN</td>\n",
        "      <td> NaN</td>\n",
        "      <td>                  NaN</td>\n",
        "      <td>  NaN</td>\n",
        "      <td>     NaN</td>\n",
        "      <td>    NaN</td>\n",
        "      <td> 42.3594</td>\n",
        "      <td>-71.0587</td>\n",
        "      <td>     Constituent Call</td>\n",
        "      <td> (42.3594, -71.0587)</td>\n",
        "    </tr>\n",
        "    <tr>\n",
        "      <th>46697</th>\n",
        "      <td> 101001295407</td>\n",
        "      <td> 2015-02-15 00:00:17</td>\n",
        "      <td>                 NaN</td>\n",
        "      <td> NaN</td>\n",
        "      <td> ONTIME</td>\n",
        "      <td> Open</td>\n",
        "      <td> NaN</td>\n",
        "      <td>                           Misc. Snow Complaint</td>\n",
        "      <td> Public Works Department</td>\n",
        "      <td> Administrative &amp; General Requests</td>\n",
        "      <td>...</td>\n",
        "      <td> 1803</td>\n",
        "      <td>  R3</td>\n",
        "      <td>   1438 Blue Hill Ave</td>\n",
        "      <td> 2126</td>\n",
        "      <td> Address</td>\n",
        "      <td>  16276</td>\n",
        "      <td> 42.2749</td>\n",
        "      <td>-71.0932</td>\n",
        "      <td>     Constituent Call</td>\n",
        "      <td> (42.2749, -71.0932)</td>\n",
        "    </tr>\n",
        "  </tbody>\n",
        "</table>\n",
        "<p>5 rows \u00d7 33 columns</p>\n",
        "</div>"
       ],
       "metadata": {},
       "output_type": "pyout",
       "prompt_number": 3,
       "text": [
        "       CASE_ENQUIRY_ID              OPEN_DT            TARGET_DT CLOSED_DT  \\\n",
        "46693     101001295400  2015-02-14 23:37:51  2015-02-19 08:30:00       NaN   \n",
        "46694     101001295401  2015-02-14 23:41:25                  NaN       NaN   \n",
        "46695     101001295402  2015-02-14 23:46:19  2015-02-24 08:30:00       NaN   \n",
        "46696     101001295406  2015-02-14 23:53:09  2015-03-03 08:30:00       NaN   \n",
        "46697     101001295407  2015-02-15 00:00:17                  NaN       NaN   \n",
        "\n",
        "      OnTime_Status CASE_STATUS CLOSURE_REASON  \\\n",
        "46693        ONTIME        Open            NaN   \n",
        "46694        ONTIME        Open            NaN   \n",
        "46695        ONTIME        Open            NaN   \n",
        "46696        ONTIME        Open            NaN   \n",
        "46697        ONTIME        Open            NaN   \n",
        "\n",
        "                                           CASE_TITLE  \\\n",
        "46693                        Request for Snow Plowing   \n",
        "46694  Request for Snow Plowing (Emergency Responder)   \n",
        "46695                                    Snow Removal   \n",
        "46696                          PublicWorks: Complaint   \n",
        "46697                            Misc. Snow Complaint   \n",
        "\n",
        "                       SUBJECT                             REASON  \\\n",
        "46693  Public Works Department                    Street Cleaning   \n",
        "46694  Public Works Department                    Street Cleaning   \n",
        "46695    Inspectional Services                   Code Enforcement   \n",
        "46696  Mayor's 24 Hour Hotline        Employee & General Comments   \n",
        "46697  Public Works Department  Administrative & General Requests   \n",
        "\n",
        "              ...          precinct land_usage  LOCATION_STREET_NAME  \\\n",
        "46693         ...              1901         R2  110-112 Paul Gore St   \n",
        "46694         ...              1807          C     456 Hyde Park Ave   \n",
        "46695         ...              1803         R3    1450 Blue Hill Ave   \n",
        "46696         ...               NaN        NaN                   NaN   \n",
        "46697         ...              1803         R3    1438 Blue Hill Ave   \n",
        "\n",
        "      LOCATION_ZIPCODE Property_Type Property_ID  LATITUDE LONGITUDE  \\\n",
        "46693             2130       Address      108519   42.3187  -71.1061   \n",
        "46694             2131       Address      157930   42.2850  -71.1187   \n",
        "46695             2126       Address      189748   42.2745  -71.0932   \n",
        "46696              NaN           NaN         NaN   42.3594  -71.0587   \n",
        "46697             2126       Address       16276   42.2749  -71.0932   \n",
        "\n",
        "                     Source    Geocoded_Location  \n",
        "46693  Citizens Connect App  (42.3187, -71.1061)  \n",
        "46694      Constituent Call   (42.285, -71.1187)  \n",
        "46695          Self Service  (42.2745, -71.0932)  \n",
        "46696      Constituent Call  (42.3594, -71.0587)  \n",
        "46697      Constituent Call  (42.2749, -71.0932)  \n",
        "\n",
        "[5 rows x 33 columns]"
       ]
      }
     ],
     "prompt_number": 3
    },
    {
     "cell_type": "markdown",
     "metadata": {},
     "source": [
      "Another useful thing is to get a short summary of the columns and their data types. Make a call to the required function for this **(5 pts)**"
     ]
    },
    {
     "cell_type": "code",
     "collapsed": false,
     "input": [
      "# Print information about the columns of the dataset\n",
      "boston.info()"
     ],
     "language": "python",
     "metadata": {},
     "outputs": [
      {
       "output_type": "stream",
       "stream": "stdout",
       "text": [
        "<class 'pandas.core.frame.DataFrame'>\n",
        "Int64Index: 46698 entries, 0 to 46697\n",
        "Data columns (total 33 columns):\n",
        "CASE_ENQUIRY_ID                   46698 non-null int64\n",
        "OPEN_DT                           46698 non-null object\n",
        "TARGET_DT                         41129 non-null object\n",
        "CLOSED_DT                         35141 non-null object\n",
        "OnTime_Status                     46694 non-null object\n",
        "CASE_STATUS                       46698 non-null object\n",
        "CLOSURE_REASON                    35175 non-null object\n",
        "CASE_TITLE                        46679 non-null object\n",
        "SUBJECT                           46698 non-null object\n",
        "REASON                            46698 non-null object\n",
        "TYPE                              46698 non-null object\n",
        "QUEUE                             46698 non-null object\n",
        "Department                        46698 non-null object\n",
        "SubmittedPhoto                    7245 non-null object\n",
        "ClosedPhoto                       1217 non-null object\n",
        "Location                          44442 non-null object\n",
        "fire_district                     44229 non-null float64\n",
        "pwd_district                      44338 non-null object\n",
        "city_council_district             44431 non-null float64\n",
        "police_district                   44358 non-null object\n",
        "neighborhood                      44402 non-null object\n",
        "neighborhood_services_district    44431 non-null float64\n",
        "ward                              44438 non-null object\n",
        "precinct                          44297 non-null float64\n",
        "land_usage                        33332 non-null object\n",
        "LOCATION_STREET_NAME              44442 non-null object\n",
        "LOCATION_ZIPCODE                  35291 non-null float64\n",
        "Property_Type                     44442 non-null object\n",
        "Property_ID                       44442 non-null float64\n",
        "LATITUDE                          46698 non-null float64\n",
        "LONGITUDE                         46698 non-null float64\n",
        "Source                            46698 non-null object\n",
        "Geocoded_Location                 46698 non-null object\n",
        "dtypes: float64(8), int64(1), object(24)\n",
        "memory usage: 12.1+ MB\n"
       ]
      }
     ],
     "prompt_number": 4
    },
    {
     "cell_type": "markdown",
     "metadata": {},
     "source": [
      "As you can see, the `OPEN_DT`, `TARGET_DT`, and `CLOSED_DT` columns, all of which should be dates, have been misclassified as `object` instead of datetime. Re-write the code that reads from a csv, in order to parse the above columns as datetimes. **(5 pts)**"
     ]
    },
    {
     "cell_type": "code",
     "collapsed": false,
     "input": [
      "# Read the date columns as datetime objects\n",
      "boston = pd.read_csv('cases_2015.csv', parse_dates=[1,2,3])"
     ],
     "language": "python",
     "metadata": {},
     "outputs": [],
     "prompt_number": 5
    },
    {
     "cell_type": "markdown",
     "metadata": {},
     "source": [
      "Make sure that the column data types are exactly as expected:"
     ]
    },
    {
     "cell_type": "code",
     "collapsed": false,
     "input": [
      "# Print the data types of the columns again\n",
      "boston.info()"
     ],
     "language": "python",
     "metadata": {},
     "outputs": [
      {
       "output_type": "stream",
       "stream": "stdout",
       "text": [
        "<class 'pandas.core.frame.DataFrame'>\n",
        "Int64Index: 46698 entries, 0 to 46697\n",
        "Data columns (total 33 columns):\n",
        "CASE_ENQUIRY_ID                   46698 non-null int64\n",
        "OPEN_DT                           46698 non-null datetime64[ns]\n",
        "TARGET_DT                         41129 non-null datetime64[ns]\n",
        "CLOSED_DT                         35141 non-null datetime64[ns]\n",
        "OnTime_Status                     46694 non-null object\n",
        "CASE_STATUS                       46698 non-null object\n",
        "CLOSURE_REASON                    35175 non-null object\n",
        "CASE_TITLE                        46679 non-null object\n",
        "SUBJECT                           46698 non-null object\n",
        "REASON                            46698 non-null object\n",
        "TYPE                              46698 non-null object\n",
        "QUEUE                             46698 non-null object\n",
        "Department                        46698 non-null object\n",
        "SubmittedPhoto                    7245 non-null object\n",
        "ClosedPhoto                       1217 non-null object\n",
        "Location                          44442 non-null object\n",
        "fire_district                     44229 non-null float64\n",
        "pwd_district                      44338 non-null object\n",
        "city_council_district             44431 non-null float64\n",
        "police_district                   44358 non-null object\n",
        "neighborhood                      44402 non-null object\n",
        "neighborhood_services_district    44431 non-null float64\n",
        "ward                              44438 non-null object\n",
        "precinct                          44297 non-null float64\n",
        "land_usage                        33332 non-null object\n",
        "LOCATION_STREET_NAME              44442 non-null object\n",
        "LOCATION_ZIPCODE                  35291 non-null float64\n",
        "Property_Type                     44442 non-null object\n",
        "Property_ID                       44442 non-null float64\n",
        "LATITUDE                          46698 non-null float64\n",
        "LONGITUDE                         46698 non-null float64\n",
        "Source                            46698 non-null object\n",
        "Geocoded_Location                 46698 non-null object\n",
        "dtypes: datetime64[ns](3), float64(8), int64(1), object(21)\n",
        "memory usage: 12.1+ MB\n"
       ]
      }
     ],
     "prompt_number": 6
    },
    {
     "cell_type": "heading",
     "level": 2,
     "metadata": {},
     "source": [
      "Step 3. Filtering and plotting the data"
     ]
    },
    {
     "cell_type": "markdown",
     "metadata": {},
     "source": [
      "Now that we read the data and took a quick look, we can start playing around with it. As you have already noticed, there is very little documentation on the dataset itself. In such occasions, we need to look at the dataset very extensively, to get a good feel of its structure. This part, together with what we will do next, is a significant part of the *data cleaning* process."
     ]
    },
    {
     "cell_type": "markdown",
     "metadata": {},
     "source": [
      "To practice our filtering skills, let's try to isolate the cases that were opened in February **(5 pts)**"
     ]
    },
    {
     "cell_type": "code",
     "collapsed": false,
     "input": [
      "# Write code that filters the dataframe and keeps only the cases that were opened in February\n",
      "february = boston[(boston['OPEN_DT'] >= datetime(2015,2,1))]"
     ],
     "language": "python",
     "metadata": {},
     "outputs": [],
     "prompt_number": 7
    },
    {
     "cell_type": "markdown",
     "metadata": {},
     "source": [
      "Can you do the same thing, but only for the cases that are still remaining open? **(5 pts)**"
     ]
    },
    {
     "cell_type": "code",
     "collapsed": false,
     "input": [
      "# Write a code that also filters for open cases\n",
      "february_open = boston[(boston['OPEN_DT'] >= datetime(2015,2,1)) & (boston['CASE_STATUS'] == \"Open\")]"
     ],
     "language": "python",
     "metadata": {},
     "outputs": [],
     "prompt_number": 8
    },
    {
     "cell_type": "markdown",
     "metadata": {},
     "source": [
      "Great! Now, let's check all the different values of the column `CASE_TITLE` together with their counts **(5 pts)**"
     ]
    },
    {
     "cell_type": "code",
     "collapsed": false,
     "input": [
      "# Write code that prints the different values of the column 'CASE_TITLE'\n",
      "# and the count for the occurencies of each value in the boston dataframe\n",
      "boston['CASE_TITLE'].value_counts()"
     ],
     "language": "python",
     "metadata": {},
     "outputs": [
      {
       "metadata": {},
       "output_type": "pyout",
       "prompt_number": 9,
       "text": [
        "Request for Snow Plowing                          18619\n",
        "Snow Removal                                       7434\n",
        "Requests for Street Cleaning                       1083\n",
        "Request for Pothole Repair                          810\n",
        "Misc. Snow Complaint                                768\n",
        "Schedule a Bulk Item Pickup                         746\n",
        "Heat - Excessive  Insufficient                      518\n",
        "Empty Litter Basket                                 489\n",
        "Request for Snow Plowing (Emergency Responder)      464\n",
        "Traffic Signal Repair                               464\n",
        "Parking Enforcement                                 458\n",
        "Other: Complaint                                    437\n",
        "PWD Graffiti                                        432\n",
        "PublicWorks: Complaint                              428\n",
        "Schedule Bulk Item Pickup                           374\n",
        "...\n",
        "missing pb cover/printed for jim                                1\n",
        "Misc.: Public Garden: Park Improvement: Public Garden           1\n",
        "Ground Maintenance: Symphony Community Park  Symphony Community Park    1\n",
        "Ground Maintenance: Non - Parks Facility                        1\n",
        "Graffiti: Ward 21  2104  Other                                  1\n",
        "street light pole                                               1\n",
        "Tree In Park: McLean Playground; East Boston                    1\n",
        "General Lighting Request ( COntractor )                         1\n",
        "Eliot Pearson School                                            1\n",
        "Street Light Outages/sent to contractors queue                  1\n",
        "Ground Maintenance: Msgr. Francis A. Ryan Park                  1\n",
        "Graffiti: Ward 21  2103  Other                                  1\n",
        "Ground Maintenance: Forbes St. Playground                       1\n",
        "Street Light Outages/LAMP #N4287XXX  606 E. Fourth St/sent      1\n",
        "Graffiti: Ward 13  1310                                         1\n",
        "Length: 781, dtype: int64"
       ]
      }
     ],
     "prompt_number": 9
    },
    {
     "cell_type": "markdown",
     "metadata": {},
     "source": [
      "During this process, you may encounter many strange things, that look like outliers. For example, you may notice that there are many values for `CASE_TITLE` which only occur once. One such example is the category\n",
      "```\n",
      "\"missing pb cover/printed for jim\"\n",
      "```\n",
      "I really wonder what this means! Try retrieving and printing the whole row **(5 pts)**"
     ]
    },
    {
     "cell_type": "code",
     "collapsed": false,
     "input": [
      "# Print the row tht has CASE_TITLE \"missing pb cover/printed for jim\"\n",
      "boston[(boston['CASE_TITLE'] == \"missing pb cover/printed for jim\")]"
     ],
     "language": "python",
     "metadata": {},
     "outputs": [
      {
       "html": [
        "<div style=\"max-height:1000px;max-width:1500px;overflow:auto;\">\n",
        "<table border=\"1\" class=\"dataframe\">\n",
        "  <thead>\n",
        "    <tr style=\"text-align: right;\">\n",
        "      <th></th>\n",
        "      <th>CASE_ENQUIRY_ID</th>\n",
        "      <th>OPEN_DT</th>\n",
        "      <th>TARGET_DT</th>\n",
        "      <th>CLOSED_DT</th>\n",
        "      <th>OnTime_Status</th>\n",
        "      <th>CASE_STATUS</th>\n",
        "      <th>CLOSURE_REASON</th>\n",
        "      <th>CASE_TITLE</th>\n",
        "      <th>SUBJECT</th>\n",
        "      <th>REASON</th>\n",
        "      <th>...</th>\n",
        "      <th>precinct</th>\n",
        "      <th>land_usage</th>\n",
        "      <th>LOCATION_STREET_NAME</th>\n",
        "      <th>LOCATION_ZIPCODE</th>\n",
        "      <th>Property_Type</th>\n",
        "      <th>Property_ID</th>\n",
        "      <th>LATITUDE</th>\n",
        "      <th>LONGITUDE</th>\n",
        "      <th>Source</th>\n",
        "      <th>Geocoded_Location</th>\n",
        "    </tr>\n",
        "  </thead>\n",
        "  <tbody>\n",
        "    <tr>\n",
        "      <th>585</th>\n",
        "      <td> 101001241573</td>\n",
        "      <td>2015-01-02 23:18:08</td>\n",
        "      <td>2015-02-16 23:18:08</td>\n",
        "      <td>NaT</td>\n",
        "      <td> ONTIME</td>\n",
        "      <td> Open</td>\n",
        "      <td> NaN</td>\n",
        "      <td> missing pb cover/printed for jim</td>\n",
        "      <td> Public Works Department</td>\n",
        "      <td> Street Lights</td>\n",
        "      <td>...</td>\n",
        "      <td> 807</td>\n",
        "      <td> NaN</td>\n",
        "      <td> INTERSECTION Blue Hill Ave &amp; Mount Pleasant Ave</td>\n",
        "      <td>NaN</td>\n",
        "      <td> Intersection</td>\n",
        "      <td> 1606</td>\n",
        "      <td> 42.3253</td>\n",
        "      <td>-71.075</td>\n",
        "      <td> Constituent Call</td>\n",
        "      <td> (42.3253, -71.075)</td>\n",
        "    </tr>\n",
        "  </tbody>\n",
        "</table>\n",
        "<p>1 rows \u00d7 33 columns</p>\n",
        "</div>"
       ],
       "metadata": {},
       "output_type": "pyout",
       "prompt_number": 10,
       "text": [
        "     CASE_ENQUIRY_ID             OPEN_DT           TARGET_DT CLOSED_DT  \\\n",
        "585     101001241573 2015-01-02 23:18:08 2015-02-16 23:18:08       NaT   \n",
        "\n",
        "    OnTime_Status CASE_STATUS CLOSURE_REASON  \\\n",
        "585        ONTIME        Open            NaN   \n",
        "\n",
        "                           CASE_TITLE                  SUBJECT         REASON  \\\n",
        "585  missing pb cover/printed for jim  Public Works Department  Street Lights   \n",
        "\n",
        "            ...         precinct land_usage  \\\n",
        "585         ...              807        NaN   \n",
        "\n",
        "                                LOCATION_STREET_NAME LOCATION_ZIPCODE  \\\n",
        "585  INTERSECTION Blue Hill Ave & Mount Pleasant Ave              NaN   \n",
        "\n",
        "    Property_Type Property_ID  LATITUDE LONGITUDE            Source  \\\n",
        "585  Intersection        1606   42.3253   -71.075  Constituent Call   \n",
        "\n",
        "      Geocoded_Location  \n",
        "585  (42.3253, -71.075)  \n",
        "\n",
        "[1 rows x 33 columns]"
       ]
      }
     ],
     "prompt_number": 10
    },
    {
     "cell_type": "markdown",
     "metadata": {},
     "source": [
      "There's another category which seems interesting, `Heat - Excessive Insufficient`. Write code that prints the first 10 rows of the dataset that have `CASE_TITLE` which starts with \"Heat\" and see if you can understand what this stands for **(15 pts)**"
     ]
    },
    {
     "cell_type": "code",
     "collapsed": false,
     "input": [
      "heat = boston[(boston['CASE_TITLE'].fillna(\"\").str.startswith(\"Heat\"))]\n",
      "\n",
      "for idx, row in heat.iloc[:10,:].iterrows():\n",
      "    print row"
     ],
     "language": "python",
     "metadata": {},
     "outputs": [
      {
       "output_type": "stream",
       "stream": "stdout",
       "text": [
        "CASE_ENQUIRY_ID                                             101001240754\n",
        "OPEN_DT                                              2015-01-01 07:27:13\n",
        "TARGET_DT                                            2015-01-31 07:27:13\n",
        "CLOSED_DT                                                            NaN\n",
        "OnTime_Status                                                    OVERDUE\n",
        "CASE_STATUS                                                         Open\n",
        "CLOSURE_REASON                                                       NaN\n",
        "CASE_TITLE                                Heat - Excessive  Insufficient\n",
        "SUBJECT                                            Inspectional Services\n",
        "REASON                                                           Housing\n",
        "TYPE                                      Heat - Excessive  Insufficient\n",
        "QUEUE                                             ISD_Housing (INTERNAL)\n",
        "Department                                                           ISD\n",
        "SubmittedPhoto                                                       NaN\n",
        "ClosedPhoto                                                          NaN\n",
        "Location                          1744 Washington St  Roxbury  MA  02118\n",
        "fire_district                                                          4\n",
        "pwd_district                                                          1C\n",
        "city_council_district                                                  2\n",
        "police_district                                                       D4\n",
        "neighborhood                                                   South End\n",
        "neighborhood_services_district                                         6\n",
        "ward                                                                  08\n",
        "precinct                                                             802\n",
        "land_usage                                                           NaN\n",
        "LOCATION_STREET_NAME                                  1744 Washington St\n",
        "LOCATION_ZIPCODE                                                    2118\n",
        "Property_Type                                                    Address\n",
        "Property_ID                                                       351061\n",
        "LATITUDE                                                         42.3594\n",
        "LONGITUDE                                                       -71.0587\n",
        "Source                                                  Constituent Call\n",
        "Geocoded_Location                                    (42.3594, -71.0587)\n",
        "Name: 11, dtype: object\n",
        "CASE_ENQUIRY_ID                                       101001240762\n",
        "OPEN_DT                                        2015-01-01 08:53:51\n",
        "TARGET_DT                                      2015-01-31 08:53:51\n",
        "CLOSED_DT                                                      NaN\n",
        "OnTime_Status                                              OVERDUE\n",
        "CASE_STATUS                                                   Open\n",
        "CLOSURE_REASON                                                 NaN\n",
        "CASE_TITLE                          Heat - Excessive  Insufficient\n",
        "SUBJECT                                      Inspectional Services\n",
        "REASON                                                     Housing\n",
        "TYPE                                Heat - Excessive  Insufficient\n",
        "QUEUE                                       ISD_Housing (INTERNAL)\n",
        "Department                                                     ISD\n",
        "SubmittedPhoto                                                 NaN\n",
        "ClosedPhoto                                                    NaN\n",
        "Location                          77 Camden St  Roxbury  MA  02118\n",
        "fire_district                                                    7\n",
        "pwd_district                                                   10B\n",
        "city_council_district                                            7\n",
        "police_district                                                 D4\n",
        "neighborhood                                               Roxbury\n",
        "neighborhood_services_district                                  13\n",
        "ward                                                        Ward 9\n",
        "precinct                                                       903\n",
        "land_usage                                                      EA\n",
        "LOCATION_STREET_NAME                                  77 Camden St\n",
        "LOCATION_ZIPCODE                                              2118\n",
        "Property_Type                                              Address\n",
        "Property_ID                                                 201313\n",
        "LATITUDE                                                   42.3375\n",
        "LONGITUDE                                                 -71.0804\n",
        "Source                                            Constituent Call\n",
        "Geocoded_Location                              (42.3375, -71.0804)\n",
        "Name: 17, dtype: object\n",
        "CASE_ENQUIRY_ID                                          101001240786\n",
        "OPEN_DT                                           2015-01-01 10:59:01\n",
        "TARGET_DT                                         2015-01-31 10:59:01\n",
        "CLOSED_DT                                         2015-01-07 08:49:25\n",
        "OnTime_Status                                                  ONTIME\n",
        "CASE_STATUS                                                    Closed\n",
        "CLOSURE_REASON                                          Case Closed :\n",
        "CASE_TITLE                             Heat - Excessive  Insufficient\n",
        "SUBJECT                                         Inspectional Services\n",
        "REASON                                                        Housing\n",
        "TYPE                                   Heat - Excessive  Insufficient\n",
        "QUEUE                                          ISD_Housing (INTERNAL)\n",
        "Department                                                        ISD\n",
        "SubmittedPhoto                                                    NaN\n",
        "ClosedPhoto                                                       NaN\n",
        "Location                          282 Columbus Ave  Boston  MA  02116\n",
        "fire_district                                                       4\n",
        "pwd_district                                                       1C\n",
        "city_council_district                                               2\n",
        "police_district                                                    D4\n",
        "neighborhood                                                South End\n",
        "neighborhood_services_district                                      6\n",
        "ward                                                           Ward 4\n",
        "precinct                                                          401\n",
        "land_usage                                                         RC\n",
        "LOCATION_STREET_NAME                                 282 Columbus Ave\n",
        "LOCATION_ZIPCODE                                                 2116\n",
        "Property_Type                                                 Address\n",
        "Property_ID                                                    211739\n",
        "LATITUDE                                                      42.3469\n",
        "LONGITUDE                                                    -71.0736\n",
        "Source                                               Constituent Call\n",
        "Geocoded_Location                                 (42.3469, -71.0736)\n",
        "Name: 34, dtype: object\n",
        "CASE_ENQUIRY_ID                                               101001240809\n",
        "OPEN_DT                                                2015-01-01 12:37:13\n",
        "TARGET_DT                                              2015-01-31 12:37:13\n",
        "CLOSED_DT                                                              NaN\n",
        "OnTime_Status                                                      OVERDUE\n",
        "CASE_STATUS                                                           Open\n",
        "CLOSURE_REASON                                                         NaN\n",
        "CASE_TITLE                                  Heat - Excessive  Insufficient\n",
        "SUBJECT                                              Inspectional Services\n",
        "REASON                                                             Housing\n",
        "TYPE                                        Heat - Excessive  Insufficient\n",
        "QUEUE                                               ISD_Housing (INTERNAL)\n",
        "Department                                                             ISD\n",
        "SubmittedPhoto                                                         NaN\n",
        "ClosedPhoto                                                            NaN\n",
        "Location                          522 Blue Hill Ave  Dorchester  MA  02121\n",
        "fire_district                                                            7\n",
        "pwd_district                                                            03\n",
        "city_council_district                                                    4\n",
        "police_district                                                         B2\n",
        "neighborhood                                                       Roxbury\n",
        "neighborhood_services_district                                          13\n",
        "ward                                                               Ward 14\n",
        "precinct                                                              1403\n",
        "land_usage                                                               A\n",
        "LOCATION_STREET_NAME                                     522 Blue Hill Ave\n",
        "LOCATION_ZIPCODE                                                      2121\n",
        "Property_Type                                                      Address\n",
        "Property_ID                                                         190031\n",
        "LATITUDE                                                           42.3064\n",
        "LONGITUDE                                                         -71.0841\n",
        "Source                                                    Constituent Call\n",
        "Geocoded_Location                                      (42.3064, -71.0841)\n",
        "Name: 50, dtype: object\n",
        "CASE_ENQUIRY_ID                                                        101001240837\n",
        "OPEN_DT                                                         2015-01-01 14:24:55\n",
        "TARGET_DT                                                       2015-01-31 14:24:55\n",
        "CLOSED_DT                                                       2015-01-01 14:32:32\n",
        "OnTime_Status                                                                ONTIME\n",
        "CASE_STATUS                                                                  Closed\n",
        "CLOSURE_REASON                    Case Closed Case Invalid landlord called while...\n",
        "CASE_TITLE                                           Heat - Excessive  Insufficient\n",
        "SUBJECT                                                       Inspectional Services\n",
        "REASON                                                                      Housing\n",
        "TYPE                                                 Heat - Excessive  Insufficient\n",
        "QUEUE                                                        ISD_Housing (INTERNAL)\n",
        "Department                                                                      ISD\n",
        "SubmittedPhoto                                                                  NaN\n",
        "ClosedPhoto                                                                     NaN\n",
        "Location                           5070-5072 Washington St  West Roxbury  MA  02132\n",
        "fire_district                                                                    12\n",
        "pwd_district                                                                     06\n",
        "city_council_district                                                             6\n",
        "police_district                                                                  E5\n",
        "neighborhood                                                           West Roxbury\n",
        "neighborhood_services_district                                                   10\n",
        "ward                                                                        Ward 20\n",
        "precinct                                                                       2003\n",
        "land_usage                                                                       R2\n",
        "LOCATION_STREET_NAME                                        5070-5072 Washington St\n",
        "LOCATION_ZIPCODE                                                               2132\n",
        "Property_Type                                                               Address\n",
        "Property_ID                                                                  145574\n",
        "LATITUDE                                                                    42.2646\n",
        "LONGITUDE                                                                  -71.1531\n",
        "Source                                                             Constituent Call\n",
        "Geocoded_Location                                               (42.2646, -71.1531)\n",
        "Name: 74, dtype: object\n",
        "CASE_ENQUIRY_ID                                          101001240838\n",
        "OPEN_DT                                           2015-01-01 14:25:24\n",
        "TARGET_DT                                         2015-01-31 14:25:23\n",
        "CLOSED_DT                                                         NaN\n",
        "OnTime_Status                                                 OVERDUE\n",
        "CASE_STATUS                                                      Open\n",
        "CLOSURE_REASON                                                    NaN\n",
        "CASE_TITLE                             Heat - Excessive  Insufficient\n",
        "SUBJECT                                         Inspectional Services\n",
        "REASON                                                        Housing\n",
        "TYPE                                   Heat - Excessive  Insufficient\n",
        "QUEUE                                          ISD_Housing (INTERNAL)\n",
        "Department                                                        ISD\n",
        "SubmittedPhoto                                                    NaN\n",
        "ClosedPhoto                                                       NaN\n",
        "Location                          282 Columbus Ave  Boston  MA  02116\n",
        "fire_district                                                       4\n",
        "pwd_district                                                       1C\n",
        "city_council_district                                               2\n",
        "police_district                                                    D4\n",
        "neighborhood                                                South End\n",
        "neighborhood_services_district                                      6\n",
        "ward                                                           Ward 4\n",
        "precinct                                                          401\n",
        "land_usage                                                         RC\n",
        "LOCATION_STREET_NAME                                 282 Columbus Ave\n",
        "LOCATION_ZIPCODE                                                 2116\n",
        "Property_Type                                                 Address\n",
        "Property_ID                                                    211724\n",
        "LATITUDE                                                      42.3469\n",
        "LONGITUDE                                                    -71.0736\n",
        "Source                                               Constituent Call\n",
        "Geocoded_Location                                 (42.3469, -71.0736)\n",
        "Name: 75, dtype: object\n",
        "CASE_ENQUIRY_ID                                        101001240842\n",
        "OPEN_DT                                         2015-01-01 14:44:54\n",
        "TARGET_DT                                       2015-01-31 14:44:54\n",
        "CLOSED_DT                                                       NaN\n",
        "OnTime_Status                                               OVERDUE\n",
        "CASE_STATUS                                                    Open\n",
        "CLOSURE_REASON                                                  NaN\n",
        "CASE_TITLE                           Heat - Excessive  Insufficient\n",
        "SUBJECT                                       Inspectional Services\n",
        "REASON                                                      Housing\n",
        "TYPE                                 Heat - Excessive  Insufficient\n",
        "QUEUE                                        ISD_Housing (INTERNAL)\n",
        "Department                                                      ISD\n",
        "SubmittedPhoto                                                  NaN\n",
        "ClosedPhoto                                                     NaN\n",
        "Location                          72 Gardner St  Allston  MA  02134\n",
        "fire_district                                                    11\n",
        "pwd_district                                                     04\n",
        "city_council_district                                             9\n",
        "police_district                                                 D14\n",
        "neighborhood                                     Allston / Brighton\n",
        "neighborhood_services_district                                   15\n",
        "ward                                                        Ward 21\n",
        "precinct                                                       2104\n",
        "land_usage                                                        A\n",
        "LOCATION_STREET_NAME                                  72 Gardner St\n",
        "LOCATION_ZIPCODE                                               2134\n",
        "Property_Type                                               Address\n",
        "Property_ID                                                  239609\n",
        "LATITUDE                                                     42.354\n",
        "LONGITUDE                                                  -71.1273\n",
        "Source                                                 Self Service\n",
        "Geocoded_Location                                (42.354, -71.1273)\n",
        "Name: 78, dtype: object\n",
        "CASE_ENQUIRY_ID                                            101001240863\n",
        "OPEN_DT                                             2015-01-01 17:13:28\n",
        "TARGET_DT                                           2015-01-31 17:13:28\n",
        "CLOSED_DT                                                           NaN\n",
        "OnTime_Status                                                   OVERDUE\n",
        "CASE_STATUS                                                        Open\n",
        "CLOSURE_REASON                                                      NaN\n",
        "CASE_TITLE                               Heat - Excessive  Insufficient\n",
        "SUBJECT                                           Inspectional Services\n",
        "REASON                                                          Housing\n",
        "TYPE                                     Heat - Excessive  Insufficient\n",
        "QUEUE                                            ISD_Housing (INTERNAL)\n",
        "Department                                                          ISD\n",
        "SubmittedPhoto                                                      NaN\n",
        "ClosedPhoto                                                         NaN\n",
        "Location                          11-25 E Newton St  Roxbury  MA  02118\n",
        "fire_district                                                         4\n",
        "pwd_district                                                         1C\n",
        "city_council_district                                                 2\n",
        "police_district                                                      D4\n",
        "neighborhood                                                  South End\n",
        "neighborhood_services_district                                        6\n",
        "ward                                                             Ward 8\n",
        "precinct                                                            802\n",
        "land_usage                                                           CM\n",
        "LOCATION_STREET_NAME                                  11-25 E Newton St\n",
        "LOCATION_ZIPCODE                                                   2118\n",
        "Property_Type                                                   Address\n",
        "Property_ID                                                      102338\n",
        "LATITUDE                                                        42.3382\n",
        "LONGITUDE                                                      -71.0731\n",
        "Source                                                 Constituent Call\n",
        "Geocoded_Location                                   (42.3382, -71.0731)\n",
        "Name: 94, dtype: object\n",
        "CASE_ENQUIRY_ID                                               101001240882\n",
        "OPEN_DT                                                2015-01-01 19:25:55\n",
        "TARGET_DT                                              2015-01-31 19:25:55\n",
        "CLOSED_DT                                                              NaN\n",
        "OnTime_Status                                                      OVERDUE\n",
        "CASE_STATUS                                                           Open\n",
        "CLOSURE_REASON                                                         NaN\n",
        "CASE_TITLE                                  Heat - Excessive  Insufficient\n",
        "SUBJECT                                              Inspectional Services\n",
        "REASON                                                             Housing\n",
        "TYPE                                        Heat - Excessive  Insufficient\n",
        "QUEUE                                               ISD_Housing (INTERNAL)\n",
        "Department                                                             ISD\n",
        "SubmittedPhoto                                                         NaN\n",
        "ClosedPhoto                                                            NaN\n",
        "Location                          950 Canterbury St  Roslindale  MA  02131\n",
        "fire_district                                                           12\n",
        "pwd_district                                                            08\n",
        "city_council_district                                                    5\n",
        "police_district                                                        E18\n",
        "neighborhood                                                    Roslindale\n",
        "neighborhood_services_district                                          10\n",
        "ward                                                               Ward 18\n",
        "precinct                                                              1808\n",
        "land_usage                                                               A\n",
        "LOCATION_STREET_NAME                                     950 Canterbury St\n",
        "LOCATION_ZIPCODE                                                      2131\n",
        "Property_Type                                                      Address\n",
        "Property_ID                                                         201733\n",
        "LATITUDE                                                           42.2785\n",
        "LONGITUDE                                                         -71.1172\n",
        "Source                                                    Constituent Call\n",
        "Geocoded_Location                                      (42.2785, -71.1172)\n",
        "Name: 107, dtype: object\n",
        "CASE_ENQUIRY_ID                                         101001240896\n",
        "OPEN_DT                                          2015-01-01 22:11:51\n",
        "TARGET_DT                                        2015-01-31 22:11:50\n",
        "CLOSED_DT                                                        NaN\n",
        "OnTime_Status                                                OVERDUE\n",
        "CASE_STATUS                                                     Open\n",
        "CLOSURE_REASON                                                   NaN\n",
        "CASE_TITLE                            Heat - Excessive  Insufficient\n",
        "SUBJECT                                        Inspectional Services\n",
        "REASON                                                       Housing\n",
        "TYPE                                  Heat - Excessive  Insufficient\n",
        "QUEUE                                         ISD_Housing (INTERNAL)\n",
        "Department                                                       ISD\n",
        "SubmittedPhoto                                                   NaN\n",
        "ClosedPhoto                                                      NaN\n",
        "Location                          31 Wales St  Dorchester  MA  02124\n",
        "fire_district                                                      7\n",
        "pwd_district                                                      03\n",
        "city_council_district                                              4\n",
        "police_district                                                   B3\n",
        "neighborhood                                        Greater Mattapan\n",
        "neighborhood_services_district                                     8\n",
        "ward                                                         Ward 14\n",
        "precinct                                                        1407\n",
        "land_usage                                                         A\n",
        "LOCATION_STREET_NAME                                     31 Wales St\n",
        "LOCATION_ZIPCODE                                                2124\n",
        "Property_Type                                                Address\n",
        "Property_ID                                                   326017\n",
        "LATITUDE                                                     42.2969\n",
        "LONGITUDE                                                    -71.085\n",
        "Source                                              Constituent Call\n",
        "Geocoded_Location                                 (42.2969, -71.085)\n",
        "Name: 117, dtype: object\n"
       ]
      }
     ],
     "prompt_number": 11
    },
    {
     "cell_type": "markdown",
     "metadata": {},
     "source": [
      "Now, let's plot (preferably with horizontal bars) the counts for all the `CASE_TITLE`s that occur more than 250 times in the dataset. **(5 pts)**"
     ]
    },
    {
     "cell_type": "code",
     "collapsed": false,
     "input": [
      "# Plots the high-occuring categories for cases as a horizontal histogram.\n",
      "counts = boston['CASE_TITLE'].value_counts()\n",
      "counts[counts>250].plot(kind='barh')"
     ],
     "language": "python",
     "metadata": {},
     "outputs": [
      {
       "metadata": {},
       "output_type": "pyout",
       "prompt_number": 12,
       "text": [
        "<matplotlib.axes._subplots.AxesSubplot at 0x111fbe10>"
       ]
      },
      {
       "metadata": {},
       "output_type": "display_data",
       "png": "[encoded data removed]",
       "text": [
        "<matplotlib.figure.Figure at 0x1918f9b0>"
       ]
      }
     ],
     "prompt_number": 12
    },
    {
     "cell_type": "markdown",
     "metadata": {},
     "source": [
      "As you can see, the most common categories are related to snow. Let us see which neighborhoods were mostly affected by snow problems. This information is saved under the `neighborhood` column. Make a plot (similar to the one above, like a horizontal histogram) that for each neighborhood shows the number of snow-related calls made from there. **(5 pts)**"
     ]
    },
    {
     "cell_type": "code",
     "collapsed": false,
     "input": [
      "snow = boston[(boston['CASE_TITLE'].fillna(\"\").str.contains(\"Snow\"))]\n",
      "snow.neighborhood.value_counts().plot(kind='barh')"
     ],
     "language": "python",
     "metadata": {},
     "outputs": [
      {
       "metadata": {},
       "output_type": "pyout",
       "prompt_number": 13,
       "text": [
        "<matplotlib.axes._subplots.AxesSubplot at 0x110e25c0>"
       ]
      },
      {
       "metadata": {},
       "output_type": "display_data",
       "png": "[encoded data removed]",
       "text": [
        "<matplotlib.figure.Figure at 0x19fcce80>"
       ]
      }
     ],
     "prompt_number": 13
    },
    {
     "cell_type": "heading",
     "level": 2,
     "metadata": {},
     "source": [
      "Step 3. Advanced filtering & joins"
     ]
    },
    {
     "cell_type": "markdown",
     "metadata": {},
     "source": [
      "By now, you should have noticed that, for each day, there are multiple records in our dataframe. Use the `groupby` function to get, for each day, the counts for all the case categories. Plot the result for the top 5 categories as you see fit. **(20 pts)**"
     ]
    },
    {
     "cell_type": "code",
     "collapsed": false,
     "input": [
      "# Write your code here\n",
      "calls = boston.groupby([boston.OPEN_DT.dt.date, 'CASE_TITLE'])['CASE_ENQUIRY_ID'].count()\n",
      "calls = calls.unstack(level=0)\n",
      "top_categories = calls.sum(axis=1).sort(inplace=False, ascending=False)[:5].index.values\n",
      "calls = calls.T[top_categories]\n",
      "calls.plot()"
     ],
     "language": "python",
     "metadata": {},
     "outputs": [
      {
       "output_type": "stream",
       "stream": "stdout",
       "text": [
        "            CASE_TITLE                  \n",
        "2015-01-01  Animal Found                    5\n",
        "            Animal Generic Request          1\n",
        "            Animal Lost                     1\n",
        "            BWSC: Water Main Break          1\n",
        "            Comments on City Policy  D10    1\n",
        "            Empty Litter Basket             1\n",
        "            Fire                            4\n",
        "            Graffiti Removal                5\n",
        "            Graffiti: 06  0606  Racial      1\n",
        "            Graffiti: Ward 11  1109         1\n",
        "Name: CASE_ENQUIRY_ID, dtype: int64\n"
       ]
      },
      {
       "metadata": {},
       "output_type": "pyout",
       "prompt_number": 23,
       "text": [
        "<matplotlib.axes._subplots.AxesSubplot at 0x1fd6deb8>"
       ]
      },
      {
       "metadata": {},
       "output_type": "display_data",
       "png": "[encoded data removed]",
       "text": [
        "<matplotlib.figure.Figure at 0x1f6808d0>"
       ]
      }
     ],
     "prompt_number": 23
    },
    {
     "cell_type": "markdown",
     "metadata": {},
     "source": [
      "Let's see how this trend compares to the snowfall. First, we need to read the data from `snow.csv`"
     ]
    },
    {
     "cell_type": "code",
     "collapsed": false,
     "input": [
      "# Read the dataframe\n",
      "snow_data = pd.read_csv(\"snow.csv\",parse_dates=[1])"
     ],
     "language": "python",
     "metadata": {},
     "outputs": [],
     "prompt_number": 16
    },
    {
     "cell_type": "markdown",
     "metadata": {},
     "source": [
      "According to the documentation, the column `SNOW` has the values for the snowfall, in mm. However, the dataset we have has information from many different stations around Boston. Aggregate all their measurements and transform the result to centimeters. Finally, plot the result **(10 pts)**"
     ]
    },
    {
     "cell_type": "code",
     "collapsed": false,
     "input": [
      "# Write your code here\n",
      "snowfall = snow_data[snow_data.SNOW > 0].groupby(snow_data.DATE)[\"SNOW\"].mean() / 10\n",
      "snowfall.plot(kind='bar')"
     ],
     "language": "python",
     "metadata": {},
     "outputs": [
      {
       "metadata": {},
       "output_type": "pyout",
       "prompt_number": 17,
       "text": [
        "<matplotlib.axes._subplots.AxesSubplot at 0x1e763e48>"
       ]
      },
      {
       "metadata": {},
       "output_type": "display_data",
       "png": "[encoded data removed]",
       "text": [
        "<matplotlib.figure.Figure at 0x1ecadba8>"
       ]
      }
     ],
     "prompt_number": 17
    },
    {
     "cell_type": "heading",
     "level": 2,
     "metadata": {},
     "source": [
      "Step 4. Matching trends"
     ]
    },
    {
     "cell_type": "markdown",
     "metadata": {},
     "source": [
      "The last thing we will do is to join the snowfall dataframe with that of the top 5 categories of calls, per day. Don't forget to fill the NaN values with 0. You want to do an outer join (if there are calls for a day but no snowfall data, we want to create a 0 record). Save that to a dataframe called `calls_on_snow`. The first 5 columns should be the counts for the categories, and the 6th will be the snowfall data. **(10 pts)**"
     ]
    },
    {
     "cell_type": "code",
     "collapsed": false,
     "input": [
      "calls.index = pd.to_datetime(calls.index)\n",
      "calls_on_snow = calls.join(snowfall).fillna(0)"
     ],
     "language": "python",
     "metadata": {},
     "outputs": [],
     "prompt_number": 18
    },
    {
     "cell_type": "markdown",
     "metadata": {},
     "source": [
      "Now, you can show the connection of the two trends (the calls and the snow) in a plot. I provide some sample code, but you should also try your own versions."
     ]
    },
    {
     "cell_type": "code",
     "collapsed": false,
     "input": [
      "fig, axes = plt.subplots(nrows=2,figsize=(12,5), sharex=True)\n",
      "\n",
      "calls_on_snow.ix[:,0:5].plot(ax=axes[0])\n",
      "calls_on_snow.ix[:,5].plot(ax=axes[1],label=\"snowfall (in cm)\", color='gray')\n",
      "\n",
      "axes[0].set_title(\"The effect of the winter snowstorms on Boston's 311 Hotline for 2015\")\n",
      "axes[0].set_ylabel(\"# Calls\")\n",
      "axes[1].set_ylabel(\"Snowfall in cm\")\n",
      "axes[1].set_xlabel(\"Date\")\n",
      "axes[0].xaxis.grid(False)\n",
      "axes[1].xaxis.grid(False)"
     ],
     "language": "python",
     "metadata": {},
     "outputs": [
      {
       "metadata": {},
       "output_type": "display_data",
       "png": "[encoded data removed]",
       "text": [
        "<matplotlib.figure.Figure at 0x1e5435f8>"
       ]
      }
     ],
     "prompt_number": 19
    },
    {
     "cell_type": "markdown",
     "metadata": {},
     "source": [
      "The result should look something like this:\n",
      "\n",
      "\n",
      "![The calls to 311 are peaking after each snowstorm](final_plot.png)"
     ]
    },
    {
     "cell_type": "code",
     "collapsed": false,
     "input": [
      "# Code for setting the style of the notebook\n",
      "from IPython.core.display import HTML\n",
      "def css_styling():\n",
      "    styles = open(\"../../theme/custom.css\", \"r\").read()\n",
      "    return HTML(styles)\n",
      "css_styling()"
     ],
     "language": "python",
     "metadata": {},
     "outputs": [
      {
       "html": [
        "<link href='http://fonts.googleapis.com/css?family=EB+Garamond' rel='stylesheet' type='text/css'>\n",
        "<link href='http://fonts.googleapis.com/css?family=Alegreya+Sans:100,300,400,500,700,800,900,100italic,300italic,400italic,500italic,700italic,800italic,900italic' rel='stylesheet' type='text/css'>\n",
        "<link href='http://fonts.googleapis.com/css?family=Source+Code+Pro:300,400' rel='stylesheet' type='text/css'>\n",
        "<style>\n",
        "    @font-face {\n",
        "        font-family: \"Computer Modern\";\n",
        "        src: url('http://mirrors.ctan.org/fonts/cm-unicode/fonts/otf/cmunss.otf');\n",
        "    }\n",
        "    .code_cell {\n",
        "        width: 105ex !important ;\n",
        "        margin-bottom: 15px !important;\n",
        "    }\n",
        "    div.cell {\n",
        "        margin-left: auto;\n",
        "        margin-right: auto;\n",
        "        width: 70%;\n",
        "    }    \n",
        "    div.cell.selected {\n",
        "        border: thin rgba(171, 171, 171, 0.5) dashed;\n",
        "    }\n",
        "    h1 {\n",
        "        font-family: 'Alegreya Sans', sans-serif;\n",
        "    }\n",
        "    h2 {\n",
        "        font-family: 'EB Garamond', serif;\n",
        "    }\n",
        "    h3 {\n",
        "        font-family: 'EB Garamond', serif;\n",
        "        margin-top:12px;\n",
        "        margin-bottom: 3px;\n",
        "    }\n",
        "    h4 {\n",
        "        font-family: 'EB Garamond', serif;\n",
        "    }\n",
        "    h5 {\n",
        "        font-family: 'Alegreya Sans', sans-serif;\n",
        "    }\n",
        "    div.text_cell_render {\n",
        "        font-family: 'EB Garamond',Computer Modern, \"Helvetica Neue\", Arial, Helvetica, Geneva, sans-serif;\n",
        "        line-height: 145%;\n",
        "        font-size: 140%;\n",
        "    }\n",
        "    div.input_area {\n",
        "        border-color: rgba(0,0,0,0.10) !important;\n",
        "        background: #fafafa;\n",
        "    }\n",
        "    .CodeMirror {\n",
        "            font-family: \"Source Code Pro\";\n",
        "            font-size: 90%;\n",
        "    }\n",
        "    .prompt {\n",
        "        display: None;\n",
        "    }\n",
        "    .output {\n",
        "        padding-left: 50px;\n",
        "        padding-top: 5px;\n",
        "    }\n",
        "    .output_wrapper {\n",
        "        padding-left: 5px;\n",
        "        padding-top: inherit;\n",
        "    }\n",
        "    div.output_scroll {\n",
        "        width: inherit;\n",
        "    }\n",
        "    .inner_cell {\n",
        "        padding-left: 5px;\n",
        "    }\n",
        "    .text_cell_render h1 {\n",
        "        font-weight: 200;\n",
        "        font-size: 50pt;\n",
        "        line-height: 100%;\n",
        "        color:#CD2305;\n",
        "        margin-bottom: 0.5em;\n",
        "        margin-top: 0.5em;\n",
        "        display: block;\n",
        "    }\n",
        "    .text_cell_render h5 {\n",
        "        font-weight: 300;\n",
        "        font-size: 16pt;\n",
        "        color: #CD2305;\n",
        "        font-style: italic;\n",
        "        margin-bottom: .5em;\n",
        "        margin-top: 0.5em;\n",
        "        display: block;\n",
        "    }\n",
        "    .warning {\n",
        "        color: rgb( 240, 20, 20 )\n",
        "        }  \n",
        "</style>\n",
        "<script>\n",
        "    MathJax.Hub.Config({\n",
        "                        TeX: {\n",
        "                           extensions: [\"AMSmath.js\"]\n",
        "                           },\n",
        "                tex2jax: {\n",
        "                    inlineMath: [ ['$','$'], [\"\\\\(\",\"\\\\)\"] ],\n",
        "                    displayMath: [ ['$$','$$'], [\"\\\\[\",\"\\\\]\"] ]\n",
        "                },\n",
        "                displayAlign: 'center', // Change this to 'center' to center equations.\n",
        "                \"HTML-CSS\": {\n",
        "                    styles: {'.MathJax_Display': {\"margin\": 4}}\n",
        "                }\n",
        "        });\n",
        "</script>"
       ],
       "metadata": {},
       "output_type": "pyout",
       "prompt_number": 21,
       "text": [
        "<IPython.core.display.HTML at 0x189e1320>"
       ]
      }
     ],
     "prompt_number": 21
    }
   ],
   "metadata": {}
  }
 ]
}