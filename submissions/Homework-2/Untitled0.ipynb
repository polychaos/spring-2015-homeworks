{
 "metadata": {
  "name": "",
  "signature": "sha256:66e50085e818d18a49d7a6ade3aef7de8f202d672578a2454acb05bd2df6cbbd"
 },
 "nbformat": 3,
 "nbformat_minor": 0,
 "worksheets": [
  {
   "cells": [
    {
     "cell_type": "code",
     "collapsed": false,
     "input": [
      "import matplotlib.pyplot as plt\n",
      "from mpl_toolkits.basemap import Basemap as bmp"
     ],
     "language": "python",
     "metadata": {},
     "outputs": [],
     "prompt_number": 5
    },
    {
     "cell_type": "code",
     "collapsed": false,
     "input": [
      "'''\n",
      "from mpl_toolkits.basemap import Basemap\n",
      "import numpy as np\n",
      "import matplotlib.pyplot as plt\n",
      "# create new figure, axes instances.\n",
      "fig=plt.figure()\n",
      "m = Basemap(llcrnrlon=-72.,llcrnrlat=42.,urcrnrlon=-71.,urcrnrlat=43.,\\\n",
      "            resolution='f',projection='stere',\\\n",
      "            lat_0=42.36,lon_0=-71.06)\n",
      "m.drawcoastlines()\n",
      "m.fillcontinents()\n",
      "plt.show()'''\n",
      "\n",
      "from mpl_toolkits.basemap import Basemap\n",
      "import matplotlib.pyplot as plt\n",
      "import numpy as np\n",
      " \n",
      "map = Basemap(projection='stere', lat_0 = 42.3, lon_0 = -71,\n",
      "    resolution = 'h', area_thresh = 0.1,\n",
      "    urcrnrlon=-70.95, llcrnrlat=42.194,\n",
      "    llcrnrlon=-71.308, urcrnrlat=42.48)\n",
      " \n",
      "map.drawcoastlines()\n",
      "map.drawcountries()\n",
      "map.drawmapboundary()\n",
      "map.readshapefile('C:/Users/Evan/Dropbox/Boston_University/Homework-2/eotroads_35', 'roads', drawbounds=False)\n",
      " \n",
      "plt.show()"
     ],
     "language": "python",
     "metadata": {},
     "outputs": [
      {
       "ename": "ValueError",
       "evalue": "shapefile must have lat/lon vertices  - it looks like this one has vertices\nin map projection coordinates. You can convert the shapefile to geographic\ncoordinates using the shpproj utility from the shapelib tools\n(http://shapelib.maptools.org/shapelib-tools.html)",
       "output_type": "pyerr",
       "traceback": [
        "\u001b[1;31m---------------------------------------------------------------------------\u001b[0m\n\u001b[1;31mValueError\u001b[0m                                Traceback (most recent call last)",
        "\u001b[1;32m<ipython-input-20-bdb363ace7fc>\u001b[0m in \u001b[0;36m<module>\u001b[1;34m()\u001b[0m\n\u001b[0;32m     24\u001b[0m \u001b[0mmap\u001b[0m\u001b[1;33m.\u001b[0m\u001b[0mdrawcountries\u001b[0m\u001b[1;33m(\u001b[0m\u001b[1;33m)\u001b[0m\u001b[1;33m\u001b[0m\u001b[0m\n\u001b[0;32m     25\u001b[0m \u001b[0mmap\u001b[0m\u001b[1;33m.\u001b[0m\u001b[0mdrawmapboundary\u001b[0m\u001b[1;33m(\u001b[0m\u001b[1;33m)\u001b[0m\u001b[1;33m\u001b[0m\u001b[0m\n\u001b[1;32m---> 26\u001b[1;33m \u001b[0mmap\u001b[0m\u001b[1;33m.\u001b[0m\u001b[0mreadshapefile\u001b[0m\u001b[1;33m(\u001b[0m\u001b[1;34m'C:/Users/Evan/Dropbox/Boston_University/Homework-2/eotroads_35'\u001b[0m\u001b[1;33m,\u001b[0m \u001b[1;34m'roads'\u001b[0m\u001b[1;33m,\u001b[0m \u001b[0mdrawbounds\u001b[0m\u001b[1;33m=\u001b[0m\u001b[0mFalse\u001b[0m\u001b[1;33m)\u001b[0m\u001b[1;33m\u001b[0m\u001b[0m\n\u001b[0m\u001b[0;32m     27\u001b[0m \u001b[1;33m\u001b[0m\u001b[0m\n\u001b[0;32m     28\u001b[0m \u001b[0mplt\u001b[0m\u001b[1;33m.\u001b[0m\u001b[0mshow\u001b[0m\u001b[1;33m(\u001b[0m\u001b[1;33m)\u001b[0m\u001b[1;33m\u001b[0m\u001b[0m\n",
        "\u001b[1;32mC:\\Anaconda3\\envs\\python2\\lib\\site-packages\\mpl_toolkits\\basemap\\__init__.pyc\u001b[0m in \u001b[0;36mreadshapefile\u001b[1;34m(self, shapefile, name, drawbounds, zorder, linewidth, color, antialiased, ax, default_encoding)\u001b[0m\n\u001b[0;32m   2175\u001b[0m                     \u001b[0mlons\u001b[0m\u001b[1;33m,\u001b[0m \u001b[0mlats\u001b[0m \u001b[1;33m=\u001b[0m \u001b[0mlist\u001b[0m\u001b[1;33m(\u001b[0m\u001b[0mzip\u001b[0m\u001b[1;33m(\u001b[0m\u001b[1;33m*\u001b[0m\u001b[0mverts\u001b[0m\u001b[1;33m[\u001b[0m\u001b[0mindx1\u001b[0m\u001b[1;33m:\u001b[0m\u001b[0mindx2\u001b[0m\u001b[1;33m]\u001b[0m\u001b[1;33m)\u001b[0m\u001b[1;33m)\u001b[0m\u001b[1;33m\u001b[0m\u001b[0m\n\u001b[0;32m   2176\u001b[0m                     \u001b[1;32mif\u001b[0m \u001b[0mmax\u001b[0m\u001b[1;33m(\u001b[0m\u001b[0mlons\u001b[0m\u001b[1;33m)\u001b[0m \u001b[1;33m>\u001b[0m \u001b[1;36m721.\u001b[0m \u001b[1;32mor\u001b[0m \u001b[0mmin\u001b[0m\u001b[1;33m(\u001b[0m\u001b[0mlons\u001b[0m\u001b[1;33m)\u001b[0m \u001b[1;33m<\u001b[0m \u001b[1;33m-\u001b[0m\u001b[1;36m721.\u001b[0m \u001b[1;32mor\u001b[0m \u001b[0mmax\u001b[0m\u001b[1;33m(\u001b[0m\u001b[0mlats\u001b[0m\u001b[1;33m)\u001b[0m \u001b[1;33m>\u001b[0m \u001b[1;36m90.01\u001b[0m \u001b[1;32mor\u001b[0m \u001b[0mmin\u001b[0m\u001b[1;33m(\u001b[0m\u001b[0mlats\u001b[0m\u001b[1;33m)\u001b[0m \u001b[1;33m<\u001b[0m \u001b[1;33m-\u001b[0m\u001b[1;36m90.01\u001b[0m\u001b[1;33m:\u001b[0m\u001b[1;33m\u001b[0m\u001b[0m\n\u001b[1;32m-> 2177\u001b[1;33m                         \u001b[1;32mraise\u001b[0m \u001b[0mValueError\u001b[0m\u001b[1;33m(\u001b[0m\u001b[0mmsg\u001b[0m\u001b[1;33m)\u001b[0m\u001b[1;33m\u001b[0m\u001b[0m\n\u001b[0m\u001b[0;32m   2178\u001b[0m                     \u001b[1;31m# if latitude is slightly greater than 90, truncate to 90\u001b[0m\u001b[1;33m\u001b[0m\u001b[1;33m\u001b[0m\u001b[0m\n\u001b[0;32m   2179\u001b[0m                     \u001b[0mlats\u001b[0m \u001b[1;33m=\u001b[0m \u001b[1;33m[\u001b[0m\u001b[0mmax\u001b[0m\u001b[1;33m(\u001b[0m\u001b[0mmin\u001b[0m\u001b[1;33m(\u001b[0m\u001b[0mlat\u001b[0m\u001b[1;33m,\u001b[0m \u001b[1;36m90.0\u001b[0m\u001b[1;33m)\u001b[0m\u001b[1;33m,\u001b[0m \u001b[1;33m-\u001b[0m\u001b[1;36m90.0\u001b[0m\u001b[1;33m)\u001b[0m \u001b[1;32mfor\u001b[0m \u001b[0mlat\u001b[0m \u001b[1;32min\u001b[0m \u001b[0mlats\u001b[0m\u001b[1;33m]\u001b[0m\u001b[1;33m\u001b[0m\u001b[0m\n",
        "\u001b[1;31mValueError\u001b[0m: shapefile must have lat/lon vertices  - it looks like this one has vertices\nin map projection coordinates. You can convert the shapefile to geographic\ncoordinates using the shpproj utility from the shapelib tools\n(http://shapelib.maptools.org/shapelib-tools.html)"
       ]
      }
     ],
     "prompt_number": 20
    },
    {
     "cell_type": "code",
     "collapsed": false,
     "input": [],
     "language": "python",
     "metadata": {},
     "outputs": []
    }
   ],
   "metadata": {}
  }
 ]
}