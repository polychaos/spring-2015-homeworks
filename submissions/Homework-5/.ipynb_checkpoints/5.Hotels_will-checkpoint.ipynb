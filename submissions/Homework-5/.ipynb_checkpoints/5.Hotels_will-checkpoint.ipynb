{
 "metadata": {
  "name": "",
  "signature": "sha256:face43d28b18ffeaedb5be0f6491dd03cafce937ed180ff1b3c365f773f076de"
 },
 "nbformat": 3,
 "nbformat_minor": 0,
 "worksheets": [
  {
   "cells": [
    {
     "cell_type": "markdown",
     "metadata": {},
     "source": [
      "(In order to load the stylesheet of this notebook, execute the last code cell in this notebook)"
     ]
    },
    {
     "cell_type": "heading",
     "level": 1,
     "metadata": {},
     "source": [
      "Analyzing hotel ratings on Tripadvisor"
     ]
    },
    {
     "cell_type": "markdown",
     "metadata": {},
     "source": [
      "In this homework we will focus on practicing two techniques: web scraping and regression. For the first part, we will build upon the sample code from the Lecture and attempt to get some basic information for each hotel. Then, we will fit a regression model on this information and try to analyze it.   "
     ]
    },
    {
     "cell_type": "markdown",
     "metadata": {},
     "source": [
      "One of the main disadvantages of scraping a website instead of using an API is that, without any notice, the website may change its layout and render our code useless. Something like that happened in our case. Tripadvisor changed the layout of the buttons that we use to navigate between the different pages of the results. This was the main reason people were having problem with executing the code."
     ]
    },
    {
     "cell_type": "markdown",
     "metadata": {},
     "source": [
      "**Task 1 (20 pts)**\n",
      "\n",
      "The first task of the homework is to fix the scraping code. We basically need to replace the part where we are checking if there is another page and getting its link with new code that reflects the new navigation layout. "
     ]
    },
    {
     "cell_type": "markdown",
     "metadata": {},
     "source": [
      "** Task 2 (30 pts)**\n",
      "\n",
      "Then, for each hotel that our search returns, we will \"click\" (with the code of course) on it and scrape the information below.\n",
      "\n",
      "![Information to be scraped](hotel_info.png)\n",
      "\n",
      "Of course, feel free to collect even more data if you want. "
     ]
    },
    {
     "cell_type": "markdown",
     "metadata": {},
     "source": [
      "** Task 3 (20 pts) **\n",
      "\n",
      "Now, we will use regression to analyze this information. First, we will fit a linear regression model that predicts the average rating. For example, for the hotel above, the average rating is\n",
      "\n",
      "$$ \\text{AVG_SCORE} = \\frac{1*31 + 2*33 + 3*98 + 4*504 + 5*1861}{2527}$$\n",
      "\n",
      "Use the model to analyze the important factors that decide the $\\text{AVG_SCORE}$."
     ]
    },
    {
     "cell_type": "markdown",
     "metadata": {},
     "source": [
      "** Task 4 (30 pts) **\n",
      "\n",
      "Finally, we will use logistic regression to decide if a hotel is _excellent_ or not. We classify a hotel as _excellent_ if more than **60%** of its ratings are 5 stars. This is a binary attribute on which we can fit a logistic regression model. As before, use the model to analyze the data.\n",
      "\n",
      "-------"
     ]
    },
    {
     "cell_type": "markdown",
     "metadata": {},
     "source": [
      "In order to use code from a Python script file, we need to put that file in the same folder as the notebook and import it as a library. Then, we will be able to access it's functions. For example, in the case of the lecture code, we could do the following:\n",
      "\n",
      "``` python\n",
      "import scrape_solution as scrape\n",
      "\n",
      "scrape.get_city_page()\n",
      "```\n",
      "\n",
      "Of course, you might need to modify and restructure the code so that it returns what you need."
     ]
    },
    {
     "cell_type": "markdown",
     "metadata": {},
     "source": [
      "----"
     ]
    },
    {
     "cell_type": "code",
     "collapsed": false,
     "input": [
      "#import scrape_solution as scrape"
     ],
     "language": "python",
     "metadata": {},
     "outputs": [],
     "prompt_number": 1
    },
    {
     "cell_type": "code",
     "collapsed": false,
     "input": [
      "#scrape.get_city_page('Boston','Massachusetts', 'data/')"
     ],
     "language": "python",
     "metadata": {},
     "outputs": [],
     "prompt_number": 2
    },
    {
     "cell_type": "code",
     "collapsed": false,
     "input": [
      "import pandas as pd\n",
      "\n",
      "import sklearn.datasets as datasets\n",
      "import sklearn.metrics as metrics\n",
      "import sklearn.utils as utils\n",
      "import sklearn.linear_model as linear_model\n",
      "import sklearn.cross_validation as cross_validation\n",
      "import sklearn.cluster as cluster\n",
      "from sklearn.neighbors import KNeighborsClassifier\n",
      "from sklearn.decomposition import TruncatedSVD\n",
      "from sklearn.preprocessing import StandardScaler\n",
      "\n",
      "import statsmodels.api as sm\n",
      "\n",
      "from patsy import dmatrices\n",
      "\n",
      "import seaborn as sns\n",
      "%matplotlib inline\n"
     ],
     "language": "python",
     "metadata": {},
     "outputs": [],
     "prompt_number": 69
    },
    {
     "cell_type": "code",
     "collapsed": false,
     "input": [
      "import os\n",
      "import sys\n",
      "import time\n",
      "import argparse\n",
      "import logging\n",
      "import requests\n",
      "from BeautifulSoup import BeautifulSoup\n",
      "\n",
      "\n",
      "log = logging.getLogger(__name__)\n",
      "log.setLevel(logging.INFO)\n",
      "loghandler = logging.StreamHandler(sys.stderr)\n",
      "loghandler.setFormatter(logging.Formatter(\"[%(asctime)s] %(message)s\"))\n",
      "log.addHandler(loghandler)\n",
      "\n",
      "base_url = \"http://www.tripadvisor.com/\"\n",
      "user_agent = \"Mozilla/5.0 (Macintosh; Intel Mac OS X 10_10_2) AppleWebKit/537.36 (KHTML, like Gecko) Chrome/41.0.2272.76 Safari/537.36\""
     ],
     "language": "python",
     "metadata": {},
     "outputs": [],
     "prompt_number": 2
    },
    {
     "cell_type": "code",
     "collapsed": false,
     "input": [
      "def get_city_page(city, state, datadir):\n",
      "    \"\"\" Returns the URL of the list of the hotels in a city. Corresponds to\n",
      "    STEP 1 & 2 of the slides.\n",
      "\n",
      "    Parameters\n",
      "    ----------\n",
      "    city : str\n",
      "\n",
      "    state : str\n",
      "\n",
      "    datadir : str\n",
      "\n",
      "\n",
      "    Returns\n",
      "    -------\n",
      "    url : str\n",
      "        The relative link to the website with the hotels list.\n",
      "\n",
      "    \"\"\"\n",
      "    # Build the request URL\n",
      "    url = base_url + \"city=\" + city + \"&state=\" + state\n",
      "    # Request the HTML page\n",
      "    headers = {'User-Agent': user_agent}\n",
      "    response = requests.get(url, headers=headers)\n",
      "    html = response.text.encode('utf-8')\n",
      "    with open(os.path.join(datadir, city + '-tourism-page.html'), \"w\") as h:\n",
      "        h.write(html)\n",
      "\n",
      "    # Use BeautifulSoup to extract the url for the list of hotels in\n",
      "    # the city and state we are interested in.\n",
      "\n",
      "    # For example in this case we need to get the following href\n",
      "    # <li class=\"hotels twoLines\">\n",
      "    # <a href=\"/Hotels-g60745-Boston_Massachusetts-Hotels.html\" data-trk=\"hotels_nav\">...</a>\n",
      "    soup = BeautifulSoup(html)\n",
      "    li = soup.find(\"li\", {\"class\": \"hotels twoLines\"})\n",
      "    city_url = li.find('a', href=True)\n",
      "    return city_url['href']\n"
     ],
     "language": "python",
     "metadata": {},
     "outputs": [],
     "prompt_number": 3
    },
    {
     "cell_type": "code",
     "collapsed": false,
     "input": [
      "#city_url=get_city_page('Boston', 'Massachusetts', 'data')\n",
      "#city_url"
     ],
     "language": "python",
     "metadata": {},
     "outputs": [],
     "prompt_number": 4
    },
    {
     "cell_type": "code",
     "collapsed": false,
     "input": [
      "def get_hotellist_page(city_url, page_count, city, datadir='data/'):\n",
      "    \"\"\" Returns the hotel list HTML. The URL of the list is the result of\n",
      "    get_city_page(). Also, saves a copy of the HTML to the disk. Corresponds to\n",
      "    STEP 3 of the slides.\n",
      "\n",
      "    Parameters\n",
      "    ----------\n",
      "    city_url : str\n",
      "        The relative URL of the hotels in the city we are interested in.\n",
      "    page_count : int\n",
      "        The page that we want to fetch. Used for keeping track of our progress.\n",
      "    city : str\n",
      "        The name of the city that we are interested in.\n",
      "    datadir : str, default is 'data/'\n",
      "        The directory in which to save the downloaded html.\n",
      "\n",
      "    Returns\n",
      "    -------\n",
      "    html : str\n",
      "        The HTML of the page with the list of the hotels.\n",
      "    \"\"\"\n",
      "    url = base_url + city_url\n",
      "    # Sleep 2 sec before starting a new http request\n",
      "    time.sleep(2)\n",
      "    # Request page\n",
      "    headers = { 'User-Agent' : user_agent }\n",
      "    response = requests.get(url, headers=headers)\n",
      "    html = response.text.encode('utf-8')\n",
      "    # Save the webpage\n",
      "    with open(os.path.join(datadir, city + '-hotelist-' + str(page_count) + '.html'), \"w\") as h:\n",
      "        h.write(html)\n",
      "        return html\n",
      "    #print url\n"
     ],
     "language": "python",
     "metadata": {},
     "outputs": [],
     "prompt_number": 5
    },
    {
     "cell_type": "code",
     "collapsed": false,
     "input": [
      "#html=get_hotellist_page(city_url, 0, 'Boston', 'data')\n"
     ],
     "language": "python",
     "metadata": {},
     "outputs": [],
     "prompt_number": 6
    },
    {
     "cell_type": "code",
     "collapsed": false,
     "input": [
      "def parse_hotellist_page(html):\n",
      "    \"\"\"Parses the website with the hotel list and prints the hotel name, the\n",
      "    number of stars and the number of reviews it has. Addtionally it creats a list of all the urls for each\n",
      "    hotel on that page, and returns that list. If there is a next page\n",
      "    in the hotel list, it returns a list to the next page, otherwise, it simply returns the hotel url list for \n",
      "    that page. Corresponds to STEP 4 of the slides.\n",
      "\n",
      "    Parameters\n",
      "    ----------\n",
      "    html : str\n",
      "        The HTML of the website with the hotel list.\n",
      "\n",
      "    Returns\n",
      "    -------\n",
      "    URL : str\n",
      "        Return list of all hotel urls on page\n",
      "        If there is a next page, return a relative link to this page.\n",
      "        Otherwise simply return the hotel url list.\n",
      "    \"\"\"\n",
      "    soup = BeautifulSoup(html)\n",
      "    # Extract hotel name, star rating and number of reviews\n",
      "    hotel_boxes = soup.findAll('div', {'class' :'listing wrap reasoning_v5_wrap jfy_listing p13n_imperfect'})\n",
      "    if not hotel_boxes:\n",
      "        log.info(\"#################################### Option 2 ######################################\")\n",
      "        hotel_boxes = soup.findAll('div', {'class' :'listing_info jfy'})\n",
      "    if not hotel_boxes:\n",
      "        log.info(\"#################################### Option 3 ######################################\")\n",
      "        hotel_boxes = soup.findAll('div', {'class' :'listing easyClear  p13n_imperfect'})\n",
      "\n",
      "    \"\"\"for hotel_box in hotel_boxes:\n",
      "        hotel_name = hotel_box.find(\"a\", {\"target\" : \"_blank\"}).find(text=True)\n",
      "        log.info(\"Hotel name: %s\" % hotel_name.strip())\n",
      "\n",
      "        stars = hotel_box.find(\"img\", {\"class\" : \"sprite-ratings\"})\n",
      "        if stars:\n",
      "            log.info(\"Stars: %s\" % stars['alt'].split()[0])\n",
      "\n",
      "        num_reviews = hotel_box.find(\"span\", {'class': \"more\"}).findAll(text=True)\n",
      "        if num_reviews:\n",
      "            log.info(\"Number of reviews: %s \" % [x for x in num_reviews if \"review\" in x][0].strip())\"\"\"\n",
      "    \n",
      "    hotel_page =[]\n",
      "    for hotel_box in hotel_boxes:\n",
      "        hotel_link = hotel_box.find('a', {'class': 'property_title'})\n",
      "        hotel_page.append(hotel_link['href'])\n",
      "        #log.info(hotel_link['href'])\n",
      "    \n",
      "    # Get next URL page if exists, otherwise exit\n",
      "    div = soup.find(\"div\", {\"class\" : \"pagination paginationfillbtm\"})\n",
      "    \n",
      "    \n",
      "    #return the url to the next page\n",
      "    hrefs = div.findAll('a', href= True)\n",
      "    #log.debug(div)\n",
      "    href=div.find('a', {\"class\" :'guiArw sprite-pageNext '})\n",
      "    #log.debug(\"Next url is %s \\n\\n\" % href['href'])\n",
      "    log.debug(hotel_page)\n",
      "    # check if this is the last page\n",
      "    if div('span', {'class' : 'guiArw pageEndNext'}):\n",
      "        log.info(\"We reached last page\")\n",
      "        return None, hotel_page\n",
      "    else:\n",
      "        return href['href'], hotel_page\n",
      "    "
     ],
     "language": "python",
     "metadata": {},
     "outputs": [],
     "prompt_number": 7
    },
    {
     "cell_type": "code",
     "collapsed": false,
     "input": [
      "#print parse_hotellist_page(html)\n"
     ],
     "language": "python",
     "metadata": {},
     "outputs": [],
     "prompt_number": 8
    },
    {
     "cell_type": "code",
     "collapsed": false,
     "input": [
      "def scrape_hotels(city, state, datadir='data/'):\n",
      "    \"\"\"Runs the main scraper code\n",
      "\n",
      "    Parameters\n",
      "    ----------\n",
      "    city : str\n",
      "        The name of the city for which to scrape hotels.\n",
      "\n",
      "    state : str\n",
      "        The state in which the city is located.\n",
      "\n",
      "    datadir : str, default is 'data/'\n",
      "        The directory under which to save the downloaded html.\n",
      "        \n",
      "    Returns\n",
      "    -------\n",
      "    URL: lst\n",
      "        Returns a list of the urls to all the hotels in Boston\n",
      "    \"\"\"\n",
      "\n",
      "    # Get current directory\n",
      "    current_dir = os.getcwd()\n",
      "    # Create datadir if does not exist\n",
      "    if not os.path.exists(os.path.join(current_dir, datadir)):\n",
      "        os.makedirs(os.path.join(current_dir, datadir))\n",
      "\n",
      "    # Get URL to obtaint the list of hotels in a specific city\n",
      "    city_url = get_city_page(city, state, datadir)\n",
      "    c = 0\n",
      "    all_hotels=[]\n",
      "    while(True):\n",
      "        c += 1\n",
      "        try:\n",
      "            html = get_hotellist_page(city_url, c, city, datadir)\n",
      "            print city_url\n",
      "            city_url = parse_hotellist_page(html)[0]\n",
      "            all_hotels.extend(parse_hotellist_page(html)[1])\n",
      "            #print all_hotels\n",
      "            #print city_url\n",
      "            print len(parse_hotellist_page(html)[1])\n",
      "        except Exception:\n",
      "            #all_hotels.append(parse_hotellist_page(html)[1])\n",
      "            break\n",
      "    return all_hotels\n",
      "    #print all_hotels\n",
      "    #print len(all_hotels)"
     ],
     "language": "python",
     "metadata": {},
     "outputs": [],
     "prompt_number": 9
    },
    {
     "cell_type": "code",
     "collapsed": false,
     "input": [
      "#scrape_hotels('Boston', 'Massachusetts', 'data')\n",
      "all_hotel_urls=scrape_hotels('Boston', 'Massachusetts', 'data')\n",
      "#all_hotel_urls"
     ],
     "language": "python",
     "metadata": {},
     "outputs": [
      {
       "output_type": "stream",
       "stream": "stderr",
       "text": [
        "[2015-04-04 13:43:27,928] #################################### Option 2 ######################################\n"
       ]
      },
      {
       "output_type": "stream",
       "stream": "stderr",
       "text": [
        "INFO:__main__:#################################### Option 2 ######################################\n"
       ]
      },
      {
       "output_type": "stream",
       "stream": "stderr",
       "text": [
        "[2015-04-04 13:43:28,222] #################################### Option 3 ######################################\n"
       ]
      },
      {
       "output_type": "stream",
       "stream": "stderr",
       "text": [
        "INFO:__main__:#################################### Option 3 ######################################\n"
       ]
      },
      {
       "output_type": "stream",
       "stream": "stderr",
       "text": [
        "[2015-04-04 13:43:34,124] #################################### Option 2 ######################################\n"
       ]
      },
      {
       "output_type": "stream",
       "stream": "stderr",
       "text": [
        "INFO:__main__:#################################### Option 2 ######################################\n"
       ]
      },
      {
       "output_type": "stream",
       "stream": "stderr",
       "text": [
        "[2015-04-04 13:43:34,419] #################################### Option 3 ######################################\n"
       ]
      },
      {
       "output_type": "stream",
       "stream": "stderr",
       "text": [
        "INFO:__main__:#################################### Option 3 ######################################\n"
       ]
      },
      {
       "output_type": "stream",
       "stream": "stderr",
       "text": [
        "[2015-04-04 13:43:40,521] #################################### Option 2 ######################################\n"
       ]
      },
      {
       "output_type": "stream",
       "stream": "stderr",
       "text": [
        "INFO:__main__:#################################### Option 2 ######################################\n"
       ]
      },
      {
       "output_type": "stream",
       "stream": "stderr",
       "text": [
        "[2015-04-04 13:43:40,825] #################################### Option 3 ######################################\n"
       ]
      },
      {
       "output_type": "stream",
       "stream": "stderr",
       "text": [
        "INFO:__main__:#################################### Option 3 ######################################\n"
       ]
      },
      {
       "output_type": "stream",
       "stream": "stdout",
       "text": [
        "/Hotels-g60745-Boston_Massachusetts-Hotels.html\n",
        "30"
       ]
      },
      {
       "output_type": "stream",
       "stream": "stdout",
       "text": [
        "\n",
        "/Hotels-g60745-oa30-Boston_Massachusetts-Hotels.html#ACCOM_OVERVIEW"
       ]
      },
      {
       "output_type": "stream",
       "stream": "stderr",
       "text": [
        "[2015-04-04 13:43:49,975] #################################### Option 2 ######################################\n"
       ]
      },
      {
       "output_type": "stream",
       "stream": "stderr",
       "text": [
        "INFO:__main__:#################################### Option 2 ######################################\n"
       ]
      },
      {
       "output_type": "stream",
       "stream": "stderr",
       "text": [
        "[2015-04-04 13:43:50,264] #################################### Option 3 ######################################\n"
       ]
      },
      {
       "output_type": "stream",
       "stream": "stderr",
       "text": [
        "INFO:__main__:#################################### Option 3 ######################################\n"
       ]
      },
      {
       "output_type": "stream",
       "stream": "stderr",
       "text": [
        "[2015-04-04 13:43:56,208] #################################### Option 2 ######################################\n"
       ]
      },
      {
       "output_type": "stream",
       "stream": "stderr",
       "text": [
        "INFO:__main__:#################################### Option 2 ######################################\n"
       ]
      },
      {
       "output_type": "stream",
       "stream": "stderr",
       "text": [
        "[2015-04-04 13:43:56,499] #################################### Option 3 ######################################\n"
       ]
      },
      {
       "output_type": "stream",
       "stream": "stderr",
       "text": [
        "INFO:__main__:#################################### Option 3 ######################################\n"
       ]
      },
      {
       "output_type": "stream",
       "stream": "stderr",
       "text": [
        "[2015-04-04 13:44:02,215] #################################### Option 2 ######################################\n"
       ]
      },
      {
       "output_type": "stream",
       "stream": "stderr",
       "text": [
        "INFO:__main__:#################################### Option 2 ######################################\n"
       ]
      },
      {
       "output_type": "stream",
       "stream": "stderr",
       "text": [
        "[2015-04-04 13:44:02,520] #################################### Option 3 ######################################\n"
       ]
      },
      {
       "output_type": "stream",
       "stream": "stderr",
       "text": [
        "INFO:__main__:#################################### Option 3 ######################################\n"
       ]
      },
      {
       "output_type": "stream",
       "stream": "stdout",
       "text": [
        "\n",
        "30"
       ]
      },
      {
       "output_type": "stream",
       "stream": "stdout",
       "text": [
        "\n",
        "/Hotels-g60745-oa60-Boston_Massachusetts-Hotels.html#ACCOM_OVERVIEW"
       ]
      },
      {
       "output_type": "stream",
       "stream": "stderr",
       "text": [
        "[2015-04-04 13:44:11,127] #################################### Option 2 ######################################\n"
       ]
      },
      {
       "output_type": "stream",
       "stream": "stderr",
       "text": [
        "INFO:__main__:#################################### Option 2 ######################################\n"
       ]
      },
      {
       "output_type": "stream",
       "stream": "stderr",
       "text": [
        "[2015-04-04 13:44:11,372] #################################### Option 3 ######################################\n"
       ]
      },
      {
       "output_type": "stream",
       "stream": "stderr",
       "text": [
        "INFO:__main__:#################################### Option 3 ######################################\n"
       ]
      },
      {
       "output_type": "stream",
       "stream": "stderr",
       "text": [
        "[2015-04-04 13:44:11,861] We reached last page\n"
       ]
      },
      {
       "output_type": "stream",
       "stream": "stderr",
       "text": [
        "INFO:__main__:We reached last page\n"
       ]
      },
      {
       "output_type": "stream",
       "stream": "stderr",
       "text": [
        "[2015-04-04 13:44:15,945] #################################### Option 2 ######################################\n"
       ]
      },
      {
       "output_type": "stream",
       "stream": "stderr",
       "text": [
        "INFO:__main__:#################################### Option 2 ######################################\n"
       ]
      },
      {
       "output_type": "stream",
       "stream": "stderr",
       "text": [
        "[2015-04-04 13:44:16,197] #################################### Option 3 ######################################\n"
       ]
      },
      {
       "output_type": "stream",
       "stream": "stderr",
       "text": [
        "INFO:__main__:#################################### Option 3 ######################################\n"
       ]
      },
      {
       "output_type": "stream",
       "stream": "stderr",
       "text": [
        "[2015-04-04 13:44:16,672] We reached last page\n"
       ]
      },
      {
       "output_type": "stream",
       "stream": "stderr",
       "text": [
        "INFO:__main__:We reached last page\n"
       ]
      },
      {
       "output_type": "stream",
       "stream": "stderr",
       "text": [
        "[2015-04-04 13:44:20,847] #################################### Option 2 ######################################\n"
       ]
      },
      {
       "output_type": "stream",
       "stream": "stderr",
       "text": [
        "INFO:__main__:#################################### Option 2 ######################################\n"
       ]
      },
      {
       "output_type": "stream",
       "stream": "stderr",
       "text": [
        "[2015-04-04 13:44:21,086] #################################### Option 3 ######################################\n"
       ]
      },
      {
       "output_type": "stream",
       "stream": "stderr",
       "text": [
        "INFO:__main__:#################################### Option 3 ######################################\n"
       ]
      },
      {
       "output_type": "stream",
       "stream": "stderr",
       "text": [
        "[2015-04-04 13:44:21,567] We reached last page\n"
       ]
      },
      {
       "output_type": "stream",
       "stream": "stderr",
       "text": [
        "INFO:__main__:We reached last page\n"
       ]
      },
      {
       "output_type": "stream",
       "stream": "stdout",
       "text": [
        "\n",
        "17"
       ]
      },
      {
       "output_type": "stream",
       "stream": "stdout",
       "text": [
        "\n"
       ]
      }
     ],
     "prompt_number": 10
    },
    {
     "cell_type": "code",
     "collapsed": false,
     "input": [
      "#print all_hotel_urls\n",
      "from collections import defaultdict\n",
      "def parse_hotel_stats(hotel_url_list):\n",
      "    \"\"\"Scrapes the stats for each hotel\n",
      "    Parameters\n",
      "    ----------\n",
      "    hotel_url_list: lst\n",
      "    \n",
      "    Returns\n",
      "    -------\n",
      "    DataFrame: pd.DataFrame\n",
      "    \"\"\"\n",
      "    data=defaultdict(list)\n",
      "    for i in range(0, len(hotel_url_list)):\n",
      "        url = base_url+hotel_url_list[i]\n",
      "        headers = {'User-Agent': user_agent}\n",
      "        response = requests.get(url, headers=headers)\n",
      "        html = response.text.encode('utf-8')\n",
      "        soup = BeautifulSoup(html)\n",
      "        \n",
      "        \n",
      "        name_header=soup.find('div', {'class': 'brandArea'})\n",
      "        hotel_name=name_header.find('h1', {'class':'header   '}).find(text=True)\n",
      "        data['hotel_name'].append(hotel_name)\n",
      "        \n",
      "        ratings=soup.findAll('div', {'class': 'wrap row'})\n",
      "        rating_list=[]\n",
      "        for rate in ratings:\n",
      "            rating_list.append(rate.find('span', {'class':'compositeCount'}).find(text=True))\n",
      "            #log.info(rating_list)\n",
      "            \n",
      "        data['excellent_rating'].append(rating_list[0])\n",
      "        data['very_good_rating'].append(rating_list[1])\n",
      "        data['average_rating'].append(rating_list[2])\n",
      "        data['poor_rating'].append(rating_list[3])\n",
      "        data['terrible_rating'].append(rating_list[4])\n",
      "        \n",
      "        family=soup.find('div', {'class': 'segment segment1'})\n",
      "        family_count=family.find('div', {'class': 'value'}).find(text=True)\n",
      "        data['family_count'].append(family_count)\n",
      "        \n",
      "        couples = soup.find('div', {'class': 'segment segment2'})\n",
      "        couples_count=couples.find('div', {'class': 'value'}).find(text=True)\n",
      "        data['couples_count'].append(couples_count)\n",
      "        \n",
      "        solo = soup.find('div', {'class': 'segment segment3'})\n",
      "        solo_count = solo.find('div', {'class': 'value'}).find(text=True)\n",
      "        data['solo_count'].append(solo_count)\n",
      "        \n",
      "        business = soup.find('div', {'class': 'segment segment4'})\n",
      "        business_count=business.find('div', {'class': 'value'}).find(text=True)\n",
      "        data['business_count'].append(business_count)\n",
      "        \n",
      "        summary_box = soup.find('div', {'class' : 'wrap subrating'})\n",
      "        boxes = summary_box.findAll('span', {'class' : 'rate sprite-rating_s rating_s'})\n",
      "        stars_list=[]\n",
      "        for box in boxes:\n",
      "            num_stars=box.find('img')\n",
      "            stars_list.append(num_stars['alt'].split()[0])\n",
      "            \n",
      "        data['sleep_quality'].append(stars_list[0])\n",
      "        data['location'].append(stars_list[1])\n",
      "        data['rooms'].append(stars_list[2])\n",
      "        data['service'].append(stars_list[3])\n",
      "        data['value'].append(stars_list[4])\n",
      "        data['cleanliness'].append(stars_list[5])\n",
      "            \n",
      "        log.info(stars_list)\n",
      "        \n",
      "        \n",
      "        \n",
      "        \n",
      "        #stars = hotel_box.find(\"img\", {\"class\" : \"sprite-ratings\"})\n",
      "        #if stars:\n",
      "            #log.info(\"Stars: %s\" % stars['alt'].split()[0])\n",
      "        \n",
      "        \n",
      "        #log.info(boxes)\n",
      "        \n",
      "        #log.info(family_count)\n",
      "        time.sleep(2)\n",
      "        \n",
      "        #giraffe = soup.find(text='Giraffe').findNext('td').text\n",
      "        \n",
      "    df = pd.DataFrame(data)\n",
      "    return df\n",
      "    \"\"\"li = soup.find(\"li\", {\"class\": \"hotels twoLines\"})\n",
      "    city_url = li.find('a', href=True)\n",
      "    return city_url['href']\"\"\"\n",
      "\n",
      "        \n",
      "minilist= ['Hotel_Review-g60745-d216999-Reviews-Americas_Best_Value_Inn-Boston_Massachusetts.html',\n",
      "           'Hotel_Review-g60745-d268207-Reviews-Residence_Inn_by_Marriott_Boston_Harbor_on_Tudor_Wharf-Boston_Massachusetts.html']    \n",
      "    \n",
      "bhotel=parse_hotel_stats(all_hotel_urls)\n",
      "bhotel.head()\n",
      "bhotel.index=bhotel.hotel_name\n",
      "bhotel =bhotel.drop(['hotel_name'], axis =1)"
     ],
     "language": "python",
     "metadata": {},
     "outputs": [
      {
       "output_type": "stream",
       "stream": "stderr",
       "text": [
        "[2015-04-04 13:51:33,689] [u'4.5', u'4.5', u'4.5', u'4.5', u'4.5', u'5']\n"
       ]
      },
      {
       "output_type": "stream",
       "stream": "stderr",
       "text": [
        "INFO:__main__:[u'4.5', u'4.5', u'4.5', u'4.5', u'4.5', u'5']\n"
       ]
      },
      {
       "output_type": "stream",
       "stream": "stderr",
       "text": [
        "[2015-04-04 13:51:37,938] [u'4.5', u'4', u'4', u'4.5', u'4', u'4.5']\n"
       ]
      },
      {
       "output_type": "stream",
       "stream": "stderr",
       "text": [
        "INFO:__main__:[u'4.5', u'4', u'4', u'4.5', u'4', u'4.5']\n"
       ]
      },
      {
       "output_type": "stream",
       "stream": "stderr",
       "text": [
        "[2015-04-04 13:51:42,269] [u'5', u'5', u'5', u'5', u'4.5', u'5']\n"
       ]
      },
      {
       "output_type": "stream",
       "stream": "stderr",
       "text": [
        "INFO:__main__:[u'5', u'5', u'5', u'5', u'4.5', u'5']\n"
       ]
      },
      {
       "output_type": "stream",
       "stream": "stderr",
       "text": [
        "[2015-04-04 13:51:46,632] [u'5', u'4.5', u'4.5', u'5', u'4.5', u'5']\n"
       ]
      },
      {
       "output_type": "stream",
       "stream": "stderr",
       "text": [
        "INFO:__main__:[u'5', u'4.5', u'4.5', u'5', u'4.5', u'5']\n"
       ]
      },
      {
       "output_type": "stream",
       "stream": "stderr",
       "text": [
        "[2015-04-04 13:51:50,790] [u'4.5', u'4', u'4.5', u'4.5', u'4.5', u'5']\n"
       ]
      },
      {
       "output_type": "stream",
       "stream": "stderr",
       "text": [
        "INFO:__main__:[u'4.5', u'4', u'4.5', u'4.5', u'4.5', u'5']\n"
       ]
      },
      {
       "output_type": "stream",
       "stream": "stderr",
       "text": [
        "[2015-04-04 13:51:55,068] [u'4.5', u'4.5', u'4.5', u'4.5', u'4', u'4.5']\n"
       ]
      },
      {
       "output_type": "stream",
       "stream": "stderr",
       "text": [
        "INFO:__main__:[u'4.5', u'4.5', u'4.5', u'4.5', u'4', u'4.5']\n"
       ]
      },
      {
       "output_type": "stream",
       "stream": "stderr",
       "text": [
        "[2015-04-04 13:51:59,566] [u'5', u'4.5', u'4.5', u'5', u'4.5', u'5']\n"
       ]
      },
      {
       "output_type": "stream",
       "stream": "stderr",
       "text": [
        "INFO:__main__:[u'5', u'4.5', u'4.5', u'5', u'4.5', u'5']\n"
       ]
      },
      {
       "output_type": "stream",
       "stream": "stderr",
       "text": [
        "[2015-04-04 13:52:04,098] [u'5', u'4.5', u'4.5', u'4.5', u'4', u'4.5']\n"
       ]
      },
      {
       "output_type": "stream",
       "stream": "stderr",
       "text": [
        "INFO:__main__:[u'5', u'4.5', u'4.5', u'4.5', u'4', u'4.5']\n"
       ]
      },
      {
       "output_type": "stream",
       "stream": "stderr",
       "text": [
        "[2015-04-04 13:52:08,290] [u'5', u'4.5', u'4.5', u'4.5', u'4.5', u'4.5']\n"
       ]
      },
      {
       "output_type": "stream",
       "stream": "stderr",
       "text": [
        "INFO:__main__:[u'5', u'4.5', u'4.5', u'4.5', u'4.5', u'4.5']\n"
       ]
      },
      {
       "output_type": "stream",
       "stream": "stderr",
       "text": [
        "[2015-04-04 13:52:12,542] [u'5', u'4.5', u'4.5', u'4.5', u'4', u'4.5']\n"
       ]
      },
      {
       "output_type": "stream",
       "stream": "stderr",
       "text": [
        "INFO:__main__:[u'5', u'4.5', u'4.5', u'4.5', u'4', u'4.5']\n"
       ]
      },
      {
       "output_type": "stream",
       "stream": "stderr",
       "text": [
        "[2015-04-04 13:52:17,139] [u'5', u'4', u'4', u'4.5', u'4', u'4.5']\n"
       ]
      },
      {
       "output_type": "stream",
       "stream": "stderr",
       "text": [
        "INFO:__main__:[u'5', u'4', u'4', u'4.5', u'4', u'4.5']\n"
       ]
      },
      {
       "output_type": "stream",
       "stream": "stderr",
       "text": [
        "[2015-04-04 13:52:21,131] [u'5', u'4.5', u'4.5', u'4.5', u'4', u'5']\n"
       ]
      },
      {
       "output_type": "stream",
       "stream": "stderr",
       "text": [
        "INFO:__main__:[u'5', u'4.5', u'4.5', u'4.5', u'4', u'5']\n"
       ]
      },
      {
       "output_type": "stream",
       "stream": "stderr",
       "text": [
        "[2015-04-04 13:52:25,520] [u'4.5', u'4', u'4', u'4', u'4', u'4.5']\n"
       ]
      },
      {
       "output_type": "stream",
       "stream": "stderr",
       "text": [
        "INFO:__main__:[u'4.5', u'4', u'4', u'4', u'4', u'4.5']\n"
       ]
      },
      {
       "output_type": "stream",
       "stream": "stderr",
       "text": [
        "[2015-04-04 13:52:29,678] [u'4.5', u'4', u'4', u'4.5', u'3.5', u'4.5']\n"
       ]
      },
      {
       "output_type": "stream",
       "stream": "stderr",
       "text": [
        "INFO:__main__:[u'4.5', u'4', u'4', u'4.5', u'3.5', u'4.5']\n"
       ]
      },
      {
       "output_type": "stream",
       "stream": "stderr",
       "text": [
        "[2015-04-04 13:52:34,030] [u'4.5', u'4', u'3.5', u'4', u'4', u'4']\n"
       ]
      },
      {
       "output_type": "stream",
       "stream": "stderr",
       "text": [
        "INFO:__main__:[u'4.5', u'4', u'3.5', u'4', u'4', u'4']\n"
       ]
      },
      {
       "output_type": "stream",
       "stream": "stderr",
       "text": [
        "[2015-04-04 13:52:38,587] [u'4.5', u'4.5', u'4.5', u'4.5', u'4.5', u'5']\n"
       ]
      },
      {
       "output_type": "stream",
       "stream": "stderr",
       "text": [
        "INFO:__main__:[u'4.5', u'4.5', u'4.5', u'4.5', u'4.5', u'5']\n"
       ]
      },
      {
       "output_type": "stream",
       "stream": "stderr",
       "text": [
        "[2015-04-04 13:52:43,044] [u'5', u'4.5', u'4', u'4.5', u'4', u'4.5']\n"
       ]
      },
      {
       "output_type": "stream",
       "stream": "stderr",
       "text": [
        "INFO:__main__:[u'5', u'4.5', u'4', u'4.5', u'4', u'4.5']\n"
       ]
      },
      {
       "output_type": "stream",
       "stream": "stderr",
       "text": [
        "[2015-04-04 13:52:47,113] [u'5', u'4', u'4', u'4', u'4', u'4.5']\n"
       ]
      },
      {
       "output_type": "stream",
       "stream": "stderr",
       "text": [
        "INFO:__main__:[u'5', u'4', u'4', u'4', u'4', u'4.5']\n"
       ]
      },
      {
       "output_type": "stream",
       "stream": "stderr",
       "text": [
        "[2015-04-04 13:52:51,325] [u'5', u'4.5', u'4', u'4', u'4', u'4.5']\n"
       ]
      },
      {
       "output_type": "stream",
       "stream": "stderr",
       "text": [
        "INFO:__main__:[u'5', u'4.5', u'4', u'4', u'4', u'4.5']\n"
       ]
      },
      {
       "output_type": "stream",
       "stream": "stderr",
       "text": [
        "[2015-04-04 13:52:55,545] [u'4.5', u'4', u'4', u'4', u'4', u'4.5']\n"
       ]
      },
      {
       "output_type": "stream",
       "stream": "stderr",
       "text": [
        "INFO:__main__:[u'4.5', u'4', u'4', u'4', u'4', u'4.5']\n"
       ]
      },
      {
       "output_type": "stream",
       "stream": "stderr",
       "text": [
        "[2015-04-04 13:52:59,889] [u'5', u'4.5', u'4', u'4.5', u'4', u'4.5']\n"
       ]
      },
      {
       "output_type": "stream",
       "stream": "stderr",
       "text": [
        "INFO:__main__:[u'5', u'4.5', u'4', u'4.5', u'4', u'4.5']\n"
       ]
      },
      {
       "output_type": "stream",
       "stream": "stderr",
       "text": [
        "[2015-04-04 13:53:04,449] [u'4.5', u'4.5', u'4.5', u'4.5', u'4', u'4.5']\n"
       ]
      },
      {
       "output_type": "stream",
       "stream": "stderr",
       "text": [
        "INFO:__main__:[u'4.5', u'4.5', u'4.5', u'4.5', u'4', u'4.5']\n"
       ]
      },
      {
       "output_type": "stream",
       "stream": "stderr",
       "text": [
        "[2015-04-04 13:53:09,871] [u'5', u'4', u'4', u'4', u'4', u'4.5']\n"
       ]
      },
      {
       "output_type": "stream",
       "stream": "stderr",
       "text": [
        "INFO:__main__:[u'5', u'4', u'4', u'4', u'4', u'4.5']\n"
       ]
      },
      {
       "output_type": "stream",
       "stream": "stderr",
       "text": [
        "[2015-04-04 13:53:14,045] [u'5', u'4.5', u'4.5', u'4.5', u'4', u'4.5']\n"
       ]
      },
      {
       "output_type": "stream",
       "stream": "stderr",
       "text": [
        "INFO:__main__:[u'5', u'4.5', u'4.5', u'4.5', u'4', u'4.5']\n"
       ]
      },
      {
       "output_type": "stream",
       "stream": "stderr",
       "text": [
        "[2015-04-04 13:53:18,371] [u'4.5', u'4.5', u'4.5', u'4.5', u'4', u'4.5']\n"
       ]
      },
      {
       "output_type": "stream",
       "stream": "stderr",
       "text": [
        "INFO:__main__:[u'4.5', u'4.5', u'4.5', u'4.5', u'4', u'4.5']\n"
       ]
      },
      {
       "output_type": "stream",
       "stream": "stderr",
       "text": [
        "[2015-04-04 13:53:22,559] [u'4.5', u'4', u'3.5', u'4', u'4', u'4']\n"
       ]
      },
      {
       "output_type": "stream",
       "stream": "stderr",
       "text": [
        "INFO:__main__:[u'4.5', u'4', u'3.5', u'4', u'4', u'4']\n"
       ]
      },
      {
       "output_type": "stream",
       "stream": "stderr",
       "text": [
        "[2015-04-04 13:53:26,965] [u'4.5', u'4.5', u'4', u'4', u'4', u'4.5']\n"
       ]
      },
      {
       "output_type": "stream",
       "stream": "stderr",
       "text": [
        "INFO:__main__:[u'4.5', u'4.5', u'4', u'4', u'4', u'4.5']\n"
       ]
      },
      {
       "output_type": "stream",
       "stream": "stderr",
       "text": [
        "[2015-04-04 13:53:31,170] [u'4.5', u'4.5', u'4.5', u'4.5', u'4.5', u'5']\n"
       ]
      },
      {
       "output_type": "stream",
       "stream": "stderr",
       "text": [
        "INFO:__main__:[u'4.5', u'4.5', u'4.5', u'4.5', u'4.5', u'5']\n"
       ]
      },
      {
       "output_type": "stream",
       "stream": "stderr",
       "text": [
        "[2015-04-04 13:53:35,581] [u'4.5', u'4', u'4', u'4', u'3.5', u'4.5']\n"
       ]
      },
      {
       "output_type": "stream",
       "stream": "stderr",
       "text": [
        "INFO:__main__:[u'4.5', u'4', u'4', u'4', u'3.5', u'4.5']\n"
       ]
      },
      {
       "output_type": "stream",
       "stream": "stderr",
       "text": [
        "[2015-04-04 13:53:40,087] [u'4.5', u'4.5', u'4.5', u'4.5', u'4', u'4.5']\n"
       ]
      },
      {
       "output_type": "stream",
       "stream": "stderr",
       "text": [
        "INFO:__main__:[u'4.5', u'4.5', u'4.5', u'4.5', u'4', u'4.5']\n"
       ]
      },
      {
       "output_type": "stream",
       "stream": "stderr",
       "text": [
        "[2015-04-04 13:53:44,374] [u'4.5', u'4.5', u'4.5', u'4.5', u'4', u'4.5']\n"
       ]
      },
      {
       "output_type": "stream",
       "stream": "stderr",
       "text": [
        "INFO:__main__:[u'4.5', u'4.5', u'4.5', u'4.5', u'4', u'4.5']\n"
       ]
      },
      {
       "output_type": "stream",
       "stream": "stderr",
       "text": [
        "[2015-04-04 13:53:48,540] [u'4.5', u'4', u'3.5', u'4', u'4', u'4.5']\n"
       ]
      },
      {
       "output_type": "stream",
       "stream": "stderr",
       "text": [
        "INFO:__main__:[u'4.5', u'4', u'3.5', u'4', u'4', u'4.5']\n"
       ]
      },
      {
       "output_type": "stream",
       "stream": "stderr",
       "text": [
        "[2015-04-04 13:53:52,728] [u'4.5', u'4.5', u'4.5', u'4.5', u'4', u'4.5']\n"
       ]
      },
      {
       "output_type": "stream",
       "stream": "stderr",
       "text": [
        "INFO:__main__:[u'4.5', u'4.5', u'4.5', u'4.5', u'4', u'4.5']\n"
       ]
      },
      {
       "output_type": "stream",
       "stream": "stderr",
       "text": [
        "[2015-04-04 13:53:56,930] [u'4.5', u'4', u'4', u'4', u'4', u'4.5']\n"
       ]
      },
      {
       "output_type": "stream",
       "stream": "stderr",
       "text": [
        "INFO:__main__:[u'4.5', u'4', u'4', u'4', u'4', u'4.5']\n"
       ]
      },
      {
       "output_type": "stream",
       "stream": "stderr",
       "text": [
        "[2015-04-04 13:54:01,313] [u'4.5', u'4.5', u'4.5', u'4.5', u'4', u'4.5']\n"
       ]
      },
      {
       "output_type": "stream",
       "stream": "stderr",
       "text": [
        "INFO:__main__:[u'4.5', u'4.5', u'4.5', u'4.5', u'4', u'4.5']\n"
       ]
      },
      {
       "output_type": "stream",
       "stream": "stderr",
       "text": [
        "[2015-04-04 13:54:05,722] [u'4.5', u'4', u'4', u'4', u'3.5', u'4.5']\n"
       ]
      },
      {
       "output_type": "stream",
       "stream": "stderr",
       "text": [
        "INFO:__main__:[u'4.5', u'4', u'4', u'4', u'3.5', u'4.5']\n"
       ]
      },
      {
       "output_type": "stream",
       "stream": "stderr",
       "text": [
        "[2015-04-04 13:54:09,892] [u'5', u'5', u'4.5', u'5', u'4', u'5']\n"
       ]
      },
      {
       "output_type": "stream",
       "stream": "stderr",
       "text": [
        "INFO:__main__:[u'5', u'5', u'4.5', u'5', u'4', u'5']\n"
       ]
      },
      {
       "output_type": "stream",
       "stream": "stderr",
       "text": [
        "[2015-04-04 13:54:14,281] [u'5', u'4', u'4', u'4.5', u'3.5', u'4.5']\n"
       ]
      },
      {
       "output_type": "stream",
       "stream": "stderr",
       "text": [
        "INFO:__main__:[u'5', u'4', u'4', u'4.5', u'3.5', u'4.5']\n"
       ]
      },
      {
       "output_type": "stream",
       "stream": "stderr",
       "text": [
        "[2015-04-04 13:54:18,718] [u'4.5', u'4', u'4', u'4', u'4', u'4.5']\n"
       ]
      },
      {
       "output_type": "stream",
       "stream": "stderr",
       "text": [
        "INFO:__main__:[u'4.5', u'4', u'4', u'4', u'4', u'4.5']\n"
       ]
      },
      {
       "output_type": "stream",
       "stream": "stderr",
       "text": [
        "[2015-04-04 13:54:22,841] [u'5', u'4.5', u'4.5', u'4.5', u'4', u'5']\n"
       ]
      },
      {
       "output_type": "stream",
       "stream": "stderr",
       "text": [
        "INFO:__main__:[u'5', u'4.5', u'4.5', u'4.5', u'4', u'5']\n"
       ]
      },
      {
       "output_type": "stream",
       "stream": "stderr",
       "text": [
        "[2015-04-04 13:54:27,049] [u'4.5', u'4', u'4', u'4', u'3.5', u'4.5']\n"
       ]
      },
      {
       "output_type": "stream",
       "stream": "stderr",
       "text": [
        "INFO:__main__:[u'4.5', u'4', u'4', u'4', u'3.5', u'4.5']\n"
       ]
      },
      {
       "output_type": "stream",
       "stream": "stderr",
       "text": [
        "[2015-04-04 13:54:31,410] [u'4.5', u'4', u'4', u'4', u'3.5', u'4.5']\n"
       ]
      },
      {
       "output_type": "stream",
       "stream": "stderr",
       "text": [
        "INFO:__main__:[u'4.5', u'4', u'4', u'4', u'3.5', u'4.5']\n"
       ]
      },
      {
       "output_type": "stream",
       "stream": "stderr",
       "text": [
        "[2015-04-04 13:54:35,529] [u'4', u'3.5', u'4.5', u'4', u'4', u'4.5']\n"
       ]
      },
      {
       "output_type": "stream",
       "stream": "stderr",
       "text": [
        "INFO:__main__:[u'4', u'3.5', u'4.5', u'4', u'4', u'4.5']\n"
       ]
      },
      {
       "output_type": "stream",
       "stream": "stderr",
       "text": [
        "[2015-04-04 13:54:39,674] [u'4.5', u'4.5', u'4', u'4.5', u'4', u'4.5']\n"
       ]
      },
      {
       "output_type": "stream",
       "stream": "stderr",
       "text": [
        "INFO:__main__:[u'4.5', u'4.5', u'4', u'4.5', u'4', u'4.5']\n"
       ]
      },
      {
       "output_type": "stream",
       "stream": "stderr",
       "text": [
        "[2015-04-04 13:54:43,926] [u'4.5', u'4.5', u'5', u'4.5', u'4', u'5']\n"
       ]
      },
      {
       "output_type": "stream",
       "stream": "stderr",
       "text": [
        "INFO:__main__:[u'4.5', u'4.5', u'5', u'4.5', u'4', u'5']\n"
       ]
      },
      {
       "output_type": "stream",
       "stream": "stderr",
       "text": [
        "[2015-04-04 13:54:48,064] [u'3.5', u'3.5', u'3', u'3.5', u'3.5', u'3.5']\n"
       ]
      },
      {
       "output_type": "stream",
       "stream": "stderr",
       "text": [
        "INFO:__main__:[u'3.5', u'3.5', u'3', u'3.5', u'3.5', u'3.5']\n"
       ]
      },
      {
       "output_type": "stream",
       "stream": "stderr",
       "text": [
        "[2015-04-04 13:54:52,198] [u'4', u'4', u'3.5', u'4', u'4', u'4']\n"
       ]
      },
      {
       "output_type": "stream",
       "stream": "stderr",
       "text": [
        "INFO:__main__:[u'4', u'4', u'3.5', u'4', u'4', u'4']\n"
       ]
      },
      {
       "output_type": "stream",
       "stream": "stderr",
       "text": [
        "[2015-04-04 13:54:56,892] [u'5', u'4.5', u'4.5', u'4.5', u'4', u'4.5']\n"
       ]
      },
      {
       "output_type": "stream",
       "stream": "stderr",
       "text": [
        "INFO:__main__:[u'5', u'4.5', u'4.5', u'4.5', u'4', u'4.5']\n"
       ]
      },
      {
       "output_type": "stream",
       "stream": "stderr",
       "text": [
        "[2015-04-04 13:55:01,273] [u'4', u'4', u'4', u'4', u'4', u'4.5']\n"
       ]
      },
      {
       "output_type": "stream",
       "stream": "stderr",
       "text": [
        "INFO:__main__:[u'4', u'4', u'4', u'4', u'4', u'4.5']\n"
       ]
      },
      {
       "output_type": "stream",
       "stream": "stderr",
       "text": [
        "[2015-04-04 13:55:05,866] [u'4.5', u'3.5', u'4', u'4', u'3.5', u'4.5']\n"
       ]
      },
      {
       "output_type": "stream",
       "stream": "stderr",
       "text": [
        "INFO:__main__:[u'4.5', u'3.5', u'4', u'4', u'3.5', u'4.5']\n"
       ]
      },
      {
       "output_type": "stream",
       "stream": "stderr",
       "text": [
        "[2015-04-04 13:55:10,534] [u'4.5', u'3.5', u'3.5', u'3.5', u'4', u'3.5']\n"
       ]
      },
      {
       "output_type": "stream",
       "stream": "stderr",
       "text": [
        "INFO:__main__:[u'4.5', u'3.5', u'3.5', u'3.5', u'4', u'3.5']\n"
       ]
      },
      {
       "output_type": "stream",
       "stream": "stderr",
       "text": [
        "[2015-04-04 13:55:14,812] [u'4.5', u'3.5', u'3', u'3.5', u'3.5', u'3.5']\n"
       ]
      },
      {
       "output_type": "stream",
       "stream": "stderr",
       "text": [
        "INFO:__main__:[u'4.5', u'3.5', u'3', u'3.5', u'3.5', u'3.5']\n"
       ]
      },
      {
       "output_type": "stream",
       "stream": "stderr",
       "text": [
        "[2015-04-04 13:55:19,271] [u'4.5', u'4.5', u'4.5', u'4.5', u'4', u'4.5']\n"
       ]
      },
      {
       "output_type": "stream",
       "stream": "stderr",
       "text": [
        "INFO:__main__:[u'4.5', u'4.5', u'4.5', u'4.5', u'4', u'4.5']\n"
       ]
      },
      {
       "output_type": "stream",
       "stream": "stderr",
       "text": [
        "[2015-04-04 13:55:23,537] [u'4', u'3.5', u'4', u'4', u'3.5', u'4']\n"
       ]
      },
      {
       "output_type": "stream",
       "stream": "stderr",
       "text": [
        "INFO:__main__:[u'4', u'3.5', u'4', u'4', u'3.5', u'4']\n"
       ]
      },
      {
       "output_type": "stream",
       "stream": "stderr",
       "text": [
        "[2015-04-04 13:55:27,886] [u'4.5', u'4', u'3.5', u'4', u'4', u'4']\n"
       ]
      },
      {
       "output_type": "stream",
       "stream": "stderr",
       "text": [
        "INFO:__main__:[u'4.5', u'4', u'3.5', u'4', u'4', u'4']\n"
       ]
      },
      {
       "output_type": "stream",
       "stream": "stderr",
       "text": [
        "[2015-04-04 13:55:32,111] [u'5', u'4.5', u'4.5', u'4.5', u'4', u'4.5']\n"
       ]
      },
      {
       "output_type": "stream",
       "stream": "stderr",
       "text": [
        "INFO:__main__:[u'5', u'4.5', u'4.5', u'4.5', u'4', u'4.5']\n"
       ]
      },
      {
       "output_type": "stream",
       "stream": "stderr",
       "text": [
        "[2015-04-04 13:55:36,367] [u'5', u'4', u'4', u'4', u'4', u'4.5']\n"
       ]
      },
      {
       "output_type": "stream",
       "stream": "stderr",
       "text": [
        "INFO:__main__:[u'5', u'4', u'4', u'4', u'4', u'4.5']\n"
       ]
      },
      {
       "output_type": "stream",
       "stream": "stderr",
       "text": [
        "[2015-04-04 13:55:40,733] [u'5', u'4.5', u'4', u'4', u'4', u'4.5']\n"
       ]
      },
      {
       "output_type": "stream",
       "stream": "stderr",
       "text": [
        "INFO:__main__:[u'5', u'4.5', u'4', u'4', u'4', u'4.5']\n"
       ]
      },
      {
       "output_type": "stream",
       "stream": "stderr",
       "text": [
        "[2015-04-04 13:55:44,876] [u'5', u'5', u'4.5', u'4.5', u'4', u'5']\n"
       ]
      },
      {
       "output_type": "stream",
       "stream": "stderr",
       "text": [
        "INFO:__main__:[u'5', u'5', u'4.5', u'4.5', u'4', u'5']\n"
       ]
      },
      {
       "output_type": "stream",
       "stream": "stderr",
       "text": [
        "[2015-04-04 13:55:49,015] [u'4.5', u'4.5', u'4', u'4', u'3.5', u'4.5']\n"
       ]
      },
      {
       "output_type": "stream",
       "stream": "stderr",
       "text": [
        "INFO:__main__:[u'4.5', u'4.5', u'4', u'4', u'3.5', u'4.5']\n"
       ]
      },
      {
       "output_type": "stream",
       "stream": "stderr",
       "text": [
        "[2015-04-04 13:55:53,133] [u'4.5', u'3.5', u'3.5', u'4', u'3.5', u'4']\n"
       ]
      },
      {
       "output_type": "stream",
       "stream": "stderr",
       "text": [
        "INFO:__main__:[u'4.5', u'3.5', u'3.5', u'4', u'3.5', u'4']\n"
       ]
      },
      {
       "output_type": "stream",
       "stream": "stderr",
       "text": [
        "[2015-04-04 13:55:57,397] [u'5', u'4.5', u'4.5', u'4.5', u'4', u'4.5']\n"
       ]
      },
      {
       "output_type": "stream",
       "stream": "stderr",
       "text": [
        "INFO:__main__:[u'5', u'4.5', u'4.5', u'4.5', u'4', u'4.5']\n"
       ]
      },
      {
       "output_type": "stream",
       "stream": "stderr",
       "text": [
        "[2015-04-04 13:56:01,594] [u'4.5', u'4.5', u'4.5', u'4.5', u'4', u'4.5']\n"
       ]
      },
      {
       "output_type": "stream",
       "stream": "stderr",
       "text": [
        "INFO:__main__:[u'4.5', u'4.5', u'4.5', u'4.5', u'4', u'4.5']\n"
       ]
      },
      {
       "output_type": "stream",
       "stream": "stderr",
       "text": [
        "[2015-04-04 13:56:06,232] [u'4', u'4', u'4', u'4', u'3.5', u'4']\n"
       ]
      },
      {
       "output_type": "stream",
       "stream": "stderr",
       "text": [
        "INFO:__main__:[u'4', u'4', u'4', u'4', u'3.5', u'4']\n"
       ]
      },
      {
       "output_type": "stream",
       "stream": "stderr",
       "text": [
        "[2015-04-04 13:56:10,459] [u'5', u'4.5', u'4.5', u'4.5', u'4.5', u'4.5']\n"
       ]
      },
      {
       "output_type": "stream",
       "stream": "stderr",
       "text": [
        "INFO:__main__:[u'5', u'4.5', u'4.5', u'4.5', u'4.5', u'4.5']\n"
       ]
      },
      {
       "output_type": "stream",
       "stream": "stderr",
       "text": [
        "[2015-04-04 13:56:15,094] [u'4.5', u'4.5', u'5', u'4.5', u'4', u'5']\n"
       ]
      },
      {
       "output_type": "stream",
       "stream": "stderr",
       "text": [
        "INFO:__main__:[u'4.5', u'4.5', u'5', u'4.5', u'4', u'5']\n"
       ]
      },
      {
       "output_type": "stream",
       "stream": "stderr",
       "text": [
        "[2015-04-04 13:56:19,347] [u'4', u'3.5', u'4.5', u'4', u'4', u'4.5']\n"
       ]
      },
      {
       "output_type": "stream",
       "stream": "stderr",
       "text": [
        "INFO:__main__:[u'4', u'3.5', u'4.5', u'4', u'4', u'4.5']\n"
       ]
      },
      {
       "output_type": "stream",
       "stream": "stderr",
       "text": [
        "[2015-04-04 13:56:23,582] [u'5', u'4', u'4', u'4', u'4', u'4.5']\n"
       ]
      },
      {
       "output_type": "stream",
       "stream": "stderr",
       "text": [
        "INFO:__main__:[u'5', u'4', u'4', u'4', u'4', u'4.5']\n"
       ]
      },
      {
       "output_type": "stream",
       "stream": "stderr",
       "text": [
        "[2015-04-04 13:56:28,074] [u'3.5', u'3', u'3.5', u'3.5', u'3.5', u'4']\n"
       ]
      },
      {
       "output_type": "stream",
       "stream": "stderr",
       "text": [
        "INFO:__main__:[u'3.5', u'3', u'3.5', u'3.5', u'3.5', u'4']\n"
       ]
      },
      {
       "output_type": "stream",
       "stream": "stderr",
       "text": [
        "[2015-04-04 13:56:32,393] [u'4.5', u'3.5', u'3', u'3.5', u'3.5', u'3.5']\n"
       ]
      },
      {
       "output_type": "stream",
       "stream": "stderr",
       "text": [
        "INFO:__main__:[u'4.5', u'3.5', u'3', u'3.5', u'3.5', u'3.5']\n"
       ]
      },
      {
       "output_type": "stream",
       "stream": "stderr",
       "text": [
        "[2015-04-04 13:56:36,685] [u'4.5', u'3.5', u'3', u'3.5', u'3.5', u'3.5']\n"
       ]
      },
      {
       "output_type": "stream",
       "stream": "stderr",
       "text": [
        "INFO:__main__:[u'4.5', u'3.5', u'3', u'3.5', u'3.5', u'3.5']\n"
       ]
      },
      {
       "output_type": "stream",
       "stream": "stderr",
       "text": [
        "[2015-04-04 13:56:40,966] [u'4', u'3', u'3', u'3.5', u'3', u'3.5']\n"
       ]
      },
      {
       "output_type": "stream",
       "stream": "stderr",
       "text": [
        "INFO:__main__:[u'4', u'3', u'3', u'3.5', u'3', u'3.5']\n"
       ]
      },
      {
       "output_type": "stream",
       "stream": "stderr",
       "text": [
        "[2015-04-04 13:56:45,328] [u'3.5', u'3.5', u'3', u'3.5', u'3.5', u'3.5']\n"
       ]
      },
      {
       "output_type": "stream",
       "stream": "stderr",
       "text": [
        "INFO:__main__:[u'3.5', u'3.5', u'3', u'3.5', u'3.5', u'3.5']\n"
       ]
      },
      {
       "output_type": "stream",
       "stream": "stderr",
       "text": [
        "[2015-04-04 13:56:49,521] [u'4.5', u'3.5', u'2.5', u'3.5', u'3.5', u'3.5']\n"
       ]
      },
      {
       "output_type": "stream",
       "stream": "stderr",
       "text": [
        "INFO:__main__:[u'4.5', u'3.5', u'2.5', u'3.5', u'3.5', u'3.5']\n"
       ]
      },
      {
       "output_type": "stream",
       "stream": "stderr",
       "text": [
        "[2015-04-04 13:56:53,763] [u'3.5', u'3.5', u'3', u'3.5', u'3.5', u'3.5']\n"
       ]
      },
      {
       "output_type": "stream",
       "stream": "stderr",
       "text": [
        "INFO:__main__:[u'3.5', u'3.5', u'3', u'3.5', u'3.5', u'3.5']\n"
       ]
      },
      {
       "output_type": "stream",
       "stream": "stderr",
       "text": [
        "[2015-04-04 13:56:57,971] [u'3.5', u'3', u'3', u'3', u'3', u'3']\n"
       ]
      },
      {
       "output_type": "stream",
       "stream": "stderr",
       "text": [
        "INFO:__main__:[u'3.5', u'3', u'3', u'3', u'3', u'3']\n"
       ]
      },
      {
       "output_type": "stream",
       "stream": "stderr",
       "text": [
        "[2015-04-04 13:57:01,908] [u'3', u'2.5', u'2.5', u'2.5', u'3', u'3']\n"
       ]
      },
      {
       "output_type": "stream",
       "stream": "stderr",
       "text": [
        "INFO:__main__:[u'3', u'2.5', u'2.5', u'2.5', u'3', u'3']\n"
       ]
      },
      {
       "html": [
        "<div style=\"max-height:1000px;max-width:1500px;overflow:auto;\">\n",
        "<table border=\"1\" class=\"dataframe\">\n",
        "  <thead>\n",
        "    <tr style=\"text-align: right;\">\n",
        "      <th></th>\n",
        "      <th>average_rating</th>\n",
        "      <th>business_count</th>\n",
        "      <th>cleanliness</th>\n",
        "      <th>couples_count</th>\n",
        "      <th>excellent_rating</th>\n",
        "      <th>family_count</th>\n",
        "      <th>hotel_name</th>\n",
        "      <th>location</th>\n",
        "      <th>poor_rating</th>\n",
        "      <th>rooms</th>\n",
        "      <th>service</th>\n",
        "      <th>sleep_quality</th>\n",
        "      <th>solo_count</th>\n",
        "      <th>terrible_rating</th>\n",
        "      <th>value</th>\n",
        "      <th>very_good_rating</th>\n",
        "    </tr>\n",
        "  </thead>\n",
        "  <tbody>\n",
        "    <tr>\n",
        "      <th>0</th>\n",
        "      <td>  98</td>\n",
        "      <td> 1,110</td>\n",
        "      <td>   5</td>\n",
        "      <td> 551</td>\n",
        "      <td> 1,879</td>\n",
        "      <td> 461</td>\n",
        "      <td>       Seaport Boston Hotel</td>\n",
        "      <td> 4.5</td>\n",
        "      <td> 33</td>\n",
        "      <td> 4.5</td>\n",
        "      <td> 4.5</td>\n",
        "      <td> 4.5</td>\n",
        "      <td> 108</td>\n",
        "      <td> 31</td>\n",
        "      <td> 4.5</td>\n",
        "      <td> 506</td>\n",
        "    </tr>\n",
        "    <tr>\n",
        "      <th>1</th>\n",
        "      <td> 166</td>\n",
        "      <td>   329</td>\n",
        "      <td> 4.5</td>\n",
        "      <td> 335</td>\n",
        "      <td>   479</td>\n",
        "      <td> 239</td>\n",
        "      <td>  Hyatt Boston Harbor Hotel</td>\n",
        "      <td>   4</td>\n",
        "      <td> 67</td>\n",
        "      <td>   4</td>\n",
        "      <td> 4.5</td>\n",
        "      <td> 4.5</td>\n",
        "      <td> 105</td>\n",
        "      <td> 34</td>\n",
        "      <td>   4</td>\n",
        "      <td> 424</td>\n",
        "    </tr>\n",
        "    <tr>\n",
        "      <th>2</th>\n",
        "      <td>  81</td>\n",
        "      <td>   585</td>\n",
        "      <td>   5</td>\n",
        "      <td> 853</td>\n",
        "      <td> 2,370</td>\n",
        "      <td> 914</td>\n",
        "      <td> Hotel Commonwealth, Boston</td>\n",
        "      <td>   5</td>\n",
        "      <td> 39</td>\n",
        "      <td>   5</td>\n",
        "      <td>   5</td>\n",
        "      <td>   5</td>\n",
        "      <td> 147</td>\n",
        "      <td> 13</td>\n",
        "      <td> 4.5</td>\n",
        "      <td> 442</td>\n",
        "    </tr>\n",
        "    <tr>\n",
        "      <th>3</th>\n",
        "      <td>  44</td>\n",
        "      <td>   255</td>\n",
        "      <td>   5</td>\n",
        "      <td> 462</td>\n",
        "      <td>   991</td>\n",
        "      <td> 284</td>\n",
        "      <td>        Boston Harbor Hotel</td>\n",
        "      <td> 4.5</td>\n",
        "      <td> 15</td>\n",
        "      <td> 4.5</td>\n",
        "      <td>   5</td>\n",
        "      <td>   5</td>\n",
        "      <td>  55</td>\n",
        "      <td> 11</td>\n",
        "      <td> 4.5</td>\n",
        "      <td> 189</td>\n",
        "    </tr>\n",
        "    <tr>\n",
        "      <th>4</th>\n",
        "      <td>  21</td>\n",
        "      <td>    63</td>\n",
        "      <td>   5</td>\n",
        "      <td> 102</td>\n",
        "      <td>   245</td>\n",
        "      <td> 102</td>\n",
        "      <td>      enVision Hotel Boston</td>\n",
        "      <td>   4</td>\n",
        "      <td>  7</td>\n",
        "      <td> 4.5</td>\n",
        "      <td> 4.5</td>\n",
        "      <td> 4.5</td>\n",
        "      <td>  29</td>\n",
        "      <td>  1</td>\n",
        "      <td> 4.5</td>\n",
        "      <td>  83</td>\n",
        "    </tr>\n",
        "  </tbody>\n",
        "</table>\n",
        "</div>"
       ],
       "metadata": {},
       "output_type": "pyout",
       "prompt_number": 15,
       "text": [
        "  average_rating business_count cleanliness couples_count excellent_rating  \\\n",
        "0             98          1,110           5           551            1,879   \n",
        "1            166            329         4.5           335              479   \n",
        "2             81            585           5           853            2,370   \n",
        "3             44            255           5           462              991   \n",
        "4             21             63           5           102              245   \n",
        "\n",
        "  family_count                  hotel_name location poor_rating rooms service  \\\n",
        "0          461        Seaport Boston Hotel      4.5          33   4.5     4.5   \n",
        "1          239   Hyatt Boston Harbor Hotel        4          67     4     4.5   \n",
        "2          914  Hotel Commonwealth, Boston        5          39     5       5   \n",
        "3          284         Boston Harbor Hotel      4.5          15   4.5       5   \n",
        "4          102       enVision Hotel Boston        4           7   4.5     4.5   \n",
        "\n",
        "  sleep_quality solo_count terrible_rating value very_good_rating  \n",
        "0           4.5        108              31   4.5              506  \n",
        "1           4.5        105              34     4              424  \n",
        "2             5        147              13   4.5              442  \n",
        "3             5         55              11   4.5              189  \n",
        "4           4.5         29               1   4.5               83  "
       ]
      }
     ],
     "prompt_number": 15
    },
    {
     "cell_type": "code",
     "collapsed": false,
     "input": [
      "bhotel = bhotel.convert_objects(convert_numeric=True)\n",
      "bhotel.fillna(0, inplace = True)\n",
      "bhotel['rating_average']= ((bhotel['terrible_rating']*1) + (bhotel['poor_rating']*2) + (bhotel['average_rating']*3) + \n",
      "                           (bhotel['very_good_rating']*4) + (bhotel['excellent_rating']*5))\n",
      "bhotel['rating_average'] = bhotel['rating_average']/(bhotel['terrible_rating'] + bhotel['poor_rating'] + bhotel['average_rating'] + bhotel['very_good_rating'] + bhotel['excellent_rating'])\n",
      "for idx, row in bhotel.iterrows():\n",
      "    if row.rating_average > 4.5:\n",
      "        bhotel.ix[idx,'group']=5\n",
      "    elif 3.5 < row.rating_average <=4.5:\n",
      "        bhotel.ix[idx,'group'] = 4\n",
      "    elif 2.5 < row.rating_average <=3.5:\n",
      "        bhotel.ix[idx,'group'] = 3\n",
      "    else:\n",
      "        bhotel.ix[idx,'group'] = 2\n",
      "\n",
      "bhotel.head()"
     ],
     "language": "python",
     "metadata": {},
     "outputs": [
      {
       "html": [
        "<div style=\"max-height:1000px;max-width:1500px;overflow:auto;\">\n",
        "<table border=\"1\" class=\"dataframe\">\n",
        "  <thead>\n",
        "    <tr style=\"text-align: right;\">\n",
        "      <th></th>\n",
        "      <th>average_rating</th>\n",
        "      <th>business_count</th>\n",
        "      <th>cleanliness</th>\n",
        "      <th>couples_count</th>\n",
        "      <th>excellent_rating</th>\n",
        "      <th>family_count</th>\n",
        "      <th>location</th>\n",
        "      <th>poor_rating</th>\n",
        "      <th>rooms</th>\n",
        "      <th>service</th>\n",
        "      <th>sleep_quality</th>\n",
        "      <th>solo_count</th>\n",
        "      <th>terrible_rating</th>\n",
        "      <th>value</th>\n",
        "      <th>very_good_rating</th>\n",
        "      <th>rating_average</th>\n",
        "      <th>group</th>\n",
        "    </tr>\n",
        "    <tr>\n",
        "      <th>hotel_name</th>\n",
        "      <th></th>\n",
        "      <th></th>\n",
        "      <th></th>\n",
        "      <th></th>\n",
        "      <th></th>\n",
        "      <th></th>\n",
        "      <th></th>\n",
        "      <th></th>\n",
        "      <th></th>\n",
        "      <th></th>\n",
        "      <th></th>\n",
        "      <th></th>\n",
        "      <th></th>\n",
        "      <th></th>\n",
        "      <th></th>\n",
        "      <th></th>\n",
        "      <th></th>\n",
        "    </tr>\n",
        "  </thead>\n",
        "  <tbody>\n",
        "    <tr>\n",
        "      <th>Seaport Boston Hotel</th>\n",
        "      <td>  98</td>\n",
        "      <td>   0</td>\n",
        "      <td> 5.0</td>\n",
        "      <td> 551</td>\n",
        "      <td>   0</td>\n",
        "      <td> 461</td>\n",
        "      <td> 4.5</td>\n",
        "      <td> 33</td>\n",
        "      <td> 4.5</td>\n",
        "      <td> 4.5</td>\n",
        "      <td> 4.5</td>\n",
        "      <td> 108</td>\n",
        "      <td> 31</td>\n",
        "      <td> 4.5</td>\n",
        "      <td> 506</td>\n",
        "      <td> 3.615269</td>\n",
        "      <td> 4</td>\n",
        "    </tr>\n",
        "    <tr>\n",
        "      <th>Hyatt Boston Harbor Hotel</th>\n",
        "      <td> 166</td>\n",
        "      <td> 329</td>\n",
        "      <td> 4.5</td>\n",
        "      <td> 335</td>\n",
        "      <td> 479</td>\n",
        "      <td> 239</td>\n",
        "      <td> 4.0</td>\n",
        "      <td> 67</td>\n",
        "      <td> 4.0</td>\n",
        "      <td> 4.5</td>\n",
        "      <td> 4.5</td>\n",
        "      <td> 105</td>\n",
        "      <td> 34</td>\n",
        "      <td> 4.0</td>\n",
        "      <td> 424</td>\n",
        "      <td> 4.065812</td>\n",
        "      <td> 4</td>\n",
        "    </tr>\n",
        "    <tr>\n",
        "      <th>Hotel Commonwealth, Boston</th>\n",
        "      <td>  81</td>\n",
        "      <td> 585</td>\n",
        "      <td> 5.0</td>\n",
        "      <td> 853</td>\n",
        "      <td>   0</td>\n",
        "      <td> 914</td>\n",
        "      <td> 5.0</td>\n",
        "      <td> 39</td>\n",
        "      <td> 5.0</td>\n",
        "      <td> 5.0</td>\n",
        "      <td> 5.0</td>\n",
        "      <td> 147</td>\n",
        "      <td> 13</td>\n",
        "      <td> 4.5</td>\n",
        "      <td> 442</td>\n",
        "      <td> 3.655652</td>\n",
        "      <td> 4</td>\n",
        "    </tr>\n",
        "    <tr>\n",
        "      <th>Boston Harbor Hotel</th>\n",
        "      <td>  44</td>\n",
        "      <td> 255</td>\n",
        "      <td> 5.0</td>\n",
        "      <td> 462</td>\n",
        "      <td> 991</td>\n",
        "      <td> 284</td>\n",
        "      <td> 4.5</td>\n",
        "      <td> 15</td>\n",
        "      <td> 4.5</td>\n",
        "      <td> 5.0</td>\n",
        "      <td> 5.0</td>\n",
        "      <td>  55</td>\n",
        "      <td> 11</td>\n",
        "      <td> 4.5</td>\n",
        "      <td> 189</td>\n",
        "      <td> 4.707200</td>\n",
        "      <td> 5</td>\n",
        "    </tr>\n",
        "    <tr>\n",
        "      <th>enVision Hotel Boston</th>\n",
        "      <td>  21</td>\n",
        "      <td>  63</td>\n",
        "      <td> 5.0</td>\n",
        "      <td> 102</td>\n",
        "      <td> 245</td>\n",
        "      <td> 102</td>\n",
        "      <td> 4.0</td>\n",
        "      <td>  7</td>\n",
        "      <td> 4.5</td>\n",
        "      <td> 4.5</td>\n",
        "      <td> 4.5</td>\n",
        "      <td>  29</td>\n",
        "      <td>  1</td>\n",
        "      <td> 4.5</td>\n",
        "      <td>  83</td>\n",
        "      <td> 4.579832</td>\n",
        "      <td> 5</td>\n",
        "    </tr>\n",
        "  </tbody>\n",
        "</table>\n",
        "</div>"
       ],
       "metadata": {},
       "output_type": "pyout",
       "prompt_number": 67,
       "text": [
        "                            average_rating  business_count  cleanliness  \\\n",
        "hotel_name                                                                \n",
        "Seaport Boston Hotel                    98               0          5.0   \n",
        "Hyatt Boston Harbor Hotel              166             329          4.5   \n",
        "Hotel Commonwealth, Boston              81             585          5.0   \n",
        "Boston Harbor Hotel                     44             255          5.0   \n",
        "enVision Hotel Boston                   21              63          5.0   \n",
        "\n",
        "                            couples_count  excellent_rating  family_count  \\\n",
        "hotel_name                                                                  \n",
        "Seaport Boston Hotel                  551                 0           461   \n",
        "Hyatt Boston Harbor Hotel             335               479           239   \n",
        "Hotel Commonwealth, Boston            853                 0           914   \n",
        "Boston Harbor Hotel                   462               991           284   \n",
        "enVision Hotel Boston                 102               245           102   \n",
        "\n",
        "                            location  poor_rating  rooms  service  \\\n",
        "hotel_name                                                          \n",
        "Seaport Boston Hotel             4.5           33    4.5      4.5   \n",
        "Hyatt Boston Harbor Hotel        4.0           67    4.0      4.5   \n",
        "Hotel Commonwealth, Boston       5.0           39    5.0      5.0   \n",
        "Boston Harbor Hotel              4.5           15    4.5      5.0   \n",
        "enVision Hotel Boston            4.0            7    4.5      4.5   \n",
        "\n",
        "                            sleep_quality  solo_count  terrible_rating  value  \\\n",
        "hotel_name                                                                      \n",
        "Seaport Boston Hotel                  4.5         108               31    4.5   \n",
        "Hyatt Boston Harbor Hotel             4.5         105               34    4.0   \n",
        "Hotel Commonwealth, Boston            5.0         147               13    4.5   \n",
        "Boston Harbor Hotel                   5.0          55               11    4.5   \n",
        "enVision Hotel Boston                 4.5          29                1    4.5   \n",
        "\n",
        "                            very_good_rating  rating_average  group  \n",
        "hotel_name                                                           \n",
        "Seaport Boston Hotel                     506        3.615269      4  \n",
        "Hyatt Boston Harbor Hotel                424        4.065812      4  \n",
        "Hotel Commonwealth, Boston               442        3.655652      4  \n",
        "Boston Harbor Hotel                      189        4.707200      5  \n",
        "enVision Hotel Boston                     83        4.579832      5  "
       ]
      }
     ],
     "prompt_number": 67
    },
    {
     "cell_type": "code",
     "collapsed": false,
     "input": [
      "# Code for setting the style of the notebook\n",
      "from IPython.core.display import HTML\n",
      "def css_styling():\n",
      "    styles = open(\"../../theme/custom.css\", \"r\").read()\n",
      "    return HTML(styles)\n",
      "css_styling()"
     ],
     "language": "python",
     "metadata": {},
     "outputs": []
    },
    {
     "cell_type": "code",
     "collapsed": false,
     "input": [],
     "language": "python",
     "metadata": {},
     "outputs": []
    }
   ],
   "metadata": {}
  }
 ]
}