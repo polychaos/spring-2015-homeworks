{
 "metadata": {
  "name": "",
  "signature": "sha256:d4287cb4c6ff42193e165cb4b6a99ecc81e4dfce9e3d2f23079851a8b76c5849"
 },
 "nbformat": 3,
 "nbformat_minor": 0,
 "worksheets": [
  {
   "cells": [
    {
     "cell_type": "markdown",
     "metadata": {},
     "source": [
      "(In order to load the stylesheet of this notebook, execute the last code cell in this notebook)"
     ]
    },
    {
     "cell_type": "heading",
     "level": 1,
     "metadata": {},
     "source": [
      "Analyzing hotel ratings on Tripadvisor"
     ]
    },
    {
     "cell_type": "markdown",
     "metadata": {},
     "source": [
      "In this homework we will focus on practicing two techniques: web scraping and regression. For the first part, we will build upon the sample code from the Lecture and attempt to get some basic information for each hotel. Then, we will fit a regression model on this information and try to analyze it.   "
     ]
    },
    {
     "cell_type": "markdown",
     "metadata": {},
     "source": [
      "One of the main disadvantages of scraping a website instead of using an API is that, without any notice, the website may change its layout and render our code useless. Something like that happened in our case. Tripadvisor changed the layout of the buttons that we use to navigate between the different pages of the results. This was the main reason people were having problem with executing the code."
     ]
    },
    {
     "cell_type": "markdown",
     "metadata": {},
     "source": [
      "**Task 1 (20 pts)**\n",
      "\n",
      "The first task of the homework is to fix the scraping code. We basically need to replace the part where we are checking if there is another page and getting its link with new code that reflects the new navigation layout. "
     ]
    },
    {
     "cell_type": "code",
     "collapsed": false,
     "input": [
      "import pandas as pd\n",
      "\n",
      "import sklearn.datasets as datasets\n",
      "import sklearn.metrics as metrics\n",
      "import sklearn.utils as utils\n",
      "import sklearn.linear_model as linear_model\n",
      "import sklearn.cross_validation as cross_validation\n",
      "import sklearn.cluster as cluster\n",
      "from sklearn.neighbors import KNeighborsClassifier\n",
      "from sklearn.decomposition import TruncatedSVD\n",
      "from sklearn.preprocessing import StandardScaler\n",
      "import numpy as np\n",
      "import matplotlib.pyplot as plt\n",
      "\n",
      "import statsmodels.api as sm\n",
      "\n",
      "from patsy import dmatrices\n",
      "\n",
      "import seaborn as sns\n",
      "%matplotlib inline"
     ],
     "language": "python",
     "metadata": {},
     "outputs": [],
     "prompt_number": 22
    },
    {
     "cell_type": "code",
     "collapsed": false,
     "input": [
      "import os\n",
      "import sys\n",
      "import time\n",
      "import argparse\n",
      "import logging\n",
      "import requests\n",
      "from BeautifulSoup import BeautifulSoup\n",
      "\n",
      "\n",
      "log = logging.getLogger(__name__)\n",
      "log.setLevel(logging.INFO)\n",
      "loghandler = logging.StreamHandler(sys.stderr)\n",
      "loghandler.setFormatter(logging.Formatter(\"[%(asctime)s] %(message)s\"))\n",
      "log.addHandler(loghandler)\n",
      "\n",
      "base_url = \"http://www.tripadvisor.com/\"\n",
      "user_agent = \"Mozilla/5.0 (Macintosh; Intel Mac OS X 10_10_2) AppleWebKit/537.36 (KHTML, like Gecko) Chrome/41.0.2272.76 Safari/537.36\""
     ],
     "language": "python",
     "metadata": {},
     "outputs": [],
     "prompt_number": 2
    },
    {
     "cell_type": "code",
     "collapsed": false,
     "input": [
      "def get_city_page(city, state, datadir):\n",
      "    \"\"\" Returns the URL of the list of the hotels in a city. Corresponds to\n",
      "    STEP 1 & 2 of the slides.\n",
      "\n",
      "    Parameters\n",
      "    ----------\n",
      "    city : str\n",
      "\n",
      "    state : str\n",
      "\n",
      "    datadir : str\n",
      "\n",
      "\n",
      "    Returns\n",
      "    -------\n",
      "    url : str\n",
      "        The relative link to the website with the hotels list.\n",
      "\n",
      "    \"\"\"\n",
      "    # Build the request URL\n",
      "    url = base_url + \"city=\" + city + \"&state=\" + state\n",
      "    # Request the HTML page\n",
      "    headers = {'User-Agent': user_agent}\n",
      "    response = requests.get(url, headers=headers)\n",
      "    html = response.text.encode('utf-8')\n",
      "    with open(os.path.join(datadir, city + '-tourism-page.html'), \"w\") as h:\n",
      "        h.write(html)\n",
      "\n",
      "    # Use BeautifulSoup to extract the url for the list of hotels in\n",
      "    # the city and state we are interested in.\n",
      "\n",
      "    # For example in this case we need to get the following href\n",
      "    # <li class=\"hotels twoLines\">\n",
      "    # <a href=\"/Hotels-g60745-Boston_Massachusetts-Hotels.html\" data-trk=\"hotels_nav\">...</a>\n",
      "    soup = BeautifulSoup(html)\n",
      "    li = soup.find(\"li\", {\"class\": \"hotels twoLines\"})\n",
      "    city_url = li.find('a', href=True)\n",
      "    return city_url['href']"
     ],
     "language": "python",
     "metadata": {},
     "outputs": [],
     "prompt_number": 3
    },
    {
     "cell_type": "code",
     "collapsed": false,
     "input": [
      "def get_hotellist_page(city_url, page_count, city, datadir='data/'):\n",
      "    \"\"\" Returns the hotel list HTML. The URL of the list is the result of\n",
      "    get_city_page(). Also, saves a copy of the HTML to the disk. Corresponds to\n",
      "    STEP 3 of the slides.\n",
      "\n",
      "    Parameters\n",
      "    ----------\n",
      "    city_url : str\n",
      "        The relative URL of the hotels in the city we are interested in.\n",
      "    page_count : int\n",
      "        The page that we want to fetch. Used for keeping track of our progress.\n",
      "    city : str\n",
      "        The name of the city that we are interested in.\n",
      "    datadir : str, default is 'data/'\n",
      "        The directory in which to save the downloaded html.\n",
      "\n",
      "    Returns\n",
      "    -------\n",
      "    html : str\n",
      "        The HTML of the page with the list of the hotels.\n",
      "    \"\"\"\n",
      "    url = base_url + city_url\n",
      "    # Sleep 2 sec before starting a new http request\n",
      "    time.sleep(2)\n",
      "    # Request page\n",
      "    headers = { 'User-Agent' : user_agent }\n",
      "    response = requests.get(url, headers=headers)\n",
      "    html = response.text.encode('utf-8')\n",
      "    # Save the webpage\n",
      "    with open(os.path.join(datadir, city + '-hotelist-' + str(page_count) + '.html'), \"w\") as h:\n",
      "        h.write(html)\n",
      "        return html"
     ],
     "language": "python",
     "metadata": {},
     "outputs": [],
     "prompt_number": 4
    },
    {
     "cell_type": "code",
     "collapsed": false,
     "input": [
      "def parse_hotellist_page(html):\n",
      "    \"\"\"Parses the website with the hotel list and prints the hotel name, the\n",
      "    number of stars and the number of reviews it has. Addtionally it creats a list of all the urls for each\n",
      "    hotel on that page, and returns that list. If there is a next page\n",
      "    in the hotel list, it returns a list to the next page, otherwise, it simply returns the hotel url list for \n",
      "    that page. Corresponds to STEP 4 of the slides.\n",
      "\n",
      "    Parameters\n",
      "    ----------\n",
      "    html : str\n",
      "        The HTML of the website with the hotel list.\n",
      "\n",
      "    Returns\n",
      "    -------\n",
      "    URL : str\n",
      "        Return list of all hotel urls on page\n",
      "        If there is a next page, return a relative link to this page.\n",
      "        Otherwise simply return the hotel url list.\n",
      "    \"\"\"\n",
      "    soup = BeautifulSoup(html)\n",
      "    # Extract hotel name, star rating and number of reviews\n",
      "    hotel_boxes = soup.findAll('div', {'class' :'listing wrap reasoning_v5_wrap jfy_listing p13n_imperfect'})\n",
      "    if not hotel_boxes:\n",
      "        log.info(\"#################################### Option 2 ######################################\")\n",
      "        hotel_boxes = soup.findAll('div', {'class' :'listing_info jfy'})\n",
      "    if not hotel_boxes:\n",
      "        log.info(\"#################################### Option 3 ######################################\")\n",
      "        hotel_boxes = soup.findAll('div', {'class' :'listing easyClear  p13n_imperfect'})\n",
      "\n",
      "    \"\"\"for hotel_box in hotel_boxes:\n",
      "        hotel_name = hotel_box.find(\"a\", {\"target\" : \"_blank\"}).find(text=True)\n",
      "        log.info(\"Hotel name: %s\" % hotel_name.strip())\n",
      "\n",
      "        stars = hotel_box.find(\"img\", {\"class\" : \"sprite-ratings\"})\n",
      "        if stars:\n",
      "            log.info(\"Stars: %s\" % stars['alt'].split()[0])\n",
      "\n",
      "        num_reviews = hotel_box.find(\"span\", {'class': \"more\"}).findAll(text=True)\n",
      "        if num_reviews:\n",
      "            log.info(\"Number of reviews: %s \" % [x for x in num_reviews if \"review\" in x][0].strip())\"\"\"\n",
      "    \n",
      "    hotel_page =[]\n",
      "    for hotel_box in hotel_boxes:\n",
      "        hotel_link = hotel_box.find('a', {'class': 'property_title'})\n",
      "        hotel_page.append(hotel_link['href'])\n",
      "        #log.info(hotel_link['href'])\n",
      "    \n",
      "    # Get next URL page if exists, otherwise exit\n",
      "    div = soup.find(\"div\", {\"class\" : \"pagination paginationfillbtm\"})\n",
      "    \n",
      "    \n",
      "    #return the url to the next page\n",
      "    hrefs = div.findAll('a', href= True)\n",
      "    #log.debug(div)\n",
      "    href=div.find('a', {\"class\" :'guiArw sprite-pageNext '})\n",
      "    #log.debug(\"Next url is %s \\n\\n\" % href['href'])\n",
      "    log.debug(hotel_page)\n",
      "    # check if this is the last page\n",
      "    if div('span', {'class' : 'guiArw pageEndNext'}):\n",
      "        log.info(\"We reached last page\")\n",
      "        return None, hotel_page\n",
      "    else:\n",
      "        return href['href'], hotel_page"
     ],
     "language": "python",
     "metadata": {},
     "outputs": [],
     "prompt_number": 5
    },
    {
     "cell_type": "code",
     "collapsed": false,
     "input": [
      "def scrape_hotels(city, state, datadir='data/'):\n",
      "    \"\"\"Runs the main scraper code\n",
      "\n",
      "    Parameters\n",
      "    ----------\n",
      "    city : str\n",
      "        The name of the city for which to scrape hotels.\n",
      "\n",
      "    state : str\n",
      "        The state in which the city is located.\n",
      "\n",
      "    datadir : str, default is 'data/'\n",
      "        The directory under which to save the downloaded html.\n",
      "        \n",
      "    Returns\n",
      "    -------\n",
      "    URL: lst\n",
      "        Returns a list of the urls to all the hotels in Boston\n",
      "    \"\"\"\n",
      "\n",
      "    # Get current directory\n",
      "    current_dir = os.getcwd()\n",
      "    # Create datadir if does not exist\n",
      "    if not os.path.exists(os.path.join(current_dir, datadir)):\n",
      "        os.makedirs(os.path.join(current_dir, datadir))\n",
      "\n",
      "    # Get URL to obtain the list of hotels in a specific city\n",
      "    city_url = get_city_page(city, state, datadir)\n",
      "    c = 0\n",
      "    all_hotels=[]\n",
      "    while(True):\n",
      "        c += 1\n",
      "        try:\n",
      "            html = get_hotellist_page(city_url, c, city, datadir)\n",
      "            print city_url\n",
      "            city_url = parse_hotellist_page(html)[0]\n",
      "            all_hotels.extend(parse_hotellist_page(html)[1])\n",
      "            print len(parse_hotellist_page(html)[1])\n",
      "        except Exception:\n",
      "            #all_hotels.append(parse_hotellist_page(html)[1])\n",
      "            break\n",
      "    return all_hotels"
     ],
     "language": "python",
     "metadata": {},
     "outputs": [],
     "prompt_number": 6
    },
    {
     "cell_type": "code",
     "collapsed": false,
     "input": [
      "all_hotel_urls=scrape_hotels('Boston', 'Massachusetts', 'data')"
     ],
     "language": "python",
     "metadata": {},
     "outputs": [
      {
       "output_type": "stream",
       "stream": "stderr",
       "text": [
        "[2015-04-05 19:19:59,656] #################################### Option 2 ######################################\n"
       ]
      },
      {
       "output_type": "stream",
       "stream": "stderr",
       "text": [
        "INFO:__main__:#################################### Option 2 ######################################\n"
       ]
      },
      {
       "output_type": "stream",
       "stream": "stderr",
       "text": [
        "[2015-04-05 19:19:59,782] #################################### Option 3 ######################################\n"
       ]
      },
      {
       "output_type": "stream",
       "stream": "stderr",
       "text": [
        "INFO:__main__:#################################### Option 3 ######################################\n"
       ]
      },
      {
       "output_type": "stream",
       "stream": "stderr",
       "text": [
        "[2015-04-05 19:20:02,118] #################################### Option 2 ######################################\n"
       ]
      },
      {
       "output_type": "stream",
       "stream": "stderr",
       "text": [
        "INFO:__main__:#################################### Option 2 ######################################\n"
       ]
      },
      {
       "output_type": "stream",
       "stream": "stderr",
       "text": [
        "[2015-04-05 19:20:02,250] #################################### Option 3 ######################################\n"
       ]
      },
      {
       "output_type": "stream",
       "stream": "stderr",
       "text": [
        "INFO:__main__:#################################### Option 3 ######################################\n"
       ]
      },
      {
       "output_type": "stream",
       "stream": "stderr",
       "text": [
        "[2015-04-05 19:20:04,553] #################################### Option 2 ######################################\n"
       ]
      },
      {
       "output_type": "stream",
       "stream": "stderr",
       "text": [
        "INFO:__main__:#################################### Option 2 ######################################\n"
       ]
      },
      {
       "output_type": "stream",
       "stream": "stderr",
       "text": [
        "[2015-04-05 19:20:04,686] #################################### Option 3 ######################################\n"
       ]
      },
      {
       "output_type": "stream",
       "stream": "stderr",
       "text": [
        "INFO:__main__:#################################### Option 3 ######################################\n"
       ]
      },
      {
       "output_type": "stream",
       "stream": "stdout",
       "text": [
        "/Hotels-g60745-Boston_Massachusetts-Hotels.html\n",
        "30"
       ]
      },
      {
       "output_type": "stream",
       "stream": "stdout",
       "text": [
        "\n",
        "/Hotels-g60745-oa30-Boston_Massachusetts-Hotels.html#ACCOM_OVERVIEW"
       ]
      },
      {
       "output_type": "stream",
       "stream": "stderr",
       "text": [
        "[2015-04-05 19:20:09,810] #################################### Option 2 ######################################\n"
       ]
      },
      {
       "output_type": "stream",
       "stream": "stderr",
       "text": [
        "INFO:__main__:#################################### Option 2 ######################################\n"
       ]
      },
      {
       "output_type": "stream",
       "stream": "stderr",
       "text": [
        "[2015-04-05 19:20:09,937] #################################### Option 3 ######################################\n"
       ]
      },
      {
       "output_type": "stream",
       "stream": "stderr",
       "text": [
        "INFO:__main__:#################################### Option 3 ######################################\n"
       ]
      },
      {
       "output_type": "stream",
       "stream": "stderr",
       "text": [
        "[2015-04-05 19:20:12,308] #################################### Option 2 ######################################\n"
       ]
      },
      {
       "output_type": "stream",
       "stream": "stderr",
       "text": [
        "INFO:__main__:#################################### Option 2 ######################################\n"
       ]
      },
      {
       "output_type": "stream",
       "stream": "stderr",
       "text": [
        "[2015-04-05 19:20:12,437] #################################### Option 3 ######################################\n"
       ]
      },
      {
       "output_type": "stream",
       "stream": "stderr",
       "text": [
        "INFO:__main__:#################################### Option 3 ######################################\n"
       ]
      },
      {
       "output_type": "stream",
       "stream": "stderr",
       "text": [
        "[2015-04-05 19:20:14,704] #################################### Option 2 ######################################\n"
       ]
      },
      {
       "output_type": "stream",
       "stream": "stderr",
       "text": [
        "INFO:__main__:#################################### Option 2 ######################################\n"
       ]
      },
      {
       "output_type": "stream",
       "stream": "stderr",
       "text": [
        "[2015-04-05 19:20:14,835] #################################### Option 3 ######################################\n"
       ]
      },
      {
       "output_type": "stream",
       "stream": "stderr",
       "text": [
        "INFO:__main__:#################################### Option 3 ######################################\n"
       ]
      },
      {
       "output_type": "stream",
       "stream": "stdout",
       "text": [
        "\n",
        "30"
       ]
      },
      {
       "output_type": "stream",
       "stream": "stdout",
       "text": [
        "\n",
        "/Hotels-g60745-oa60-Boston_Massachusetts-Hotels.html#ACCOM_OVERVIEW"
       ]
      },
      {
       "output_type": "stream",
       "stream": "stderr",
       "text": [
        "[2015-04-05 19:20:19,396] #################################### Option 2 ######################################\n"
       ]
      },
      {
       "output_type": "stream",
       "stream": "stderr",
       "text": [
        "INFO:__main__:#################################### Option 2 ######################################\n"
       ]
      },
      {
       "output_type": "stream",
       "stream": "stderr",
       "text": [
        "[2015-04-05 19:20:19,496] #################################### Option 3 ######################################\n"
       ]
      },
      {
       "output_type": "stream",
       "stream": "stderr",
       "text": [
        "INFO:__main__:#################################### Option 3 ######################################\n"
       ]
      },
      {
       "output_type": "stream",
       "stream": "stderr",
       "text": [
        "[2015-04-05 19:20:19,698] We reached last page\n"
       ]
      },
      {
       "output_type": "stream",
       "stream": "stderr",
       "text": [
        "INFO:__main__:We reached last page\n"
       ]
      },
      {
       "output_type": "stream",
       "stream": "stderr",
       "text": [
        "[2015-04-05 19:20:21,406] #################################### Option 2 ######################################\n"
       ]
      },
      {
       "output_type": "stream",
       "stream": "stderr",
       "text": [
        "INFO:__main__:#################################### Option 2 ######################################\n"
       ]
      },
      {
       "output_type": "stream",
       "stream": "stderr",
       "text": [
        "[2015-04-05 19:20:21,515] #################################### Option 3 ######################################\n"
       ]
      },
      {
       "output_type": "stream",
       "stream": "stderr",
       "text": [
        "INFO:__main__:#################################### Option 3 ######################################\n"
       ]
      },
      {
       "output_type": "stream",
       "stream": "stderr",
       "text": [
        "[2015-04-05 19:20:21,717] We reached last page\n"
       ]
      },
      {
       "output_type": "stream",
       "stream": "stderr",
       "text": [
        "INFO:__main__:We reached last page\n"
       ]
      },
      {
       "output_type": "stream",
       "stream": "stderr",
       "text": [
        "[2015-04-05 19:20:23,622] #################################### Option 2 ######################################\n"
       ]
      },
      {
       "output_type": "stream",
       "stream": "stderr",
       "text": [
        "INFO:__main__:#################################### Option 2 ######################################\n"
       ]
      },
      {
       "output_type": "stream",
       "stream": "stderr",
       "text": [
        "[2015-04-05 19:20:23,736] #################################### Option 3 ######################################\n"
       ]
      },
      {
       "output_type": "stream",
       "stream": "stderr",
       "text": [
        "INFO:__main__:#################################### Option 3 ######################################\n"
       ]
      },
      {
       "output_type": "stream",
       "stream": "stderr",
       "text": [
        "[2015-04-05 19:20:23,975] We reached last page\n"
       ]
      },
      {
       "output_type": "stream",
       "stream": "stderr",
       "text": [
        "INFO:__main__:We reached last page\n"
       ]
      },
      {
       "output_type": "stream",
       "stream": "stdout",
       "text": [
        "\n",
        "17"
       ]
      },
      {
       "output_type": "stream",
       "stream": "stdout",
       "text": [
        "\n"
       ]
      }
     ],
     "prompt_number": 7
    },
    {
     "cell_type": "code",
     "collapsed": false,
     "input": [
      "#print all_hotel_urls\n",
      "from collections import defaultdict\n",
      "def parse_hotel_stats(hotel_url_list):\n",
      "    \"\"\"Scrapes the stats for each hotel\n",
      "    Parameters\n",
      "    ----------\n",
      "    hotel_url_list: lst\n",
      "    \n",
      "    Returns\n",
      "    -------\n",
      "    DataFrame: pd.DataFrame\n",
      "    \"\"\"\n",
      "    data=defaultdict(list)\n",
      "    for i in range(0, len(hotel_url_list)):\n",
      "        url = base_url+hotel_url_list[i]\n",
      "        headers = {'User-Agent': user_agent}\n",
      "        response = requests.get(url, headers=headers)\n",
      "        html = response.text.encode('utf-8')\n",
      "        soup = BeautifulSoup(html)\n",
      "        \n",
      "        \n",
      "        name_header=soup.find('div', {'class': 'brandArea'})\n",
      "        hotel_name=name_header.find('h1', {'class':'header   '}).find(text=True)\n",
      "        data['hotel_name'].append(hotel_name)\n",
      "        \n",
      "        ratings=soup.findAll('div', {'class': 'wrap row'})\n",
      "        rating_list=[]\n",
      "        for rate in ratings:\n",
      "            rating_list.append(rate.find('span', {'class':'compositeCount'}).find(text=True))\n",
      "            \n",
      "        data['excellent_rating'].append(rating_list[0])\n",
      "        data['very_good_rating'].append(rating_list[1])\n",
      "        data['average_rating'].append(rating_list[2])\n",
      "        data['poor_rating'].append(rating_list[3])\n",
      "        data['terrible_rating'].append(rating_list[4])\n",
      "        \n",
      "        family=soup.find('div', {'class': 'segment segment1'})\n",
      "        family_count=family.find('div', {'class': 'value'}).find(text=True)\n",
      "        data['family_count'].append(family_count)\n",
      "        \n",
      "        couples = soup.find('div', {'class': 'segment segment2'})\n",
      "        couples_count=couples.find('div', {'class': 'value'}).find(text=True)\n",
      "        data['couples_count'].append(couples_count)\n",
      "        \n",
      "        solo = soup.find('div', {'class': 'segment segment3'})\n",
      "        solo_count = solo.find('div', {'class': 'value'}).find(text=True)\n",
      "        data['solo_count'].append(solo_count)\n",
      "        \n",
      "        business = soup.find('div', {'class': 'segment segment4'})\n",
      "        business_count=business.find('div', {'class': 'value'}).find(text=True)\n",
      "        data['business_count'].append(business_count)\n",
      "        \n",
      "        summary_box = soup.find('div', {'class' : 'wrap subrating'})\n",
      "        boxes = summary_box.findAll('span', {'class' : 'rate sprite-rating_s rating_s'})\n",
      "        stars_list=[]\n",
      "        for box in boxes:\n",
      "            num_stars=box.find('img')\n",
      "            stars_list.append(num_stars['alt'].split()[0])\n",
      "            \n",
      "        data['sleep_quality'].append(stars_list[0])\n",
      "        data['location'].append(stars_list[1])\n",
      "        data['rooms'].append(stars_list[2])\n",
      "        data['service'].append(stars_list[3])\n",
      "        data['value'].append(stars_list[4])\n",
      "        data['cleanliness'].append(stars_list[5])\n",
      "        time.sleep(2)\n",
      "    df = pd.DataFrame(data)\n",
      "    return df\n",
      "\n",
      "        \n",
      "minilist= ['Hotel_Review-g60745-d216999-Reviews-Americas_Best_Value_Inn-Boston_Massachusetts.html',\n",
      "           'Hotel_Review-g60745-d268207-Reviews-Residence_Inn_by_Marriott_Boston_Harbor_on_Tudor_Wharf-Boston_Massachusetts.html']    \n",
      "    \n",
      "bhotel=parse_hotel_stats(all_hotel_urls)\n",
      "bhotel.head()\n",
      "bhotel.index=bhotel.hotel_name\n",
      "bhotel =bhotel.drop(['hotel_name'], axis =1)"
     ],
     "language": "python",
     "metadata": {},
     "outputs": [],
     "prompt_number": 8
    },
    {
     "cell_type": "markdown",
     "metadata": {},
     "source": [
      "** Task 2 (30 pts)**\n",
      "\n",
      "Then, for each hotel that our search returns, we will \"click\" (with the code of course) on it and scrape the information below.\n",
      "\n",
      "![Information to be scraped](hotel_info.png)\n",
      "\n",
      "Of course, feel free to collect even more data if you want. "
     ]
    },
    {
     "cell_type": "code",
     "collapsed": false,
     "input": [
      "bhotel.head()"
     ],
     "language": "python",
     "metadata": {},
     "outputs": [
      {
       "html": [
        "<div style=\"max-height:1000px;max-width:1500px;overflow:auto;\">\n",
        "<table border=\"1\" class=\"dataframe\">\n",
        "  <thead>\n",
        "    <tr style=\"text-align: right;\">\n",
        "      <th></th>\n",
        "      <th>average_rating</th>\n",
        "      <th>business_count</th>\n",
        "      <th>cleanliness</th>\n",
        "      <th>couples_count</th>\n",
        "      <th>excellent_rating</th>\n",
        "      <th>family_count</th>\n",
        "      <th>location</th>\n",
        "      <th>poor_rating</th>\n",
        "      <th>rooms</th>\n",
        "      <th>service</th>\n",
        "      <th>sleep_quality</th>\n",
        "      <th>solo_count</th>\n",
        "      <th>terrible_rating</th>\n",
        "      <th>value</th>\n",
        "      <th>very_good_rating</th>\n",
        "    </tr>\n",
        "    <tr>\n",
        "      <th>hotel_name</th>\n",
        "      <th></th>\n",
        "      <th></th>\n",
        "      <th></th>\n",
        "      <th></th>\n",
        "      <th></th>\n",
        "      <th></th>\n",
        "      <th></th>\n",
        "      <th></th>\n",
        "      <th></th>\n",
        "      <th></th>\n",
        "      <th></th>\n",
        "      <th></th>\n",
        "      <th></th>\n",
        "      <th></th>\n",
        "      <th></th>\n",
        "    </tr>\n",
        "  </thead>\n",
        "  <tbody>\n",
        "    <tr>\n",
        "      <th>Seaport Boston Hotel</th>\n",
        "      <td>  98</td>\n",
        "      <td> 1,111</td>\n",
        "      <td>   5</td>\n",
        "      <td> 551</td>\n",
        "      <td> 1,880</td>\n",
        "      <td> 461</td>\n",
        "      <td> 4.5</td>\n",
        "      <td> 33</td>\n",
        "      <td> 4.5</td>\n",
        "      <td> 4.5</td>\n",
        "      <td> 4.5</td>\n",
        "      <td> 108</td>\n",
        "      <td> 31</td>\n",
        "      <td> 4.5</td>\n",
        "      <td> 506</td>\n",
        "    </tr>\n",
        "    <tr>\n",
        "      <th>Hyatt Boston Harbor Hotel</th>\n",
        "      <td> 166</td>\n",
        "      <td>   329</td>\n",
        "      <td> 4.5</td>\n",
        "      <td> 335</td>\n",
        "      <td>   479</td>\n",
        "      <td> 239</td>\n",
        "      <td>   4</td>\n",
        "      <td> 67</td>\n",
        "      <td>   4</td>\n",
        "      <td> 4.5</td>\n",
        "      <td> 4.5</td>\n",
        "      <td> 105</td>\n",
        "      <td> 34</td>\n",
        "      <td>   4</td>\n",
        "      <td> 424</td>\n",
        "    </tr>\n",
        "    <tr>\n",
        "      <th>Courtyard by Marriott Boston Copley Square Hotel</th>\n",
        "      <td>  43</td>\n",
        "      <td>   300</td>\n",
        "      <td> 4.5</td>\n",
        "      <td> 222</td>\n",
        "      <td>   628</td>\n",
        "      <td> 229</td>\n",
        "      <td> 4.5</td>\n",
        "      <td>  8</td>\n",
        "      <td> 4.5</td>\n",
        "      <td> 4.5</td>\n",
        "      <td>   5</td>\n",
        "      <td>  70</td>\n",
        "      <td> 11</td>\n",
        "      <td> 4.5</td>\n",
        "      <td> 274</td>\n",
        "    </tr>\n",
        "    <tr>\n",
        "      <th>Nine Zero Hotel - a Kimpton Hotel, Boston</th>\n",
        "      <td> 105</td>\n",
        "      <td>   324</td>\n",
        "      <td> 4.5</td>\n",
        "      <td> 830</td>\n",
        "      <td> 1,179</td>\n",
        "      <td> 328</td>\n",
        "      <td> 4.5</td>\n",
        "      <td> 30</td>\n",
        "      <td> 4.5</td>\n",
        "      <td> 4.5</td>\n",
        "      <td>   5</td>\n",
        "      <td> 119</td>\n",
        "      <td> 19</td>\n",
        "      <td>   4</td>\n",
        "      <td> 496</td>\n",
        "    </tr>\n",
        "    <tr>\n",
        "      <th>The Westin Copley Place Hotel, Boston</th>\n",
        "      <td> 276</td>\n",
        "      <td>   774</td>\n",
        "      <td> 4.5</td>\n",
        "      <td> 495</td>\n",
        "      <td> 1,071</td>\n",
        "      <td> 546</td>\n",
        "      <td> 4.5</td>\n",
        "      <td> 93</td>\n",
        "      <td> 4.5</td>\n",
        "      <td> 4.5</td>\n",
        "      <td>   5</td>\n",
        "      <td> 103</td>\n",
        "      <td> 34</td>\n",
        "      <td>   4</td>\n",
        "      <td> 832</td>\n",
        "    </tr>\n",
        "  </tbody>\n",
        "</table>\n",
        "</div>"
       ],
       "metadata": {},
       "output_type": "pyout",
       "prompt_number": 9,
       "text": [
        "                                                 average_rating  \\\n",
        "hotel_name                                                        \n",
        "Seaport Boston Hotel                                         98   \n",
        "Hyatt Boston Harbor Hotel                                   166   \n",
        "Courtyard by Marriott Boston Copley Square Hotel             43   \n",
        "Nine Zero Hotel - a Kimpton Hotel, Boston                   105   \n",
        "The Westin Copley Place Hotel, Boston                       276   \n",
        "\n",
        "                                                 business_count cleanliness  \\\n",
        "hotel_name                                                                    \n",
        "Seaport Boston Hotel                                      1,111           5   \n",
        "Hyatt Boston Harbor Hotel                                   329         4.5   \n",
        "Courtyard by Marriott Boston Copley Square Hotel            300         4.5   \n",
        "Nine Zero Hotel - a Kimpton Hotel, Boston                   324         4.5   \n",
        "The Westin Copley Place Hotel, Boston                       774         4.5   \n",
        "\n",
        "                                                 couples_count  \\\n",
        "hotel_name                                                       \n",
        "Seaport Boston Hotel                                       551   \n",
        "Hyatt Boston Harbor Hotel                                  335   \n",
        "Courtyard by Marriott Boston Copley Square Hotel           222   \n",
        "Nine Zero Hotel - a Kimpton Hotel, Boston                  830   \n",
        "The Westin Copley Place Hotel, Boston                      495   \n",
        "\n",
        "                                                 excellent_rating  \\\n",
        "hotel_name                                                          \n",
        "Seaport Boston Hotel                                        1,880   \n",
        "Hyatt Boston Harbor Hotel                                     479   \n",
        "Courtyard by Marriott Boston Copley Square Hotel              628   \n",
        "Nine Zero Hotel - a Kimpton Hotel, Boston                   1,179   \n",
        "The Westin Copley Place Hotel, Boston                       1,071   \n",
        "\n",
        "                                                 family_count location  \\\n",
        "hotel_name                                                               \n",
        "Seaport Boston Hotel                                      461      4.5   \n",
        "Hyatt Boston Harbor Hotel                                 239        4   \n",
        "Courtyard by Marriott Boston Copley Square Hotel          229      4.5   \n",
        "Nine Zero Hotel - a Kimpton Hotel, Boston                 328      4.5   \n",
        "The Westin Copley Place Hotel, Boston                     546      4.5   \n",
        "\n",
        "                                                 poor_rating rooms service  \\\n",
        "hotel_name                                                                   \n",
        "Seaport Boston Hotel                                      33   4.5     4.5   \n",
        "Hyatt Boston Harbor Hotel                                 67     4     4.5   \n",
        "Courtyard by Marriott Boston Copley Square Hotel           8   4.5     4.5   \n",
        "Nine Zero Hotel - a Kimpton Hotel, Boston                 30   4.5     4.5   \n",
        "The Westin Copley Place Hotel, Boston                     93   4.5     4.5   \n",
        "\n",
        "                                                 sleep_quality solo_count  \\\n",
        "hotel_name                                                                  \n",
        "Seaport Boston Hotel                                       4.5        108   \n",
        "Hyatt Boston Harbor Hotel                                  4.5        105   \n",
        "Courtyard by Marriott Boston Copley Square Hotel             5         70   \n",
        "Nine Zero Hotel - a Kimpton Hotel, Boston                    5        119   \n",
        "The Westin Copley Place Hotel, Boston                        5        103   \n",
        "\n",
        "                                                 terrible_rating value  \\\n",
        "hotel_name                                                               \n",
        "Seaport Boston Hotel                                          31   4.5   \n",
        "Hyatt Boston Harbor Hotel                                     34     4   \n",
        "Courtyard by Marriott Boston Copley Square Hotel              11   4.5   \n",
        "Nine Zero Hotel - a Kimpton Hotel, Boston                     19     4   \n",
        "The Westin Copley Place Hotel, Boston                         34     4   \n",
        "\n",
        "                                                 very_good_rating  \n",
        "hotel_name                                                         \n",
        "Seaport Boston Hotel                                          506  \n",
        "Hyatt Boston Harbor Hotel                                     424  \n",
        "Courtyard by Marriott Boston Copley Square Hotel              274  \n",
        "Nine Zero Hotel - a Kimpton Hotel, Boston                     496  \n",
        "The Westin Copley Place Hotel, Boston                         832  "
       ]
      }
     ],
     "prompt_number": 9
    },
    {
     "cell_type": "code",
     "collapsed": false,
     "input": [
      "bhotel = bhotel.convert_objects(convert_numeric=True)\n",
      "bhotel.fillna(0, inplace = True)\n",
      "bhotel['rating_average']= ((bhotel['terrible_rating']*1) + (bhotel['poor_rating']*2) + (bhotel['average_rating']*3) + \n",
      "                           (bhotel['very_good_rating']*4) + (bhotel['excellent_rating']*5))\n",
      "bhotel['rating_average'] = bhotel['rating_average']/(bhotel['terrible_rating'] + bhotel['poor_rating'] + bhotel['average_rating'] + bhotel['very_good_rating'] + bhotel['excellent_rating'])\n",
      "for idx, row in bhotel.iterrows():\n",
      "    if row.rating_average > 4.5:\n",
      "        bhotel.ix[idx,'group']=5\n",
      "    elif 3.5 < row.rating_average <=4.5:\n",
      "        bhotel.ix[idx,'group'] = 4\n",
      "    elif 2.5 < row.rating_average <=3.5:\n",
      "        bhotel.ix[idx,'group'] = 3\n",
      "    else:\n",
      "        bhotel.ix[idx,'group'] = 2\n",
      "\n",
      "bhotel.head()"
     ],
     "language": "python",
     "metadata": {},
     "outputs": [
      {
       "html": [
        "<div style=\"max-height:1000px;max-width:1500px;overflow:auto;\">\n",
        "<table border=\"1\" class=\"dataframe\">\n",
        "  <thead>\n",
        "    <tr style=\"text-align: right;\">\n",
        "      <th></th>\n",
        "      <th>average_rating</th>\n",
        "      <th>business_count</th>\n",
        "      <th>cleanliness</th>\n",
        "      <th>couples_count</th>\n",
        "      <th>excellent_rating</th>\n",
        "      <th>family_count</th>\n",
        "      <th>location</th>\n",
        "      <th>poor_rating</th>\n",
        "      <th>rooms</th>\n",
        "      <th>service</th>\n",
        "      <th>sleep_quality</th>\n",
        "      <th>solo_count</th>\n",
        "      <th>terrible_rating</th>\n",
        "      <th>value</th>\n",
        "      <th>very_good_rating</th>\n",
        "      <th>rating_average</th>\n",
        "      <th>group</th>\n",
        "    </tr>\n",
        "    <tr>\n",
        "      <th>hotel_name</th>\n",
        "      <th></th>\n",
        "      <th></th>\n",
        "      <th></th>\n",
        "      <th></th>\n",
        "      <th></th>\n",
        "      <th></th>\n",
        "      <th></th>\n",
        "      <th></th>\n",
        "      <th></th>\n",
        "      <th></th>\n",
        "      <th></th>\n",
        "      <th></th>\n",
        "      <th></th>\n",
        "      <th></th>\n",
        "      <th></th>\n",
        "      <th></th>\n",
        "      <th></th>\n",
        "    </tr>\n",
        "  </thead>\n",
        "  <tbody>\n",
        "    <tr>\n",
        "      <th>Seaport Boston Hotel</th>\n",
        "      <td>  98</td>\n",
        "      <td>   0</td>\n",
        "      <td> 5.0</td>\n",
        "      <td> 551</td>\n",
        "      <td>   0</td>\n",
        "      <td> 461</td>\n",
        "      <td> 4.5</td>\n",
        "      <td> 33</td>\n",
        "      <td> 4.5</td>\n",
        "      <td> 4.5</td>\n",
        "      <td> 4.5</td>\n",
        "      <td> 108</td>\n",
        "      <td> 31</td>\n",
        "      <td> 4.5</td>\n",
        "      <td> 506</td>\n",
        "      <td> 3.615269</td>\n",
        "      <td> 4</td>\n",
        "    </tr>\n",
        "    <tr>\n",
        "      <th>Hyatt Boston Harbor Hotel</th>\n",
        "      <td> 166</td>\n",
        "      <td> 329</td>\n",
        "      <td> 4.5</td>\n",
        "      <td> 335</td>\n",
        "      <td> 479</td>\n",
        "      <td> 239</td>\n",
        "      <td> 4.0</td>\n",
        "      <td> 67</td>\n",
        "      <td> 4.0</td>\n",
        "      <td> 4.5</td>\n",
        "      <td> 4.5</td>\n",
        "      <td> 105</td>\n",
        "      <td> 34</td>\n",
        "      <td> 4.0</td>\n",
        "      <td> 424</td>\n",
        "      <td> 4.065812</td>\n",
        "      <td> 4</td>\n",
        "    </tr>\n",
        "    <tr>\n",
        "      <th>Courtyard by Marriott Boston Copley Square Hotel</th>\n",
        "      <td>  43</td>\n",
        "      <td> 300</td>\n",
        "      <td> 4.5</td>\n",
        "      <td> 222</td>\n",
        "      <td> 628</td>\n",
        "      <td> 229</td>\n",
        "      <td> 4.5</td>\n",
        "      <td>  8</td>\n",
        "      <td> 4.5</td>\n",
        "      <td> 4.5</td>\n",
        "      <td> 5.0</td>\n",
        "      <td>  70</td>\n",
        "      <td> 11</td>\n",
        "      <td> 4.5</td>\n",
        "      <td> 274</td>\n",
        "      <td> 4.556017</td>\n",
        "      <td> 5</td>\n",
        "    </tr>\n",
        "    <tr>\n",
        "      <th>Nine Zero Hotel - a Kimpton Hotel, Boston</th>\n",
        "      <td> 105</td>\n",
        "      <td> 324</td>\n",
        "      <td> 4.5</td>\n",
        "      <td> 830</td>\n",
        "      <td>   0</td>\n",
        "      <td> 328</td>\n",
        "      <td> 4.5</td>\n",
        "      <td> 30</td>\n",
        "      <td> 4.5</td>\n",
        "      <td> 4.5</td>\n",
        "      <td> 5.0</td>\n",
        "      <td> 119</td>\n",
        "      <td> 19</td>\n",
        "      <td> 4.0</td>\n",
        "      <td> 496</td>\n",
        "      <td> 3.658462</td>\n",
        "      <td> 4</td>\n",
        "    </tr>\n",
        "    <tr>\n",
        "      <th>The Westin Copley Place Hotel, Boston</th>\n",
        "      <td> 276</td>\n",
        "      <td> 774</td>\n",
        "      <td> 4.5</td>\n",
        "      <td> 495</td>\n",
        "      <td>   0</td>\n",
        "      <td> 546</td>\n",
        "      <td> 4.5</td>\n",
        "      <td> 93</td>\n",
        "      <td> 4.5</td>\n",
        "      <td> 4.5</td>\n",
        "      <td> 5.0</td>\n",
        "      <td> 103</td>\n",
        "      <td> 34</td>\n",
        "      <td> 4.0</td>\n",
        "      <td> 832</td>\n",
        "      <td> 3.543320</td>\n",
        "      <td> 4</td>\n",
        "    </tr>\n",
        "  </tbody>\n",
        "</table>\n",
        "</div>"
       ],
       "metadata": {},
       "output_type": "pyout",
       "prompt_number": 10,
       "text": [
        "                                                  average_rating  \\\n",
        "hotel_name                                                         \n",
        "Seaport Boston Hotel                                          98   \n",
        "Hyatt Boston Harbor Hotel                                    166   \n",
        "Courtyard by Marriott Boston Copley Square Hotel              43   \n",
        "Nine Zero Hotel - a Kimpton Hotel, Boston                    105   \n",
        "The Westin Copley Place Hotel, Boston                        276   \n",
        "\n",
        "                                                  business_count  cleanliness  \\\n",
        "hotel_name                                                                      \n",
        "Seaport Boston Hotel                                           0          5.0   \n",
        "Hyatt Boston Harbor Hotel                                    329          4.5   \n",
        "Courtyard by Marriott Boston Copley Square Hotel             300          4.5   \n",
        "Nine Zero Hotel - a Kimpton Hotel, Boston                    324          4.5   \n",
        "The Westin Copley Place Hotel, Boston                        774          4.5   \n",
        "\n",
        "                                                  couples_count  \\\n",
        "hotel_name                                                        \n",
        "Seaport Boston Hotel                                        551   \n",
        "Hyatt Boston Harbor Hotel                                   335   \n",
        "Courtyard by Marriott Boston Copley Square Hotel            222   \n",
        "Nine Zero Hotel - a Kimpton Hotel, Boston                   830   \n",
        "The Westin Copley Place Hotel, Boston                       495   \n",
        "\n",
        "                                                  excellent_rating  \\\n",
        "hotel_name                                                           \n",
        "Seaport Boston Hotel                                             0   \n",
        "Hyatt Boston Harbor Hotel                                      479   \n",
        "Courtyard by Marriott Boston Copley Square Hotel               628   \n",
        "Nine Zero Hotel - a Kimpton Hotel, Boston                        0   \n",
        "The Westin Copley Place Hotel, Boston                            0   \n",
        "\n",
        "                                                  family_count  location  \\\n",
        "hotel_name                                                                 \n",
        "Seaport Boston Hotel                                       461       4.5   \n",
        "Hyatt Boston Harbor Hotel                                  239       4.0   \n",
        "Courtyard by Marriott Boston Copley Square Hotel           229       4.5   \n",
        "Nine Zero Hotel - a Kimpton Hotel, Boston                  328       4.5   \n",
        "The Westin Copley Place Hotel, Boston                      546       4.5   \n",
        "\n",
        "                                                  poor_rating  rooms  service  \\\n",
        "hotel_name                                                                      \n",
        "Seaport Boston Hotel                                       33    4.5      4.5   \n",
        "Hyatt Boston Harbor Hotel                                  67    4.0      4.5   \n",
        "Courtyard by Marriott Boston Copley Square Hotel            8    4.5      4.5   \n",
        "Nine Zero Hotel - a Kimpton Hotel, Boston                  30    4.5      4.5   \n",
        "The Westin Copley Place Hotel, Boston                      93    4.5      4.5   \n",
        "\n",
        "                                                  sleep_quality  solo_count  \\\n",
        "hotel_name                                                                    \n",
        "Seaport Boston Hotel                                        4.5         108   \n",
        "Hyatt Boston Harbor Hotel                                   4.5         105   \n",
        "Courtyard by Marriott Boston Copley Square Hotel            5.0          70   \n",
        "Nine Zero Hotel - a Kimpton Hotel, Boston                   5.0         119   \n",
        "The Westin Copley Place Hotel, Boston                       5.0         103   \n",
        "\n",
        "                                                  terrible_rating  value  \\\n",
        "hotel_name                                                                 \n",
        "Seaport Boston Hotel                                           31    4.5   \n",
        "Hyatt Boston Harbor Hotel                                      34    4.0   \n",
        "Courtyard by Marriott Boston Copley Square Hotel               11    4.5   \n",
        "Nine Zero Hotel - a Kimpton Hotel, Boston                      19    4.0   \n",
        "The Westin Copley Place Hotel, Boston                          34    4.0   \n",
        "\n",
        "                                                  very_good_rating  \\\n",
        "hotel_name                                                           \n",
        "Seaport Boston Hotel                                           506   \n",
        "Hyatt Boston Harbor Hotel                                      424   \n",
        "Courtyard by Marriott Boston Copley Square Hotel               274   \n",
        "Nine Zero Hotel - a Kimpton Hotel, Boston                      496   \n",
        "The Westin Copley Place Hotel, Boston                          832   \n",
        "\n",
        "                                                  rating_average  group  \n",
        "hotel_name                                                               \n",
        "Seaport Boston Hotel                                    3.615269      4  \n",
        "Hyatt Boston Harbor Hotel                               4.065812      4  \n",
        "Courtyard by Marriott Boston Copley Square Hotel        4.556017      5  \n",
        "Nine Zero Hotel - a Kimpton Hotel, Boston               3.658462      4  \n",
        "The Westin Copley Place Hotel, Boston                   3.543320      4  "
       ]
      }
     ],
     "prompt_number": 10
    },
    {
     "cell_type": "markdown",
     "metadata": {},
     "source": [
      "** Task 3 (20 pts) **\n",
      "\n",
      "Now, we will use regression to analyze this information. First, we will fit a linear regression model that predicts the average rating. For example, for the hotel above, the average rating is\n",
      "\n",
      "$$ \\text{AVG_SCORE} = \\frac{1*31 + 2*33 + 3*98 + 4*504 + 5*1861}{2527}$$\n",
      "\n",
      "Use the model to analyze the important factors that decide the $\\text{AVG_SCORE}$."
     ]
    },
    {
     "cell_type": "code",
     "collapsed": false,
     "input": [
      "print len(bhotel.columns)"
     ],
     "language": "python",
     "metadata": {},
     "outputs": [
      {
       "output_type": "stream",
       "stream": "stdout",
       "text": [
        "17\n"
       ]
      }
     ],
     "prompt_number": 56
    },
    {
     "cell_type": "code",
     "collapsed": false,
     "input": [
      "likelihoods = []\n",
      "count = 1\n",
      "for i in range(len(bhotel.columns)-1):\n",
      "    i_1 = count-i\n",
      "    i_2 = count + 1\n",
      "    model = sm.OLS(bhotel.average_rating, bhotel.iloc[:,i_1:i_2])\n",
      "    result = model.fit()\n",
      "    N = result.nobs\n",
      "    SSR = result.ssr\n",
      "    s2 = SSR / N\n",
      "    L = ( 1.0/np.sqrt(2*np.pi*s2) ) ** N * np.exp( -SSR/(s2*2.0) )\n",
      "    likelihoods.append(np.log(L))\n",
      "    count += 1\n",
      "'''\n",
      "print results.summary()\n",
      "print \"Confidence Intervals:\", results.conf_int()\n",
      "print \"Parameters:\", results.params\n",
      "'''\n",
      "print max(likelihoods)\n",
      "# the result is the max log-likelihood value in the list of all the log likelihood values\n",
      "# when considering each regression in turn (based on each feature). The first column, which scored the lowest, is number\n",
      "# of business reviews (-459.10399013). The Fact that the second-to-last and last columns score very well makes sense, since\n",
      "# their value is actually just a restructuring of the \"average score\"\n",
      "print likelihoods\n",
      "print bhotel.columns\n",
      "# it looks like the best predictor (which is related to services) is sleep quality, which makes sense since that's basically\n",
      "# what you're paying for!"
     ],
     "language": "python",
     "metadata": {},
     "outputs": [
      {
       "output_type": "stream",
       "stream": "stdout",
       "text": [
        "-394.684836424\n",
        "[-459.10399013045662, -452.39526121227664, -452.20174695927574, -451.39471217527176, -445.28786386270701, -443.74497736297309, -443.58404430833838, -439.40598368477174, -438.78289614435118, -437.80252028903482, -435.97429718191978, -413.17123734088159, -412.83456092270012, -401.06163550491272, -398.02906529005759, -394.68483642350452]\n",
        "Index([u'average_rating', u'business_count', u'cleanliness', u'couples_count', u'excellent_rating', u'family_count', u'location', u'poor_rating', u'rooms', u'service', u'sleep_quality', u'solo_count', u'terrible_rating', u'value', u'very_good_rating', u'rating_average', u'group'], dtype='object')\n"
       ]
      }
     ],
     "prompt_number": 79
    },
    {
     "cell_type": "code",
     "collapsed": false,
     "input": [
      "plt.scatter(bhotel.iloc[:,1:2], bhotel.average_rating, c=\"slategray\")\n",
      "plt.plot(bhotel.iloc[:,1:2],results.predict(bhotel.iloc[:,1:2]), c='seagreen', alpha=0.8)"
     ],
     "language": "python",
     "metadata": {},
     "outputs": [
      {
       "metadata": {},
       "output_type": "pyout",
       "prompt_number": 35,
       "text": [
        "[<matplotlib.lines.Line2D at 0x1341b9710>]"
       ]
      },
      {
       "metadata": {},
       "output_type": "display_data",
       "png": "[encoded data removed]",
       "text": [
        "<matplotlib.figure.Figure at 0x10ec66810>"
       ]
      }
     ],
     "prompt_number": 35
    },
    {
     "cell_type": "markdown",
     "metadata": {},
     "source": [
      "** Task 4 (30 pts) **\n",
      "\n",
      "Finally, we will use logistic regression to decide if a hotel is _excellent_ or not. We classify a hotel as _excellent_ if more than **60%** of its ratings are 5 stars. This is a binary attribute on which we can fit a logistic regression model. As before, use the model to analyze the data.\n",
      "\n",
      "-------"
     ]
    },
    {
     "cell_type": "code",
     "collapsed": false,
     "input": [],
     "language": "python",
     "metadata": {},
     "outputs": []
    },
    {
     "cell_type": "code",
     "collapsed": false,
     "input": [
      "#not sure why this is a logistic regression problem? seems like you could just do a for loop with the info in the above window?\n",
      "#Maybe he wants us to create a fake hotel and have our function return whether it's excellent, this seems more likely"
     ],
     "language": "python",
     "metadata": {},
     "outputs": []
    },
    {
     "cell_type": "markdown",
     "metadata": {},
     "source": [
      "In order to use code from a Python script file, we need to put that file in the same folder as the notebook and import it as a library. Then, we will be able to access it's functions. For example, in the case of the lecture code, we could do the following:\n",
      "\n",
      "``` python\n",
      "import scrape_solution as scrape\n",
      "\n",
      "scrape.get_city_page()\n",
      "```\n",
      "\n",
      "Of course, you might need to modify and restructure the code so that it returns what you need."
     ]
    },
    {
     "cell_type": "markdown",
     "metadata": {},
     "source": [
      "----"
     ]
    },
    {
     "cell_type": "code",
     "collapsed": false,
     "input": [],
     "language": "python",
     "metadata": {},
     "outputs": []
    },
    {
     "cell_type": "code",
     "collapsed": false,
     "input": [],
     "language": "python",
     "metadata": {},
     "outputs": []
    },
    {
     "cell_type": "code",
     "collapsed": false,
     "input": [],
     "language": "python",
     "metadata": {},
     "outputs": []
    },
    {
     "cell_type": "code",
     "collapsed": false,
     "input": [],
     "language": "python",
     "metadata": {},
     "outputs": []
    },
    {
     "cell_type": "code",
     "collapsed": false,
     "input": [
      "# Code for setting the style of the notebook\n",
      "from IPython.core.display import HTML\n",
      "def css_styling():\n",
      "    styles = open(\"../../theme/custom.css\", \"r\").read()\n",
      "    return HTML(styles)\n",
      "css_styling()"
     ],
     "language": "python",
     "metadata": {},
     "outputs": [
      {
       "html": [
        "<link href='http://fonts.googleapis.com/css?family=EB+Garamond' rel='stylesheet' type='text/css'>\n",
        "<link href='http://fonts.googleapis.com/css?family=Alegreya+Sans:100,300,400,500,700,800,900,100italic,300italic,400italic,500italic,700italic,800italic,900italic' rel='stylesheet' type='text/css'>\n",
        "<link href='http://fonts.googleapis.com/css?family=Source+Code+Pro:300,400' rel='stylesheet' type='text/css'>\n",
        "<style>\n",
        "    @font-face {\n",
        "        font-family: \"Computer Modern\";\n",
        "        src: url('http://mirrors.ctan.org/fonts/cm-unicode/fonts/otf/cmunss.otf');\n",
        "    }\n",
        "    .code_cell {\n",
        "        width: 105ex !important ;\n",
        "        margin-bottom: 15px !important;\n",
        "    }\n",
        "    div.cell {\n",
        "        margin-left: auto;\n",
        "        margin-right: auto;\n",
        "        width: 70%;\n",
        "    }    \n",
        "    div.cell.selected {\n",
        "        border: thin rgba(171, 171, 171, 0.5) dashed;\n",
        "    }\n",
        "    h1 {\n",
        "        font-family: 'Alegreya Sans', sans-serif;\n",
        "    }\n",
        "    h2 {\n",
        "        font-family: 'EB Garamond', serif;\n",
        "    }\n",
        "    h3 {\n",
        "        font-family: 'EB Garamond', serif;\n",
        "        margin-top:12px;\n",
        "        margin-bottom: 3px;\n",
        "    }\n",
        "    h4 {\n",
        "        font-family: 'EB Garamond', serif;\n",
        "    }\n",
        "    h5 {\n",
        "        font-family: 'Alegreya Sans', sans-serif;\n",
        "    }\n",
        "    div.text_cell_render {\n",
        "        font-family: 'EB Garamond',Computer Modern, \"Helvetica Neue\", Arial, Helvetica, Geneva, sans-serif;\n",
        "        line-height: 145%;\n",
        "        font-size: 140%;\n",
        "    }\n",
        "    div.input_area {\n",
        "        border-color: rgba(0,0,0,0.10) !important;\n",
        "        background: #fafafa;\n",
        "    }\n",
        "    .CodeMirror {\n",
        "            font-family: \"Source Code Pro\";\n",
        "            font-size: 90%;\n",
        "    }\n",
        "    .prompt {\n",
        "        display: None;\n",
        "    }\n",
        "    .output {\n",
        "        padding-left: 50px;\n",
        "        padding-top: 5px;\n",
        "    }\n",
        "    .output_wrapper {\n",
        "        padding-left: 5px;\n",
        "        padding-top: inherit;\n",
        "    }\n",
        "    div.output_scroll {\n",
        "        width: inherit;\n",
        "    }\n",
        "    .inner_cell {\n",
        "        padding-left: 5px;\n",
        "    }\n",
        "    .text_cell_render h1 {\n",
        "        font-weight: 200;\n",
        "        font-size: 50pt;\n",
        "        line-height: 100%;\n",
        "        color:#CD2305;\n",
        "        margin-bottom: 0.5em;\n",
        "        margin-top: 0.5em;\n",
        "        display: block;\n",
        "    }\n",
        "    .text_cell_render h5 {\n",
        "        font-weight: 300;\n",
        "        font-size: 16pt;\n",
        "        color: #CD2305;\n",
        "        font-style: italic;\n",
        "        margin-bottom: .5em;\n",
        "        margin-top: 0.5em;\n",
        "        display: block;\n",
        "    }\n",
        "    .warning {\n",
        "        color: rgb( 240, 20, 20 )\n",
        "        }  \n",
        "</style>\n",
        "<script>\n",
        "    MathJax.Hub.Config({\n",
        "                        TeX: {\n",
        "                           extensions: [\"AMSmath.js\"]\n",
        "                           },\n",
        "                tex2jax: {\n",
        "                    inlineMath: [ ['$','$'], [\"\\\\(\",\"\\\\)\"] ],\n",
        "                    displayMath: [ ['$$','$$'], [\"\\\\[\",\"\\\\]\"] ]\n",
        "                },\n",
        "                displayAlign: 'center', // Change this to 'center' to center equations.\n",
        "                \"HTML-CSS\": {\n",
        "                    styles: {'.MathJax_Display': {\"margin\": 4}}\n",
        "                }\n",
        "        });\n",
        "</script>"
       ],
       "metadata": {},
       "output_type": "pyout",
       "prompt_number": 2,
       "text": [
        "<IPython.core.display.HTML at 0x3a6e978>"
       ]
      }
     ],
     "prompt_number": 2
    }
   ],
   "metadata": {}
  }
 ]
}